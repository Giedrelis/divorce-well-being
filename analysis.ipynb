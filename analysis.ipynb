{
 "cells": [
  {
   "cell_type": "code",
   "execution_count": 6,
   "metadata": {
    "vscode": {
     "languageId": "r"
    }
   },
   "outputs": [
    {
     "data": {
      "text/plain": [
       "[1] '4.4.0'"
      ]
     },
     "metadata": {},
     "output_type": "display_data"
    }
   ],
   "source": [
    "# Getting the version of R used\n",
    "getRversion()"
   ]
  },
  {
   "cell_type": "code",
   "execution_count": 92,
   "metadata": {
    "vscode": {
     "languageId": "r"
    }
   },
   "outputs": [
    {
     "name": "stderr",
     "output_type": "stream",
     "text": [
      "taip pat diegiant 'insight', 'datawizard' priklausomybes\n",
      "\n",
      "\n"
     ]
    },
    {
     "name": "stdout",
     "output_type": "stream",
     "text": [
      "\n",
      "Atsisiusti dvejetainiai paketai yra\n",
      "\t/var/folders/yb/9jwpq7b106s0yw27rv4f_7gc0000gn/T//RtmpQrGjC5/downloaded_packages\n"
     ]
    },
    {
     "name": "stderr",
     "output_type": "stream",
     "text": [
      "\n",
      "Pridedamas paketas: 'sjlabelled'\n",
      "\n",
      "\n",
      "Sis objektas yra uzmaskuotas nuo 'package:ggplot2':\n",
      "\n",
      "    as_label\n",
      "\n",
      "\n",
      "Sis objektas yra uzmaskuotas nuo 'package:dplyr':\n",
      "\n",
      "    as_label\n",
      "\n",
      "\n",
      "Sie objektai yra uzmaskuoti nuo 'package:haven':\n",
      "\n",
      "    as_factor, read_sas, read_spss, read_stata, write_sas, zap_labels\n",
      "\n",
      "\n"
     ]
    }
   ],
   "source": [
    "# Load the required libraries\n",
    "library(lme4)\n",
    "library(tidyr)\n",
    "library(haven)\n",
    "library(dplyr)\n",
    "library(afex)\n",
    "library(MuMIn)\n",
    "library(ggplot2)\n",
    "library(lcmm)\n",
    "library(data.table)\n",
    "library(reshape2)\n",
    "library(psych)\n",
    "library(lavaan)\n"
   ]
  },
  {
   "cell_type": "code",
   "execution_count": 8,
   "metadata": {
    "vscode": {
     "languageId": "r"
    }
   },
   "outputs": [],
   "source": [
    "# Function that joins data files together\n",
    "read_wave_files <- function(wave_number, file_path, keep_vars, new_names, same_vars, files_to_read) {\n",
    "\n",
    "  wave_data <- NULL\n",
    "\n",
    "  # Loops throguh every data file\n",
    "  for (file_name in files_to_read) {\n",
    "      folder_path_name <- paste0(\"/sharew\", wave_number, \"_rel9-0-0_ALL_datasets_spss\")\n",
    "      file_path_name <- paste0(\"/sharew\", wave_number, \"_rel9-0-0_\", file_name, \".sav\")\n",
    "      full_path <- paste0(file_path, folder_path_name, file_path_name)\n",
    "      \n",
    "      # Check if file exists\n",
    "      if (file.exists(full_path)) {\n",
    "        # Data file is being red\n",
    "        file <- read_sav(full_path)\n",
    "\n",
    "        # Data file is joined with other data files\n",
    "        if (is.null(wave_data)) {\n",
    "            wave_data <- file\n",
    "        } else {\n",
    "          # Check for variables that are the same every wave\n",
    "          overlapping_cols <- intersect(names(wave_data), names(file))\n",
    "          overlapping_cols <- setdiff(overlapping_cols, \"mergeid\")\n",
    "          \n",
    "          wave_data <- wave_data %>%\n",
    "            inner_join(file %>% select(-all_of(overlapping_cols)), by = \"mergeid\")\n",
    "        }\n",
    "      } else {\n",
    "        cat(\"Could not read\", file_name, \", \", full_path)\n",
    "      }\n",
    "    }\n",
    "\n",
    "# Check for required variables\n",
    "  missing_vars <- setdiff(keep_vars, names(wave_data))\n",
    "  if (length(missing_vars) > 0) {\n",
    "    cat(wave_number, \"wave does not have the variables:\", missing_vars, \"\\n\")\n",
    "  }      \n",
    "\n",
    "# Filter out unnessecary variables\n",
    "  wave_data <- wave_data %>%\n",
    "    select(all_of(intersect(keep_vars, names(wave_data))))\n",
    "\n",
    "\n",
    "# Add wave number to the variables\n",
    "  colnames(wave_data) <- sapply(setdiff(keep_vars, missing_vars), function(name) if (name %in% same_vars) name else paste0(name, \"_\", wave_number))\n",
    "\n",
    "# Create wave variable\n",
    "  wave_data <- wave_data %>% \n",
    "    mutate(wave = wave_number)  \n",
    "\n",
    "  return(wave_data)\n",
    "}\n"
   ]
  },
  {
   "cell_type": "code",
   "execution_count": 9,
   "metadata": {
    "vscode": {
     "languageId": "r"
    }
   },
   "outputs": [],
   "source": [
    "# Path to the folder with data\n",
    "file_path <- \"/Users/rupsy/Desktop/SHARE failai\"\n",
    "\n",
    "# List of files to read\n",
    "files_to_read <- c(\"dn\", \"gv_health\", \"cv_r\", \"ac\")\n",
    "\n",
    "# List of variables to filter\n",
    "keep_vars <- c(\"mergeid\", \"country\", \"age_int\",\n",
    "               \"dn014_\", \"dn042_\", \"dn044_\", \n",
    "               \"eurod\", \"casp\",\n",
    "               \"ac014_\", \"ac015_\", \"ac016_\", \"ac017_\",\n",
    "               \"ac018_\", \"ac019_\", \"ac020_\", \"ac021_\",\n",
    "               \"ac022_\", \"ac023_\", \"ac024_\", \"ac025_\"\n",
    "               )\n",
    "\n",
    "# List of variables that are the same every wave\n",
    "same_vars <- c(\"mergeid\", \"country\", \"dn042_\")\n",
    "\n",
    "# List with needed waves\n",
    "waves <- c(1, 2, 4, 5, 6, 7, 8, 9)"
   ]
  },
  {
   "cell_type": "code",
   "execution_count": 10,
   "metadata": {
    "vscode": {
     "languageId": "r"
    }
   },
   "outputs": [
    {
     "name": "stdout",
     "output_type": "stream",
     "text": [
      "1 wave does not have the variables: dn044_ ac014_ ac015_ ac016_ ac017_ ac018_ ac019_ ac020_ ac021_ ac022_ ac023_ ac024_ ac025_ \n"
     ]
    },
    {
     "data": {
      "text/html": [
       "<table class=\"dataframe\">\n",
       "<caption>A tibble: 6 x 127</caption>\n",
       "<thead>\n",
       "\t<tr><th scope=col>mergeid</th><th scope=col>wave</th><th scope=col>country</th><th scope=col>age_int_1</th><th scope=col>dn014__1</th><th scope=col>dn042_</th><th scope=col>eurod_1</th><th scope=col>casp_1</th><th scope=col>age_int_2</th><th scope=col>dn014__2</th><th scope=col>...</th><th scope=col>ac016__9</th><th scope=col>ac017__9</th><th scope=col>ac018__9</th><th scope=col>ac019__9</th><th scope=col>ac020__9</th><th scope=col>ac021__9</th><th scope=col>ac022__9</th><th scope=col>ac023__9</th><th scope=col>ac024__9</th><th scope=col>ac025__9</th></tr>\n",
       "\t<tr><th scope=col>&lt;chr&gt;</th><th scope=col>&lt;dbl&gt;</th><th scope=col>&lt;dbl+lbl&gt;</th><th scope=col>&lt;dbl+lbl&gt;</th><th scope=col>&lt;dbl+lbl&gt;</th><th scope=col>&lt;dbl+lbl&gt;</th><th scope=col>&lt;dbl+lbl&gt;</th><th scope=col>&lt;dbl+lbl&gt;</th><th scope=col>&lt;dbl+lbl&gt;</th><th scope=col>&lt;dbl+lbl&gt;</th><th scope=col>...</th><th scope=col>&lt;dbl+lbl&gt;</th><th scope=col>&lt;dbl+lbl&gt;</th><th scope=col>&lt;dbl+lbl&gt;</th><th scope=col>&lt;dbl+lbl&gt;</th><th scope=col>&lt;dbl+lbl&gt;</th><th scope=col>&lt;dbl+lbl&gt;</th><th scope=col>&lt;dbl+lbl&gt;</th><th scope=col>&lt;dbl+lbl&gt;</th><th scope=col>&lt;dbl+lbl&gt;</th><th scope=col>&lt;dbl+lbl&gt;</th></tr>\n",
       "</thead>\n",
       "<tbody>\n",
       "\t<tr><td>AT-000327-01</td><td>1</td><td>11</td><td>51</td><td> 1</td><td>1</td><td> 0</td><td>37</td><td>NA</td><td>NA</td><td>...</td><td>NA</td><td>NA</td><td>NA</td><td>NA</td><td>NA</td><td>NA</td><td>NA</td><td>NA</td><td>NA</td><td>NA</td></tr>\n",
       "\t<tr><td>AT-000327-01</td><td>2</td><td>11</td><td>NA</td><td>NA</td><td>1</td><td>NA</td><td>NA</td><td>54</td><td>NA</td><td>...</td><td>NA</td><td>NA</td><td>NA</td><td>NA</td><td>NA</td><td>NA</td><td>NA</td><td>NA</td><td>NA</td><td>NA</td></tr>\n",
       "\t<tr><td>AT-000327-02</td><td>1</td><td>11</td><td>48</td><td> 1</td><td>2</td><td> 1</td><td>38</td><td>NA</td><td>NA</td><td>...</td><td>NA</td><td>NA</td><td>NA</td><td>NA</td><td>NA</td><td>NA</td><td>NA</td><td>NA</td><td>NA</td><td>NA</td></tr>\n",
       "\t<tr><td>AT-000327-02</td><td>2</td><td>11</td><td>NA</td><td>NA</td><td>2</td><td>NA</td><td>NA</td><td>51</td><td>NA</td><td>...</td><td>NA</td><td>NA</td><td>NA</td><td>NA</td><td>NA</td><td>NA</td><td>NA</td><td>NA</td><td>NA</td><td>NA</td></tr>\n",
       "\t<tr><td>AT-000674-01</td><td>4</td><td>11</td><td>NA</td><td>NA</td><td>2</td><td>NA</td><td>NA</td><td>NA</td><td>NA</td><td>...</td><td>NA</td><td>NA</td><td>NA</td><td>NA</td><td>NA</td><td>NA</td><td>NA</td><td>NA</td><td>NA</td><td>NA</td></tr>\n",
       "\t<tr><td>AT-000674-01</td><td>5</td><td>11</td><td>NA</td><td>NA</td><td>2</td><td>NA</td><td>NA</td><td>NA</td><td>NA</td><td>...</td><td>NA</td><td>NA</td><td>NA</td><td>NA</td><td>NA</td><td>NA</td><td>NA</td><td>NA</td><td>NA</td><td>NA</td></tr>\n",
       "</tbody>\n",
       "</table>\n"
      ],
      "text/latex": [
       "A tibble: 6 x 127\n",
       "\\begin{tabular}{lllllllllllllllllllll}\n",
       " mergeid & wave & country & age\\_int\\_1 & dn014\\_\\_1 & dn042\\_ & eurod\\_1 & casp\\_1 & age\\_int\\_2 & dn014\\_\\_2 & ... & ac016\\_\\_9 & ac017\\_\\_9 & ac018\\_\\_9 & ac019\\_\\_9 & ac020\\_\\_9 & ac021\\_\\_9 & ac022\\_\\_9 & ac023\\_\\_9 & ac024\\_\\_9 & ac025\\_\\_9\\\\\n",
       " <chr> & <dbl> & <dbl+lbl> & <dbl+lbl> & <dbl+lbl> & <dbl+lbl> & <dbl+lbl> & <dbl+lbl> & <dbl+lbl> & <dbl+lbl> & ... & <dbl+lbl> & <dbl+lbl> & <dbl+lbl> & <dbl+lbl> & <dbl+lbl> & <dbl+lbl> & <dbl+lbl> & <dbl+lbl> & <dbl+lbl> & <dbl+lbl>\\\\\n",
       "\\hline\n",
       "\t AT-000327-01 & 1 & 11 & 51 &  1 & 1 &  0 & 37 & NA & NA & ... & NA & NA & NA & NA & NA & NA & NA & NA & NA & NA\\\\\n",
       "\t AT-000327-01 & 2 & 11 & NA & NA & 1 & NA & NA & 54 & NA & ... & NA & NA & NA & NA & NA & NA & NA & NA & NA & NA\\\\\n",
       "\t AT-000327-02 & 1 & 11 & 48 &  1 & 2 &  1 & 38 & NA & NA & ... & NA & NA & NA & NA & NA & NA & NA & NA & NA & NA\\\\\n",
       "\t AT-000327-02 & 2 & 11 & NA & NA & 2 & NA & NA & 51 & NA & ... & NA & NA & NA & NA & NA & NA & NA & NA & NA & NA\\\\\n",
       "\t AT-000674-01 & 4 & 11 & NA & NA & 2 & NA & NA & NA & NA & ... & NA & NA & NA & NA & NA & NA & NA & NA & NA & NA\\\\\n",
       "\t AT-000674-01 & 5 & 11 & NA & NA & 2 & NA & NA & NA & NA & ... & NA & NA & NA & NA & NA & NA & NA & NA & NA & NA\\\\\n",
       "\\end{tabular}\n"
      ],
      "text/markdown": [
       "\n",
       "A tibble: 6 x 127\n",
       "\n",
       "| mergeid &lt;chr&gt; | wave &lt;dbl&gt; | country &lt;dbl+lbl&gt; | age_int_1 &lt;dbl+lbl&gt; | dn014__1 &lt;dbl+lbl&gt; | dn042_ &lt;dbl+lbl&gt; | eurod_1 &lt;dbl+lbl&gt; | casp_1 &lt;dbl+lbl&gt; | age_int_2 &lt;dbl+lbl&gt; | dn014__2 &lt;dbl+lbl&gt; | ... ... | ac016__9 &lt;dbl+lbl&gt; | ac017__9 &lt;dbl+lbl&gt; | ac018__9 &lt;dbl+lbl&gt; | ac019__9 &lt;dbl+lbl&gt; | ac020__9 &lt;dbl+lbl&gt; | ac021__9 &lt;dbl+lbl&gt; | ac022__9 &lt;dbl+lbl&gt; | ac023__9 &lt;dbl+lbl&gt; | ac024__9 &lt;dbl+lbl&gt; | ac025__9 &lt;dbl+lbl&gt; |\n",
       "|---|---|---|---|---|---|---|---|---|---|---|---|---|---|---|---|---|---|---|---|---|\n",
       "| AT-000327-01 | 1 | 11 | 51 |  1 | 1 |  0 | 37 | NA | NA | ... | NA | NA | NA | NA | NA | NA | NA | NA | NA | NA |\n",
       "| AT-000327-01 | 2 | 11 | NA | NA | 1 | NA | NA | 54 | NA | ... | NA | NA | NA | NA | NA | NA | NA | NA | NA | NA |\n",
       "| AT-000327-02 | 1 | 11 | 48 |  1 | 2 |  1 | 38 | NA | NA | ... | NA | NA | NA | NA | NA | NA | NA | NA | NA | NA |\n",
       "| AT-000327-02 | 2 | 11 | NA | NA | 2 | NA | NA | 51 | NA | ... | NA | NA | NA | NA | NA | NA | NA | NA | NA | NA |\n",
       "| AT-000674-01 | 4 | 11 | NA | NA | 2 | NA | NA | NA | NA | ... | NA | NA | NA | NA | NA | NA | NA | NA | NA | NA |\n",
       "| AT-000674-01 | 5 | 11 | NA | NA | 2 | NA | NA | NA | NA | ... | NA | NA | NA | NA | NA | NA | NA | NA | NA | NA |\n",
       "\n"
      ],
      "text/plain": [
       "  mergeid      wave country age_int_1 dn014__1 dn042_ eurod_1 casp_1 age_int_2\n",
       "1 AT-000327-01 1    11      51         1       1       0      37     NA       \n",
       "2 AT-000327-01 2    11      NA        NA       1      NA      NA     54       \n",
       "3 AT-000327-02 1    11      48         1       2       1      38     NA       \n",
       "4 AT-000327-02 2    11      NA        NA       2      NA      NA     51       \n",
       "5 AT-000674-01 4    11      NA        NA       2      NA      NA     NA       \n",
       "6 AT-000674-01 5    11      NA        NA       2      NA      NA     NA       \n",
       "  dn014__2 ... ac016__9 ac017__9 ac018__9 ac019__9 ac020__9 ac021__9 ac022__9\n",
       "1 NA       ... NA       NA       NA       NA       NA       NA       NA      \n",
       "2 NA       ... NA       NA       NA       NA       NA       NA       NA      \n",
       "3 NA       ... NA       NA       NA       NA       NA       NA       NA      \n",
       "4 NA       ... NA       NA       NA       NA       NA       NA       NA      \n",
       "5 NA       ... NA       NA       NA       NA       NA       NA       NA      \n",
       "6 NA       ... NA       NA       NA       NA       NA       NA       NA      \n",
       "  ac023__9 ac024__9 ac025__9\n",
       "1 NA       NA       NA      \n",
       "2 NA       NA       NA      \n",
       "3 NA       NA       NA      \n",
       "4 NA       NA       NA      \n",
       "5 NA       NA       NA      \n",
       "6 NA       NA       NA      "
      ]
     },
     "metadata": {},
     "output_type": "display_data"
    }
   ],
   "source": [
    "# Join together all the wave files\n",
    "all_waves_list <- lapply(waves, read_wave_files, file_path = file_path, keep_vars = keep_vars, new_names = new_names, same_vars = same_vars, files_to_read = files_to_read)\n",
    "all_waves <- bind_rows(all_waves_list)\n",
    "\n",
    "\n",
    "# Sort the datalist\n",
    "all_waves <- all_waves %>%\n",
    "  relocate(mergeid, wave) %>%\n",
    "  arrange(mergeid, wave)\n",
    "\n",
    "head(all_waves)"
   ]
  },
  {
   "cell_type": "code",
   "execution_count": 11,
   "metadata": {
    "vscode": {
     "languageId": "r"
    }
   },
   "outputs": [
    {
     "name": "stderr",
     "output_type": "stream",
     "text": [
      "Warning message:\n",
      "\"\u001b[1m\u001b[22mUsing an external vector in selections was deprecated in tidyselect 1.1.0.\n",
      "\u001b[36mi\u001b[39m Please use `all_of()` or `any_of()` instead.\n",
      "  # Was:\n",
      "  data %>% select(same_vars)\n",
      "\n",
      "  # Now:\n",
      "  data %>% select(all_of(same_vars))\n",
      "\n",
      "See <https://tidyselect.r-lib.org/reference/faq-external-vector.html>.\"\n"
     ]
    },
    {
     "data": {
      "text/html": [
       "<table class=\"dataframe\">\n",
       "<caption>A tibble: 6 x 21</caption>\n",
       "<thead>\n",
       "\t<tr><th scope=col>mergeid</th><th scope=col>country</th><th scope=col>dn042_</th><th scope=col>wave</th><th scope=col>age_int</th><th scope=col>dn014_</th><th scope=col>eurod</th><th scope=col>casp</th><th scope=col>dn044_</th><th scope=col>ac014_</th><th scope=col>...</th><th scope=col>ac016_</th><th scope=col>ac017_</th><th scope=col>ac018_</th><th scope=col>ac019_</th><th scope=col>ac020_</th><th scope=col>ac021_</th><th scope=col>ac022_</th><th scope=col>ac023_</th><th scope=col>ac024_</th><th scope=col>ac025_</th></tr>\n",
       "\t<tr><th scope=col>&lt;chr&gt;</th><th scope=col>&lt;dbl+lbl&gt;</th><th scope=col>&lt;dbl+lbl&gt;</th><th scope=col>&lt;chr&gt;</th><th scope=col>&lt;dbl+lbl&gt;</th><th scope=col>&lt;dbl+lbl&gt;</th><th scope=col>&lt;dbl+lbl&gt;</th><th scope=col>&lt;dbl+lbl&gt;</th><th scope=col>&lt;dbl+lbl&gt;</th><th scope=col>&lt;dbl+lbl&gt;</th><th scope=col>...</th><th scope=col>&lt;dbl+lbl&gt;</th><th scope=col>&lt;dbl+lbl&gt;</th><th scope=col>&lt;dbl+lbl&gt;</th><th scope=col>&lt;dbl+lbl&gt;</th><th scope=col>&lt;dbl+lbl&gt;</th><th scope=col>&lt;dbl+lbl&gt;</th><th scope=col>&lt;dbl+lbl&gt;</th><th scope=col>&lt;dbl+lbl&gt;</th><th scope=col>&lt;dbl+lbl&gt;</th><th scope=col>&lt;dbl+lbl&gt;</th></tr>\n",
       "</thead>\n",
       "<tbody>\n",
       "\t<tr><td>AT-000327-01</td><td>11</td><td>1</td><td>1</td><td>51</td><td> 1</td><td>0</td><td>37</td><td>NA</td><td>NA</td><td>...</td><td>NA</td><td>NA</td><td>NA</td><td>NA</td><td>NA</td><td>NA</td><td>NA</td><td>NA</td><td>NA</td><td>NA</td></tr>\n",
       "\t<tr><td>AT-000327-01</td><td>11</td><td>1</td><td>2</td><td>54</td><td>NA</td><td>9</td><td>24</td><td> 5</td><td> 3</td><td>...</td><td> 1</td><td> 4</td><td> 4</td><td> 4</td><td> 1</td><td> 3</td><td> 4</td><td> 4</td><td> 4</td><td> 4</td></tr>\n",
       "\t<tr><td>AT-000327-02</td><td>11</td><td>2</td><td>1</td><td>48</td><td> 1</td><td>1</td><td>38</td><td>NA</td><td>NA</td><td>...</td><td>NA</td><td>NA</td><td>NA</td><td>NA</td><td>NA</td><td>NA</td><td>NA</td><td>NA</td><td>NA</td><td>NA</td></tr>\n",
       "\t<tr><td>AT-000327-02</td><td>11</td><td>2</td><td>2</td><td>51</td><td>NA</td><td>3</td><td>30</td><td> 5</td><td> 2</td><td>...</td><td> 3</td><td> 3</td><td> 2</td><td> 3</td><td> 1</td><td> 2</td><td> 3</td><td> 2</td><td> 3</td><td> 3</td></tr>\n",
       "\t<tr><td>AT-000674-01</td><td>11</td><td>2</td><td>4</td><td>59</td><td> 6</td><td>1</td><td>44</td><td>NA</td><td> 2</td><td>...</td><td> 4</td><td> 1</td><td> 4</td><td> 2</td><td> 1</td><td> 1</td><td> 1</td><td> 1</td><td> 1</td><td> 1</td></tr>\n",
       "\t<tr><td>AT-000674-01</td><td>11</td><td>2</td><td>5</td><td>61</td><td>NA</td><td>0</td><td>45</td><td> 5</td><td> 3</td><td>...</td><td> 4</td><td> 1</td><td> 4</td><td> 4</td><td> 1</td><td> 1</td><td> 1</td><td> 1</td><td> 2</td><td> 1</td></tr>\n",
       "</tbody>\n",
       "</table>\n"
      ],
      "text/latex": [
       "A tibble: 6 x 21\n",
       "\\begin{tabular}{lllllllllllllllllllll}\n",
       " mergeid & country & dn042\\_ & wave & age\\_int & dn014\\_ & eurod & casp & dn044\\_ & ac014\\_ & ... & ac016\\_ & ac017\\_ & ac018\\_ & ac019\\_ & ac020\\_ & ac021\\_ & ac022\\_ & ac023\\_ & ac024\\_ & ac025\\_\\\\\n",
       " <chr> & <dbl+lbl> & <dbl+lbl> & <chr> & <dbl+lbl> & <dbl+lbl> & <dbl+lbl> & <dbl+lbl> & <dbl+lbl> & <dbl+lbl> & ... & <dbl+lbl> & <dbl+lbl> & <dbl+lbl> & <dbl+lbl> & <dbl+lbl> & <dbl+lbl> & <dbl+lbl> & <dbl+lbl> & <dbl+lbl> & <dbl+lbl>\\\\\n",
       "\\hline\n",
       "\t AT-000327-01 & 11 & 1 & 1 & 51 &  1 & 0 & 37 & NA & NA & ... & NA & NA & NA & NA & NA & NA & NA & NA & NA & NA\\\\\n",
       "\t AT-000327-01 & 11 & 1 & 2 & 54 & NA & 9 & 24 &  5 &  3 & ... &  1 &  4 &  4 &  4 &  1 &  3 &  4 &  4 &  4 &  4\\\\\n",
       "\t AT-000327-02 & 11 & 2 & 1 & 48 &  1 & 1 & 38 & NA & NA & ... & NA & NA & NA & NA & NA & NA & NA & NA & NA & NA\\\\\n",
       "\t AT-000327-02 & 11 & 2 & 2 & 51 & NA & 3 & 30 &  5 &  2 & ... &  3 &  3 &  2 &  3 &  1 &  2 &  3 &  2 &  3 &  3\\\\\n",
       "\t AT-000674-01 & 11 & 2 & 4 & 59 &  6 & 1 & 44 & NA &  2 & ... &  4 &  1 &  4 &  2 &  1 &  1 &  1 &  1 &  1 &  1\\\\\n",
       "\t AT-000674-01 & 11 & 2 & 5 & 61 & NA & 0 & 45 &  5 &  3 & ... &  4 &  1 &  4 &  4 &  1 &  1 &  1 &  1 &  2 &  1\\\\\n",
       "\\end{tabular}\n"
      ],
      "text/markdown": [
       "\n",
       "A tibble: 6 x 21\n",
       "\n",
       "| mergeid &lt;chr&gt; | country &lt;dbl+lbl&gt; | dn042_ &lt;dbl+lbl&gt; | wave &lt;chr&gt; | age_int &lt;dbl+lbl&gt; | dn014_ &lt;dbl+lbl&gt; | eurod &lt;dbl+lbl&gt; | casp &lt;dbl+lbl&gt; | dn044_ &lt;dbl+lbl&gt; | ac014_ &lt;dbl+lbl&gt; | ... ... | ac016_ &lt;dbl+lbl&gt; | ac017_ &lt;dbl+lbl&gt; | ac018_ &lt;dbl+lbl&gt; | ac019_ &lt;dbl+lbl&gt; | ac020_ &lt;dbl+lbl&gt; | ac021_ &lt;dbl+lbl&gt; | ac022_ &lt;dbl+lbl&gt; | ac023_ &lt;dbl+lbl&gt; | ac024_ &lt;dbl+lbl&gt; | ac025_ &lt;dbl+lbl&gt; |\n",
       "|---|---|---|---|---|---|---|---|---|---|---|---|---|---|---|---|---|---|---|---|---|\n",
       "| AT-000327-01 | 11 | 1 | 1 | 51 |  1 | 0 | 37 | NA | NA | ... | NA | NA | NA | NA | NA | NA | NA | NA | NA | NA |\n",
       "| AT-000327-01 | 11 | 1 | 2 | 54 | NA | 9 | 24 |  5 |  3 | ... |  1 |  4 |  4 |  4 |  1 |  3 |  4 |  4 |  4 |  4 |\n",
       "| AT-000327-02 | 11 | 2 | 1 | 48 |  1 | 1 | 38 | NA | NA | ... | NA | NA | NA | NA | NA | NA | NA | NA | NA | NA |\n",
       "| AT-000327-02 | 11 | 2 | 2 | 51 | NA | 3 | 30 |  5 |  2 | ... |  3 |  3 |  2 |  3 |  1 |  2 |  3 |  2 |  3 |  3 |\n",
       "| AT-000674-01 | 11 | 2 | 4 | 59 |  6 | 1 | 44 | NA |  2 | ... |  4 |  1 |  4 |  2 |  1 |  1 |  1 |  1 |  1 |  1 |\n",
       "| AT-000674-01 | 11 | 2 | 5 | 61 | NA | 0 | 45 |  5 |  3 | ... |  4 |  1 |  4 |  4 |  1 |  1 |  1 |  1 |  2 |  1 |\n",
       "\n"
      ],
      "text/plain": [
       "  mergeid      country dn042_ wave age_int dn014_ eurod casp dn044_ ac014_ ...\n",
       "1 AT-000327-01 11      1      1    51       1     0     37   NA     NA     ...\n",
       "2 AT-000327-01 11      1      2    54      NA     9     24    5      3     ...\n",
       "3 AT-000327-02 11      2      1    48       1     1     38   NA     NA     ...\n",
       "4 AT-000327-02 11      2      2    51      NA     3     30    5      2     ...\n",
       "5 AT-000674-01 11      2      4    59       6     1     44   NA      2     ...\n",
       "6 AT-000674-01 11      2      5    61      NA     0     45    5      3     ...\n",
       "  ac016_ ac017_ ac018_ ac019_ ac020_ ac021_ ac022_ ac023_ ac024_ ac025_\n",
       "1 NA     NA     NA     NA     NA     NA     NA     NA     NA     NA    \n",
       "2  1      4      4      4      1      3      4      4      4      4    \n",
       "3 NA     NA     NA     NA     NA     NA     NA     NA     NA     NA    \n",
       "4  3      3      2      3      1      2      3      2      3      3    \n",
       "5  4      1      4      2      1      1      1      1      1      1    \n",
       "6  4      1      4      4      1      1      1      1      2      1    "
      ]
     },
     "metadata": {},
     "output_type": "display_data"
    }
   ],
   "source": [
    "# Convert to long format\n",
    "all_waves_long <- all_waves %>%\n",
    "  pivot_longer(\n",
    "    cols = -same_vars,\n",
    "    names_to = c(\".value\", \"wave\"),\n",
    "    names_pattern = \"(.*)_(\\\\d+)\"\n",
    "  )\n",
    "\n",
    "# Filter observations where the participant did not participate\n",
    "all_waves_long <- all_waves_long %>%\n",
    "  filter(!is.na(age_int))\n",
    "\n",
    "head(all_waves_long)"
   ]
  },
  {
   "cell_type": "code",
   "execution_count": 98,
   "metadata": {
    "vscode": {
     "languageId": "r"
    }
   },
   "outputs": [],
   "source": [
    "# Rename country code to country name\n",
    "country_names <- c(\n",
    "  `11` = \"Austria\",\n",
    "  `12` = \"Germany\",\n",
    "  `13` = \"Sweden\",\n",
    "  `14` = \"Netherlands\",\n",
    "  `15` = \"Spain\",\n",
    "  `16` = \"Italy\",\n",
    "  `17` = \"France\",\n",
    "  `18` = \"Denmark\",\n",
    "  `19` = \"Greece\",\n",
    "  `20` = \"Switzerland\",\n",
    "  `23` = \"Belgium\",\n",
    "  `25` = \"Israel\",\n",
    "  `28` = \"Czech Republic\",\n",
    "  `29` = \"Poland\",\n",
    "  `30` = \"Ireland\",\n",
    "  `31` = \"Luxembourg\",\n",
    "  `32` = \"Hungary\",\n",
    "  `33` = \"Portugal\",\n",
    "  `34` = \"Slovenia\",\n",
    "  `35` = \"Estonia\",\n",
    "  `47` = \"Croatia\",\n",
    "  `48` = \"Lithuania\",\n",
    "  `51` = \"Bulgaria\",\n",
    "  `53` = \"Cyprus\",\n",
    "  `55` = \"Finland\",\n",
    "  `57` = \"Latvia\",\n",
    "  `59` = \"Malta\",\n",
    "  `61` = \"Romania\",\n",
    "  `63` = \"Slovakia\"\n",
    ")\n",
    "\n",
    "all_waves_long <- all_waves_long %>%\n",
    "  mutate(country = as.character(country)) %>%\n",
    "  mutate(country = recode(country, !!!country_names))\n"
   ]
  },
  {
   "cell_type": "code",
   "execution_count": 12,
   "metadata": {
    "vscode": {
     "languageId": "r"
    }
   },
   "outputs": [
    {
     "data": {
      "text/html": [
       "<table class=\"dataframe\">\n",
       "<caption>A tibble: 6 x 21</caption>\n",
       "<thead>\n",
       "\t<tr><th scope=col>mergeid</th><th scope=col>country</th><th scope=col>dn042_</th><th scope=col>wave</th><th scope=col>age_int</th><th scope=col>dn014_</th><th scope=col>eurod</th><th scope=col>casp</th><th scope=col>dn044_</th><th scope=col>ac014_</th><th scope=col>...</th><th scope=col>ac016_</th><th scope=col>ac017_</th><th scope=col>ac018_</th><th scope=col>ac019_</th><th scope=col>ac020_</th><th scope=col>ac021_</th><th scope=col>ac022_</th><th scope=col>ac023_</th><th scope=col>ac024_</th><th scope=col>ac025_</th></tr>\n",
       "\t<tr><th scope=col>&lt;chr&gt;</th><th scope=col>&lt;dbl+lbl&gt;</th><th scope=col>&lt;dbl+lbl&gt;</th><th scope=col>&lt;chr&gt;</th><th scope=col>&lt;dbl+lbl&gt;</th><th scope=col>&lt;dbl+lbl&gt;</th><th scope=col>&lt;dbl+lbl&gt;</th><th scope=col>&lt;dbl+lbl&gt;</th><th scope=col>&lt;dbl+lbl&gt;</th><th scope=col>&lt;dbl+lbl&gt;</th><th scope=col>...</th><th scope=col>&lt;dbl+lbl&gt;</th><th scope=col>&lt;dbl+lbl&gt;</th><th scope=col>&lt;dbl+lbl&gt;</th><th scope=col>&lt;dbl+lbl&gt;</th><th scope=col>&lt;dbl+lbl&gt;</th><th scope=col>&lt;dbl+lbl&gt;</th><th scope=col>&lt;dbl+lbl&gt;</th><th scope=col>&lt;dbl+lbl&gt;</th><th scope=col>&lt;dbl+lbl&gt;</th><th scope=col>&lt;dbl+lbl&gt;</th></tr>\n",
       "</thead>\n",
       "<tbody>\n",
       "\t<tr><td>AT-000327-01</td><td>11</td><td>1</td><td>1</td><td>51</td><td> 1</td><td>0</td><td>37</td><td>NA</td><td>NA</td><td>...</td><td>NA</td><td>NA</td><td>NA</td><td>NA</td><td>NA</td><td>NA</td><td>NA</td><td>NA</td><td>NA</td><td>NA</td></tr>\n",
       "\t<tr><td>AT-000327-01</td><td>11</td><td>1</td><td>2</td><td>54</td><td>NA</td><td>9</td><td>24</td><td> 5</td><td> 3</td><td>...</td><td> 1</td><td> 4</td><td> 4</td><td> 4</td><td> 1</td><td> 3</td><td> 4</td><td> 4</td><td> 4</td><td> 4</td></tr>\n",
       "\t<tr><td>AT-000327-02</td><td>11</td><td>2</td><td>2</td><td>51</td><td>NA</td><td>3</td><td>30</td><td> 5</td><td> 2</td><td>...</td><td> 3</td><td> 3</td><td> 2</td><td> 3</td><td> 1</td><td> 2</td><td> 3</td><td> 2</td><td> 3</td><td> 3</td></tr>\n",
       "\t<tr><td>AT-000674-01</td><td>11</td><td>2</td><td>4</td><td>59</td><td> 6</td><td>1</td><td>44</td><td>NA</td><td> 2</td><td>...</td><td> 4</td><td> 1</td><td> 4</td><td> 2</td><td> 1</td><td> 1</td><td> 1</td><td> 1</td><td> 1</td><td> 1</td></tr>\n",
       "\t<tr><td>AT-000674-01</td><td>11</td><td>2</td><td>5</td><td>61</td><td>NA</td><td>0</td><td>45</td><td> 5</td><td> 3</td><td>...</td><td> 4</td><td> 1</td><td> 4</td><td> 4</td><td> 1</td><td> 1</td><td> 1</td><td> 1</td><td> 2</td><td> 1</td></tr>\n",
       "\t<tr><td>AT-000674-01</td><td>11</td><td>2</td><td>6</td><td>63</td><td>NA</td><td>4</td><td>44</td><td> 5</td><td> 2</td><td>...</td><td> 4</td><td> 1</td><td> 4</td><td> 2</td><td> 1</td><td> 1</td><td> 1</td><td> 1</td><td> 1</td><td> 1</td></tr>\n",
       "</tbody>\n",
       "</table>\n"
      ],
      "text/latex": [
       "A tibble: 6 x 21\n",
       "\\begin{tabular}{lllllllllllllllllllll}\n",
       " mergeid & country & dn042\\_ & wave & age\\_int & dn014\\_ & eurod & casp & dn044\\_ & ac014\\_ & ... & ac016\\_ & ac017\\_ & ac018\\_ & ac019\\_ & ac020\\_ & ac021\\_ & ac022\\_ & ac023\\_ & ac024\\_ & ac025\\_\\\\\n",
       " <chr> & <dbl+lbl> & <dbl+lbl> & <chr> & <dbl+lbl> & <dbl+lbl> & <dbl+lbl> & <dbl+lbl> & <dbl+lbl> & <dbl+lbl> & ... & <dbl+lbl> & <dbl+lbl> & <dbl+lbl> & <dbl+lbl> & <dbl+lbl> & <dbl+lbl> & <dbl+lbl> & <dbl+lbl> & <dbl+lbl> & <dbl+lbl>\\\\\n",
       "\\hline\n",
       "\t AT-000327-01 & 11 & 1 & 1 & 51 &  1 & 0 & 37 & NA & NA & ... & NA & NA & NA & NA & NA & NA & NA & NA & NA & NA\\\\\n",
       "\t AT-000327-01 & 11 & 1 & 2 & 54 & NA & 9 & 24 &  5 &  3 & ... &  1 &  4 &  4 &  4 &  1 &  3 &  4 &  4 &  4 &  4\\\\\n",
       "\t AT-000327-02 & 11 & 2 & 2 & 51 & NA & 3 & 30 &  5 &  2 & ... &  3 &  3 &  2 &  3 &  1 &  2 &  3 &  2 &  3 &  3\\\\\n",
       "\t AT-000674-01 & 11 & 2 & 4 & 59 &  6 & 1 & 44 & NA &  2 & ... &  4 &  1 &  4 &  2 &  1 &  1 &  1 &  1 &  1 &  1\\\\\n",
       "\t AT-000674-01 & 11 & 2 & 5 & 61 & NA & 0 & 45 &  5 &  3 & ... &  4 &  1 &  4 &  4 &  1 &  1 &  1 &  1 &  2 &  1\\\\\n",
       "\t AT-000674-01 & 11 & 2 & 6 & 63 & NA & 4 & 44 &  5 &  2 & ... &  4 &  1 &  4 &  2 &  1 &  1 &  1 &  1 &  1 &  1\\\\\n",
       "\\end{tabular}\n"
      ],
      "text/markdown": [
       "\n",
       "A tibble: 6 x 21\n",
       "\n",
       "| mergeid &lt;chr&gt; | country &lt;dbl+lbl&gt; | dn042_ &lt;dbl+lbl&gt; | wave &lt;chr&gt; | age_int &lt;dbl+lbl&gt; | dn014_ &lt;dbl+lbl&gt; | eurod &lt;dbl+lbl&gt; | casp &lt;dbl+lbl&gt; | dn044_ &lt;dbl+lbl&gt; | ac014_ &lt;dbl+lbl&gt; | ... ... | ac016_ &lt;dbl+lbl&gt; | ac017_ &lt;dbl+lbl&gt; | ac018_ &lt;dbl+lbl&gt; | ac019_ &lt;dbl+lbl&gt; | ac020_ &lt;dbl+lbl&gt; | ac021_ &lt;dbl+lbl&gt; | ac022_ &lt;dbl+lbl&gt; | ac023_ &lt;dbl+lbl&gt; | ac024_ &lt;dbl+lbl&gt; | ac025_ &lt;dbl+lbl&gt; |\n",
       "|---|---|---|---|---|---|---|---|---|---|---|---|---|---|---|---|---|---|---|---|---|\n",
       "| AT-000327-01 | 11 | 1 | 1 | 51 |  1 | 0 | 37 | NA | NA | ... | NA | NA | NA | NA | NA | NA | NA | NA | NA | NA |\n",
       "| AT-000327-01 | 11 | 1 | 2 | 54 | NA | 9 | 24 |  5 |  3 | ... |  1 |  4 |  4 |  4 |  1 |  3 |  4 |  4 |  4 |  4 |\n",
       "| AT-000327-02 | 11 | 2 | 2 | 51 | NA | 3 | 30 |  5 |  2 | ... |  3 |  3 |  2 |  3 |  1 |  2 |  3 |  2 |  3 |  3 |\n",
       "| AT-000674-01 | 11 | 2 | 4 | 59 |  6 | 1 | 44 | NA |  2 | ... |  4 |  1 |  4 |  2 |  1 |  1 |  1 |  1 |  1 |  1 |\n",
       "| AT-000674-01 | 11 | 2 | 5 | 61 | NA | 0 | 45 |  5 |  3 | ... |  4 |  1 |  4 |  4 |  1 |  1 |  1 |  1 |  2 |  1 |\n",
       "| AT-000674-01 | 11 | 2 | 6 | 63 | NA | 4 | 44 |  5 |  2 | ... |  4 |  1 |  4 |  2 |  1 |  1 |  1 |  1 |  1 |  1 |\n",
       "\n"
      ],
      "text/plain": [
       "  mergeid      country dn042_ wave age_int dn014_ eurod casp dn044_ ac014_ ...\n",
       "1 AT-000327-01 11      1      1    51       1     0     37   NA     NA     ...\n",
       "2 AT-000327-01 11      1      2    54      NA     9     24    5      3     ...\n",
       "3 AT-000327-02 11      2      2    51      NA     3     30    5      2     ...\n",
       "4 AT-000674-01 11      2      4    59       6     1     44   NA      2     ...\n",
       "5 AT-000674-01 11      2      5    61      NA     0     45    5      3     ...\n",
       "6 AT-000674-01 11      2      6    63      NA     4     44    5      2     ...\n",
       "  ac016_ ac017_ ac018_ ac019_ ac020_ ac021_ ac022_ ac023_ ac024_ ac025_\n",
       "1 NA     NA     NA     NA     NA     NA     NA     NA     NA     NA    \n",
       "2  1      4      4      4      1      3      4      4      4      4    \n",
       "3  3      3      2      3      1      2      3      2      3      3    \n",
       "4  4      1      4      2      1      1      1      1      1      1    \n",
       "5  4      1      4      4      1      1      1      1      2      1    \n",
       "6  4      1      4      2      1      1      1      1      1      1    "
      ]
     },
     "metadata": {},
     "output_type": "display_data"
    }
   ],
   "source": [
    "# Filter out age <= 50\n",
    "all_waves_long <- all_waves_long %>%\n",
    "  filter(age_int >= 50)\n",
    "\n",
    "head(all_waves_long)\n"
   ]
  },
  {
   "cell_type": "markdown",
   "metadata": {},
   "source": []
  },
  {
   "cell_type": "code",
   "execution_count": 13,
   "metadata": {
    "vscode": {
     "languageId": "r"
    }
   },
   "outputs": [
    {
     "data": {
      "text/html": [
       "<table class=\"dataframe\">\n",
       "<caption>A tibble: 8 x 3</caption>\n",
       "<thead>\n",
       "\t<tr><th scope=col>wave</th><th scope=col>participants</th><th scope=col>percentage_answered</th></tr>\n",
       "\t<tr><th scope=col>&lt;chr&gt;</th><th scope=col>&lt;int&gt;</th><th scope=col>&lt;dbl&gt;</th></tr>\n",
       "</thead>\n",
       "<tbody>\n",
       "\t<tr><td>1</td><td>29151</td><td>99.74272</td></tr>\n",
       "\t<tr><td>2</td><td>36068</td><td>45.33659</td></tr>\n",
       "\t<tr><td>4</td><td>56600</td><td>65.49647</td></tr>\n",
       "\t<tr><td>5</td><td>64861</td><td>38.15081</td></tr>\n",
       "\t<tr><td>6</td><td>67048</td><td>22.92835</td></tr>\n",
       "\t<tr><td>7</td><td>76242</td><td>28.85155</td></tr>\n",
       "\t<tr><td>8</td><td>53217</td><td>35.37216</td></tr>\n",
       "\t<tr><td>9</td><td>68933</td><td>26.02092</td></tr>\n",
       "</tbody>\n",
       "</table>\n"
      ],
      "text/latex": [
       "A tibble: 8 x 3\n",
       "\\begin{tabular}{lll}\n",
       " wave & participants & percentage\\_answered\\\\\n",
       " <chr> & <int> & <dbl>\\\\\n",
       "\\hline\n",
       "\t 1 & 29151 & 99.74272\\\\\n",
       "\t 2 & 36068 & 45.33659\\\\\n",
       "\t 4 & 56600 & 65.49647\\\\\n",
       "\t 5 & 64861 & 38.15081\\\\\n",
       "\t 6 & 67048 & 22.92835\\\\\n",
       "\t 7 & 76242 & 28.85155\\\\\n",
       "\t 8 & 53217 & 35.37216\\\\\n",
       "\t 9 & 68933 & 26.02092\\\\\n",
       "\\end{tabular}\n"
      ],
      "text/markdown": [
       "\n",
       "A tibble: 8 x 3\n",
       "\n",
       "| wave &lt;chr&gt; | participants &lt;int&gt; | percentage_answered &lt;dbl&gt; |\n",
       "|---|---|---|\n",
       "| 1 | 29151 | 99.74272 |\n",
       "| 2 | 36068 | 45.33659 |\n",
       "| 4 | 56600 | 65.49647 |\n",
       "| 5 | 64861 | 38.15081 |\n",
       "| 6 | 67048 | 22.92835 |\n",
       "| 7 | 76242 | 28.85155 |\n",
       "| 8 | 53217 | 35.37216 |\n",
       "| 9 | 68933 | 26.02092 |\n",
       "\n"
      ],
      "text/plain": [
       "  wave participants percentage_answered\n",
       "1 1    29151        99.74272           \n",
       "2 2    36068        45.33659           \n",
       "3 4    56600        65.49647           \n",
       "4 5    64861        38.15081           \n",
       "5 6    67048        22.92835           \n",
       "6 7    76242        28.85155           \n",
       "7 8    53217        35.37216           \n",
       "8 9    68933        26.02092           "
      ]
     },
     "metadata": {},
     "output_type": "display_data"
    }
   ],
   "source": [
    "# Answer to marital_status percentage\n",
    "all_waves_long %>%\n",
    "  group_by(wave) %>%\n",
    "  summarise(\n",
    "    participants = n(),\n",
    "    percentage_answered = mean(!is.na(dn014_)) * 100)"
   ]
  },
  {
   "cell_type": "code",
   "execution_count": 14,
   "metadata": {
    "vscode": {
     "languageId": "r"
    }
   },
   "outputs": [
    {
     "data": {
      "text/html": [
       "<table class=\"dataframe\">\n",
       "<caption>A tibble: 6 x 21</caption>\n",
       "<thead>\n",
       "\t<tr><th scope=col>mergeid</th><th scope=col>country</th><th scope=col>dn042_</th><th scope=col>wave</th><th scope=col>age_int</th><th scope=col>dn014_</th><th scope=col>eurod</th><th scope=col>casp</th><th scope=col>dn044_</th><th scope=col>ac014_</th><th scope=col>...</th><th scope=col>ac016_</th><th scope=col>ac017_</th><th scope=col>ac018_</th><th scope=col>ac019_</th><th scope=col>ac020_</th><th scope=col>ac021_</th><th scope=col>ac022_</th><th scope=col>ac023_</th><th scope=col>ac024_</th><th scope=col>ac025_</th></tr>\n",
       "\t<tr><th scope=col>&lt;chr&gt;</th><th scope=col>&lt;dbl+lbl&gt;</th><th scope=col>&lt;dbl+lbl&gt;</th><th scope=col>&lt;chr&gt;</th><th scope=col>&lt;dbl+lbl&gt;</th><th scope=col>&lt;dbl+lbl&gt;</th><th scope=col>&lt;dbl+lbl&gt;</th><th scope=col>&lt;dbl+lbl&gt;</th><th scope=col>&lt;dbl+lbl&gt;</th><th scope=col>&lt;dbl+lbl&gt;</th><th scope=col>...</th><th scope=col>&lt;dbl+lbl&gt;</th><th scope=col>&lt;dbl+lbl&gt;</th><th scope=col>&lt;dbl+lbl&gt;</th><th scope=col>&lt;dbl+lbl&gt;</th><th scope=col>&lt;dbl+lbl&gt;</th><th scope=col>&lt;dbl+lbl&gt;</th><th scope=col>&lt;dbl+lbl&gt;</th><th scope=col>&lt;dbl+lbl&gt;</th><th scope=col>&lt;dbl+lbl&gt;</th><th scope=col>&lt;dbl+lbl&gt;</th></tr>\n",
       "</thead>\n",
       "<tbody>\n",
       "\t<tr><td>AT-000327-01</td><td>11</td><td>1</td><td>1</td><td>51</td><td> 1</td><td>0</td><td>37</td><td>NA</td><td>NA</td><td>...</td><td>NA</td><td>NA</td><td>NA</td><td>NA</td><td>NA</td><td>NA</td><td>NA</td><td>NA</td><td>NA</td><td>NA</td></tr>\n",
       "\t<tr><td>AT-000327-01</td><td>11</td><td>1</td><td>2</td><td>54</td><td> 1</td><td>9</td><td>24</td><td> 5</td><td> 3</td><td>...</td><td> 1</td><td> 4</td><td> 4</td><td> 4</td><td> 1</td><td> 3</td><td> 4</td><td> 4</td><td> 4</td><td> 4</td></tr>\n",
       "\t<tr><td>AT-000327-02</td><td>11</td><td>2</td><td>2</td><td>51</td><td>NA</td><td>3</td><td>30</td><td> 5</td><td> 2</td><td>...</td><td> 3</td><td> 3</td><td> 2</td><td> 3</td><td> 1</td><td> 2</td><td> 3</td><td> 2</td><td> 3</td><td> 3</td></tr>\n",
       "\t<tr><td>AT-000674-01</td><td>11</td><td>2</td><td>4</td><td>59</td><td>NA</td><td>1</td><td>44</td><td>NA</td><td> 2</td><td>...</td><td> 4</td><td> 1</td><td> 4</td><td> 2</td><td> 1</td><td> 1</td><td> 1</td><td> 1</td><td> 1</td><td> 1</td></tr>\n",
       "\t<tr><td>AT-000674-01</td><td>11</td><td>2</td><td>5</td><td>61</td><td> 6</td><td>0</td><td>45</td><td> 5</td><td> 3</td><td>...</td><td> 4</td><td> 1</td><td> 4</td><td> 4</td><td> 1</td><td> 1</td><td> 1</td><td> 1</td><td> 2</td><td> 1</td></tr>\n",
       "\t<tr><td>AT-000674-01</td><td>11</td><td>2</td><td>6</td><td>63</td><td> 6</td><td>4</td><td>44</td><td> 5</td><td> 2</td><td>...</td><td> 4</td><td> 1</td><td> 4</td><td> 2</td><td> 1</td><td> 1</td><td> 1</td><td> 1</td><td> 1</td><td> 1</td></tr>\n",
       "</tbody>\n",
       "</table>\n"
      ],
      "text/latex": [
       "A tibble: 6 x 21\n",
       "\\begin{tabular}{lllllllllllllllllllll}\n",
       " mergeid & country & dn042\\_ & wave & age\\_int & dn014\\_ & eurod & casp & dn044\\_ & ac014\\_ & ... & ac016\\_ & ac017\\_ & ac018\\_ & ac019\\_ & ac020\\_ & ac021\\_ & ac022\\_ & ac023\\_ & ac024\\_ & ac025\\_\\\\\n",
       " <chr> & <dbl+lbl> & <dbl+lbl> & <chr> & <dbl+lbl> & <dbl+lbl> & <dbl+lbl> & <dbl+lbl> & <dbl+lbl> & <dbl+lbl> & ... & <dbl+lbl> & <dbl+lbl> & <dbl+lbl> & <dbl+lbl> & <dbl+lbl> & <dbl+lbl> & <dbl+lbl> & <dbl+lbl> & <dbl+lbl> & <dbl+lbl>\\\\\n",
       "\\hline\n",
       "\t AT-000327-01 & 11 & 1 & 1 & 51 &  1 & 0 & 37 & NA & NA & ... & NA & NA & NA & NA & NA & NA & NA & NA & NA & NA\\\\\n",
       "\t AT-000327-01 & 11 & 1 & 2 & 54 &  1 & 9 & 24 &  5 &  3 & ... &  1 &  4 &  4 &  4 &  1 &  3 &  4 &  4 &  4 &  4\\\\\n",
       "\t AT-000327-02 & 11 & 2 & 2 & 51 & NA & 3 & 30 &  5 &  2 & ... &  3 &  3 &  2 &  3 &  1 &  2 &  3 &  2 &  3 &  3\\\\\n",
       "\t AT-000674-01 & 11 & 2 & 4 & 59 & NA & 1 & 44 & NA &  2 & ... &  4 &  1 &  4 &  2 &  1 &  1 &  1 &  1 &  1 &  1\\\\\n",
       "\t AT-000674-01 & 11 & 2 & 5 & 61 &  6 & 0 & 45 &  5 &  3 & ... &  4 &  1 &  4 &  4 &  1 &  1 &  1 &  1 &  2 &  1\\\\\n",
       "\t AT-000674-01 & 11 & 2 & 6 & 63 &  6 & 4 & 44 &  5 &  2 & ... &  4 &  1 &  4 &  2 &  1 &  1 &  1 &  1 &  1 &  1\\\\\n",
       "\\end{tabular}\n"
      ],
      "text/markdown": [
       "\n",
       "A tibble: 6 x 21\n",
       "\n",
       "| mergeid &lt;chr&gt; | country &lt;dbl+lbl&gt; | dn042_ &lt;dbl+lbl&gt; | wave &lt;chr&gt; | age_int &lt;dbl+lbl&gt; | dn014_ &lt;dbl+lbl&gt; | eurod &lt;dbl+lbl&gt; | casp &lt;dbl+lbl&gt; | dn044_ &lt;dbl+lbl&gt; | ac014_ &lt;dbl+lbl&gt; | ... ... | ac016_ &lt;dbl+lbl&gt; | ac017_ &lt;dbl+lbl&gt; | ac018_ &lt;dbl+lbl&gt; | ac019_ &lt;dbl+lbl&gt; | ac020_ &lt;dbl+lbl&gt; | ac021_ &lt;dbl+lbl&gt; | ac022_ &lt;dbl+lbl&gt; | ac023_ &lt;dbl+lbl&gt; | ac024_ &lt;dbl+lbl&gt; | ac025_ &lt;dbl+lbl&gt; |\n",
       "|---|---|---|---|---|---|---|---|---|---|---|---|---|---|---|---|---|---|---|---|---|\n",
       "| AT-000327-01 | 11 | 1 | 1 | 51 |  1 | 0 | 37 | NA | NA | ... | NA | NA | NA | NA | NA | NA | NA | NA | NA | NA |\n",
       "| AT-000327-01 | 11 | 1 | 2 | 54 |  1 | 9 | 24 |  5 |  3 | ... |  1 |  4 |  4 |  4 |  1 |  3 |  4 |  4 |  4 |  4 |\n",
       "| AT-000327-02 | 11 | 2 | 2 | 51 | NA | 3 | 30 |  5 |  2 | ... |  3 |  3 |  2 |  3 |  1 |  2 |  3 |  2 |  3 |  3 |\n",
       "| AT-000674-01 | 11 | 2 | 4 | 59 | NA | 1 | 44 | NA |  2 | ... |  4 |  1 |  4 |  2 |  1 |  1 |  1 |  1 |  1 |  1 |\n",
       "| AT-000674-01 | 11 | 2 | 5 | 61 |  6 | 0 | 45 |  5 |  3 | ... |  4 |  1 |  4 |  4 |  1 |  1 |  1 |  1 |  2 |  1 |\n",
       "| AT-000674-01 | 11 | 2 | 6 | 63 |  6 | 4 | 44 |  5 |  2 | ... |  4 |  1 |  4 |  2 |  1 |  1 |  1 |  1 |  1 |  1 |\n",
       "\n"
      ],
      "text/plain": [
       "  mergeid      country dn042_ wave age_int dn014_ eurod casp dn044_ ac014_ ...\n",
       "1 AT-000327-01 11      1      1    51       1     0     37   NA     NA     ...\n",
       "2 AT-000327-01 11      1      2    54       1     9     24    5      3     ...\n",
       "3 AT-000327-02 11      2      2    51      NA     3     30    5      2     ...\n",
       "4 AT-000674-01 11      2      4    59      NA     1     44   NA      2     ...\n",
       "5 AT-000674-01 11      2      5    61       6     0     45    5      3     ...\n",
       "6 AT-000674-01 11      2      6    63       6     4     44    5      2     ...\n",
       "  ac016_ ac017_ ac018_ ac019_ ac020_ ac021_ ac022_ ac023_ ac024_ ac025_\n",
       "1 NA     NA     NA     NA     NA     NA     NA     NA     NA     NA    \n",
       "2  1      4      4      4      1      3      4      4      4      4    \n",
       "3  3      3      2      3      1      2      3      2      3      3    \n",
       "4  4      1      4      2      1      1      1      1      1      1    \n",
       "5  4      1      4      4      1      1      1      1      2      1    \n",
       "6  4      1      4      2      1      1      1      1      1      1    "
      ]
     },
     "metadata": {},
     "output_type": "display_data"
    }
   ],
   "source": [
    "# Take the marital status from previous waves (as it is not written if it didn't change from the last wave)\n",
    "all_waves_long <- all_waves_long %>%\n",
    "  group_by(mergeid) %>%\n",
    "  arrange(wave) %>%\n",
    "  mutate(\n",
    "    dn014_ = if_else(wave > 1 & dn044_ == 5, lag(dn014_, order_by = wave), dn014_)\n",
    "  ) %>%\n",
    "  fill(dn014_, .direction = \"down\") %>% \n",
    "  arrange(mergeid, wave) %>%\n",
    "  ungroup()\n",
    "\n",
    "head(all_waves_long)"
   ]
  },
  {
   "cell_type": "code",
   "execution_count": 15,
   "metadata": {
    "vscode": {
     "languageId": "r"
    }
   },
   "outputs": [
    {
     "data": {
      "text/html": [
       "<table class=\"dataframe\">\n",
       "<caption>A tibble: 8 x 3</caption>\n",
       "<thead>\n",
       "\t<tr><th scope=col>wave</th><th scope=col>participants</th><th scope=col>percentage_answered</th></tr>\n",
       "\t<tr><th scope=col>&lt;chr&gt;</th><th scope=col>&lt;int&gt;</th><th scope=col>&lt;dbl&gt;</th></tr>\n",
       "</thead>\n",
       "<tbody>\n",
       "\t<tr><td>1</td><td>29151</td><td>99.74272</td></tr>\n",
       "\t<tr><td>2</td><td>36068</td><td>55.65044</td></tr>\n",
       "\t<tr><td>4</td><td>56600</td><td>34.17845</td></tr>\n",
       "\t<tr><td>5</td><td>64861</td><td>63.03171</td></tr>\n",
       "\t<tr><td>6</td><td>67048</td><td>79.45502</td></tr>\n",
       "\t<tr><td>7</td><td>76242</td><td>73.04242</td></tr>\n",
       "\t<tr><td>8</td><td>53217</td><td>66.63848</td></tr>\n",
       "\t<tr><td>9</td><td>68933</td><td>75.67058</td></tr>\n",
       "</tbody>\n",
       "</table>\n"
      ],
      "text/latex": [
       "A tibble: 8 x 3\n",
       "\\begin{tabular}{lll}\n",
       " wave & participants & percentage\\_answered\\\\\n",
       " <chr> & <int> & <dbl>\\\\\n",
       "\\hline\n",
       "\t 1 & 29151 & 99.74272\\\\\n",
       "\t 2 & 36068 & 55.65044\\\\\n",
       "\t 4 & 56600 & 34.17845\\\\\n",
       "\t 5 & 64861 & 63.03171\\\\\n",
       "\t 6 & 67048 & 79.45502\\\\\n",
       "\t 7 & 76242 & 73.04242\\\\\n",
       "\t 8 & 53217 & 66.63848\\\\\n",
       "\t 9 & 68933 & 75.67058\\\\\n",
       "\\end{tabular}\n"
      ],
      "text/markdown": [
       "\n",
       "A tibble: 8 x 3\n",
       "\n",
       "| wave &lt;chr&gt; | participants &lt;int&gt; | percentage_answered &lt;dbl&gt; |\n",
       "|---|---|---|\n",
       "| 1 | 29151 | 99.74272 |\n",
       "| 2 | 36068 | 55.65044 |\n",
       "| 4 | 56600 | 34.17845 |\n",
       "| 5 | 64861 | 63.03171 |\n",
       "| 6 | 67048 | 79.45502 |\n",
       "| 7 | 76242 | 73.04242 |\n",
       "| 8 | 53217 | 66.63848 |\n",
       "| 9 | 68933 | 75.67058 |\n",
       "\n"
      ],
      "text/plain": [
       "  wave participants percentage_answered\n",
       "1 1    29151        99.74272           \n",
       "2 2    36068        55.65044           \n",
       "3 4    56600        34.17845           \n",
       "4 5    64861        63.03171           \n",
       "5 6    67048        79.45502           \n",
       "6 7    76242        73.04242           \n",
       "7 8    53217        66.63848           \n",
       "8 9    68933        75.67058           "
      ]
     },
     "metadata": {},
     "output_type": "display_data"
    }
   ],
   "source": [
    "# Answer to marital_status after transforming\n",
    "all_waves_long %>%\n",
    "  group_by(wave) %>%\n",
    "  summarise(\n",
    "    participants = n(),\n",
    "    percentage_answered = mean(!is.na(dn014_)) * 100)"
   ]
  },
  {
   "cell_type": "code",
   "execution_count": 16,
   "metadata": {
    "vscode": {
     "languageId": "r"
    }
   },
   "outputs": [
    {
     "data": {
      "text/html": [
       "<table class=\"dataframe\">\n",
       "<caption>A tibble: 6 x 23</caption>\n",
       "<thead>\n",
       "\t<tr><th scope=col>mergeid</th><th scope=col>country</th><th scope=col>dn042_</th><th scope=col>wave</th><th scope=col>age_int</th><th scope=col>dn014_</th><th scope=col>eurod</th><th scope=col>casp</th><th scope=col>dn044_</th><th scope=col>ac014_</th><th scope=col>...</th><th scope=col>ac018_</th><th scope=col>ac019_</th><th scope=col>ac020_</th><th scope=col>ac021_</th><th scope=col>ac022_</th><th scope=col>ac023_</th><th scope=col>ac024_</th><th scope=col>ac025_</th><th scope=col>divorced</th><th scope=col>time</th></tr>\n",
       "\t<tr><th scope=col>&lt;chr&gt;</th><th scope=col>&lt;dbl+lbl&gt;</th><th scope=col>&lt;dbl+lbl&gt;</th><th scope=col>&lt;dbl&gt;</th><th scope=col>&lt;dbl+lbl&gt;</th><th scope=col>&lt;dbl+lbl&gt;</th><th scope=col>&lt;dbl+lbl&gt;</th><th scope=col>&lt;dbl+lbl&gt;</th><th scope=col>&lt;dbl+lbl&gt;</th><th scope=col>&lt;dbl+lbl&gt;</th><th scope=col>...</th><th scope=col>&lt;dbl+lbl&gt;</th><th scope=col>&lt;dbl+lbl&gt;</th><th scope=col>&lt;dbl+lbl&gt;</th><th scope=col>&lt;dbl+lbl&gt;</th><th scope=col>&lt;dbl+lbl&gt;</th><th scope=col>&lt;dbl+lbl&gt;</th><th scope=col>&lt;dbl+lbl&gt;</th><th scope=col>&lt;dbl+lbl&gt;</th><th scope=col>&lt;dbl&gt;</th><th scope=col>&lt;dbl&gt;</th></tr>\n",
       "</thead>\n",
       "<tbody>\n",
       "\t<tr><td>AT-000327-01</td><td>11</td><td>1</td><td>1</td><td>51</td><td>1</td><td>0</td><td>37</td><td>NA</td><td>NA</td><td>...</td><td>NA</td><td>NA</td><td>NA</td><td>NA</td><td>NA</td><td>NA</td><td>NA</td><td>NA</td><td> 0</td><td>NA</td></tr>\n",
       "\t<tr><td>AT-001816-01</td><td>11</td><td>2</td><td>1</td><td>61</td><td>1</td><td>2</td><td>43</td><td>NA</td><td>NA</td><td>...</td><td>NA</td><td>NA</td><td>NA</td><td>NA</td><td>NA</td><td>NA</td><td>NA</td><td>NA</td><td>NA</td><td>NA</td></tr>\n",
       "\t<tr><td>AT-001816-02</td><td>11</td><td>1</td><td>1</td><td>56</td><td>1</td><td>0</td><td>43</td><td>NA</td><td>NA</td><td>...</td><td>NA</td><td>NA</td><td>NA</td><td>NA</td><td>NA</td><td>NA</td><td>NA</td><td>NA</td><td> 0</td><td>NA</td></tr>\n",
       "\t<tr><td>AT-002132-01</td><td>11</td><td>2</td><td>1</td><td>70</td><td>6</td><td>4</td><td>32</td><td>NA</td><td>NA</td><td>...</td><td>NA</td><td>NA</td><td>NA</td><td>NA</td><td>NA</td><td>NA</td><td>NA</td><td>NA</td><td>NA</td><td>NA</td></tr>\n",
       "\t<tr><td>AT-002355-01</td><td>11</td><td>1</td><td>1</td><td>71</td><td>1</td><td>0</td><td>47</td><td>NA</td><td>NA</td><td>...</td><td>NA</td><td>NA</td><td>NA</td><td>NA</td><td>NA</td><td>NA</td><td>NA</td><td>NA</td><td>NA</td><td>NA</td></tr>\n",
       "\t<tr><td>AT-002355-02</td><td>11</td><td>2</td><td>1</td><td>71</td><td>1</td><td>1</td><td>44</td><td>NA</td><td>NA</td><td>...</td><td>NA</td><td>NA</td><td>NA</td><td>NA</td><td>NA</td><td>NA</td><td>NA</td><td>NA</td><td>NA</td><td>NA</td></tr>\n",
       "</tbody>\n",
       "</table>\n"
      ],
      "text/latex": [
       "A tibble: 6 x 23\n",
       "\\begin{tabular}{lllllllllllllllllllll}\n",
       " mergeid & country & dn042\\_ & wave & age\\_int & dn014\\_ & eurod & casp & dn044\\_ & ac014\\_ & ... & ac018\\_ & ac019\\_ & ac020\\_ & ac021\\_ & ac022\\_ & ac023\\_ & ac024\\_ & ac025\\_ & divorced & time\\\\\n",
       " <chr> & <dbl+lbl> & <dbl+lbl> & <dbl> & <dbl+lbl> & <dbl+lbl> & <dbl+lbl> & <dbl+lbl> & <dbl+lbl> & <dbl+lbl> & ... & <dbl+lbl> & <dbl+lbl> & <dbl+lbl> & <dbl+lbl> & <dbl+lbl> & <dbl+lbl> & <dbl+lbl> & <dbl+lbl> & <dbl> & <dbl>\\\\\n",
       "\\hline\n",
       "\t AT-000327-01 & 11 & 1 & 1 & 51 & 1 & 0 & 37 & NA & NA & ... & NA & NA & NA & NA & NA & NA & NA & NA &  0 & NA\\\\\n",
       "\t AT-001816-01 & 11 & 2 & 1 & 61 & 1 & 2 & 43 & NA & NA & ... & NA & NA & NA & NA & NA & NA & NA & NA & NA & NA\\\\\n",
       "\t AT-001816-02 & 11 & 1 & 1 & 56 & 1 & 0 & 43 & NA & NA & ... & NA & NA & NA & NA & NA & NA & NA & NA &  0 & NA\\\\\n",
       "\t AT-002132-01 & 11 & 2 & 1 & 70 & 6 & 4 & 32 & NA & NA & ... & NA & NA & NA & NA & NA & NA & NA & NA & NA & NA\\\\\n",
       "\t AT-002355-01 & 11 & 1 & 1 & 71 & 1 & 0 & 47 & NA & NA & ... & NA & NA & NA & NA & NA & NA & NA & NA & NA & NA\\\\\n",
       "\t AT-002355-02 & 11 & 2 & 1 & 71 & 1 & 1 & 44 & NA & NA & ... & NA & NA & NA & NA & NA & NA & NA & NA & NA & NA\\\\\n",
       "\\end{tabular}\n"
      ],
      "text/markdown": [
       "\n",
       "A tibble: 6 x 23\n",
       "\n",
       "| mergeid &lt;chr&gt; | country &lt;dbl+lbl&gt; | dn042_ &lt;dbl+lbl&gt; | wave &lt;dbl&gt; | age_int &lt;dbl+lbl&gt; | dn014_ &lt;dbl+lbl&gt; | eurod &lt;dbl+lbl&gt; | casp &lt;dbl+lbl&gt; | dn044_ &lt;dbl+lbl&gt; | ac014_ &lt;dbl+lbl&gt; | ... ... | ac018_ &lt;dbl+lbl&gt; | ac019_ &lt;dbl+lbl&gt; | ac020_ &lt;dbl+lbl&gt; | ac021_ &lt;dbl+lbl&gt; | ac022_ &lt;dbl+lbl&gt; | ac023_ &lt;dbl+lbl&gt; | ac024_ &lt;dbl+lbl&gt; | ac025_ &lt;dbl+lbl&gt; | divorced &lt;dbl&gt; | time &lt;dbl&gt; |\n",
       "|---|---|---|---|---|---|---|---|---|---|---|---|---|---|---|---|---|---|---|---|---|\n",
       "| AT-000327-01 | 11 | 1 | 1 | 51 | 1 | 0 | 37 | NA | NA | ... | NA | NA | NA | NA | NA | NA | NA | NA |  0 | NA |\n",
       "| AT-001816-01 | 11 | 2 | 1 | 61 | 1 | 2 | 43 | NA | NA | ... | NA | NA | NA | NA | NA | NA | NA | NA | NA | NA |\n",
       "| AT-001816-02 | 11 | 1 | 1 | 56 | 1 | 0 | 43 | NA | NA | ... | NA | NA | NA | NA | NA | NA | NA | NA |  0 | NA |\n",
       "| AT-002132-01 | 11 | 2 | 1 | 70 | 6 | 4 | 32 | NA | NA | ... | NA | NA | NA | NA | NA | NA | NA | NA | NA | NA |\n",
       "| AT-002355-01 | 11 | 1 | 1 | 71 | 1 | 0 | 47 | NA | NA | ... | NA | NA | NA | NA | NA | NA | NA | NA | NA | NA |\n",
       "| AT-002355-02 | 11 | 2 | 1 | 71 | 1 | 1 | 44 | NA | NA | ... | NA | NA | NA | NA | NA | NA | NA | NA | NA | NA |\n",
       "\n"
      ],
      "text/plain": [
       "  mergeid      country dn042_ wave age_int dn014_ eurod casp dn044_ ac014_ ...\n",
       "1 AT-000327-01 11      1      1    51      1      0     37   NA     NA     ...\n",
       "2 AT-001816-01 11      2      1    61      1      2     43   NA     NA     ...\n",
       "3 AT-001816-02 11      1      1    56      1      0     43   NA     NA     ...\n",
       "4 AT-002132-01 11      2      1    70      6      4     32   NA     NA     ...\n",
       "5 AT-002355-01 11      1      1    71      1      0     47   NA     NA     ...\n",
       "6 AT-002355-02 11      2      1    71      1      1     44   NA     NA     ...\n",
       "  ac018_ ac019_ ac020_ ac021_ ac022_ ac023_ ac024_ ac025_ divorced time\n",
       "1 NA     NA     NA     NA     NA     NA     NA     NA      0       NA  \n",
       "2 NA     NA     NA     NA     NA     NA     NA     NA     NA       NA  \n",
       "3 NA     NA     NA     NA     NA     NA     NA     NA      0       NA  \n",
       "4 NA     NA     NA     NA     NA     NA     NA     NA     NA       NA  \n",
       "5 NA     NA     NA     NA     NA     NA     NA     NA     NA       NA  \n",
       "6 NA     NA     NA     NA     NA     NA     NA     NA     NA       NA  "
      ]
     },
     "metadata": {},
     "output_type": "display_data"
    }
   ],
   "source": [
    "# Create variable \"divorced\" as the grouping variable and \"time\" as pre/post divorce\n",
    "\n",
    "all_waves_long <- all_waves_long %>%\n",
    "  mutate(wave = as.numeric(wave))\n",
    "\n",
    "all_waves_divorced_time <- all_waves_long %>%\n",
    "  group_by(mergeid) %>%\n",
    "  arrange(wave) %>%\n",
    "  mutate(\n",
    "      lag_dn014_ = lag(dn014_, order_by = wave),\n",
    "      lag_wave = lag(wave, order_by = wave),\n",
    "      lead_wave = lead(wave, order_by = wave),\n",
    "      lead_dn014_ = lead(dn014_, order_by = wave),\n",
    "      wave_diff_lag = wave - lag_wave,\n",
    "      wave_diff_lead = lead_wave - wave\n",
    "  ) %>%\n",
    "  mutate(\n",
    "    divorced = case_when(\n",
    "      dn014_ == 5 & lag_dn014_ %in% c(1, 2, 3) & wave_diff_lag == 1 ~ 1,\n",
    "      dn014_ %in% c(1, 2, 3) & lag_dn014_ %in% c(1, 2, 3) & wave_diff_lag == 1 ~ 0,\n",
    "      TRUE ~ NA_real_\n",
    "    ),\n",
    "  ) %>%\n",
    "  mutate (\n",
    "    lead_divorced = lead(divorced, order_by = wave),\n",
    "    divorced = case_when(\n",
    "      lead_divorced == 1 ~ 1,\n",
    "      lead_divorced == 0 ~ 0,\n",
    "      TRUE ~ divorced\n",
    "    ) \n",
    "  ) %>%\n",
    "  mutate (\n",
    "    time = case_when(\n",
    "      divorced == 1 & dn014_ == 5 ~ 1, \n",
    "      divorced == 1 & lead_divorced == 1 ~ 0,\n",
    "      TRUE ~ NA_real_\n",
    "    )\n",
    "  ) %>%\n",
    "  ungroup() %>%\n",
    "  select(-lag_dn014_, -lag_wave, -wave_diff_lag, -wave_diff_lead, -lead_wave, -lead_dn014_, - lead_divorced)\n",
    "\n",
    "head(all_waves_divorced_time)\n"
   ]
  },
  {
   "cell_type": "code",
   "execution_count": 17,
   "metadata": {
    "vscode": {
     "languageId": "r"
    }
   },
   "outputs": [
    {
     "data": {
      "text/html": [
       "<table class=\"dataframe\">\n",
       "<caption>A tibble: 6 x 23</caption>\n",
       "<thead>\n",
       "\t<tr><th scope=col>mergeid</th><th scope=col>country</th><th scope=col>dn042_</th><th scope=col>wave</th><th scope=col>age_int</th><th scope=col>dn014_</th><th scope=col>eurod</th><th scope=col>casp</th><th scope=col>dn044_</th><th scope=col>ac014_</th><th scope=col>...</th><th scope=col>ac018_</th><th scope=col>ac019_</th><th scope=col>ac020_</th><th scope=col>ac021_</th><th scope=col>ac022_</th><th scope=col>ac023_</th><th scope=col>ac024_</th><th scope=col>ac025_</th><th scope=col>divorced</th><th scope=col>time</th></tr>\n",
       "\t<tr><th scope=col>&lt;chr&gt;</th><th scope=col>&lt;dbl+lbl&gt;</th><th scope=col>&lt;dbl+lbl&gt;</th><th scope=col>&lt;dbl&gt;</th><th scope=col>&lt;dbl+lbl&gt;</th><th scope=col>&lt;dbl+lbl&gt;</th><th scope=col>&lt;dbl+lbl&gt;</th><th scope=col>&lt;dbl+lbl&gt;</th><th scope=col>&lt;dbl+lbl&gt;</th><th scope=col>&lt;dbl+lbl&gt;</th><th scope=col>...</th><th scope=col>&lt;dbl+lbl&gt;</th><th scope=col>&lt;dbl+lbl&gt;</th><th scope=col>&lt;dbl+lbl&gt;</th><th scope=col>&lt;dbl+lbl&gt;</th><th scope=col>&lt;dbl+lbl&gt;</th><th scope=col>&lt;dbl+lbl&gt;</th><th scope=col>&lt;dbl+lbl&gt;</th><th scope=col>&lt;dbl+lbl&gt;</th><th scope=col>&lt;dbl&gt;</th><th scope=col>&lt;dbl&gt;</th></tr>\n",
       "</thead>\n",
       "<tbody>\n",
       "\t<tr><td>AT-000327-01</td><td>11</td><td>1</td><td>1</td><td>51</td><td>1</td><td> 0</td><td>37</td><td>NA</td><td>NA</td><td>...</td><td>NA</td><td>NA</td><td>NA</td><td>NA</td><td>NA</td><td>NA</td><td>NA</td><td>NA</td><td>0</td><td>0</td></tr>\n",
       "\t<tr><td>AT-000327-01</td><td>11</td><td>1</td><td>2</td><td>54</td><td>1</td><td> 9</td><td>24</td><td> 5</td><td> 3</td><td>...</td><td> 4</td><td> 4</td><td> 1</td><td> 3</td><td> 4</td><td> 4</td><td> 4</td><td> 4</td><td>0</td><td>1</td></tr>\n",
       "\t<tr><td>AT-001492-01</td><td>11</td><td>2</td><td>8</td><td>68</td><td>1</td><td> 1</td><td>38</td><td> 5</td><td> 2</td><td>...</td><td> 2</td><td> 1</td><td> 1</td><td> 1</td><td> 1</td><td> 2</td><td> 1</td><td> 2</td><td>0</td><td>0</td></tr>\n",
       "\t<tr><td>AT-001492-01</td><td>11</td><td>2</td><td>9</td><td>70</td><td>1</td><td> 1</td><td>39</td><td> 5</td><td> 3</td><td>...</td><td> 1</td><td> 2</td><td> 1</td><td> 1</td><td> 2</td><td> 1</td><td> 2</td><td> 2</td><td>0</td><td>1</td></tr>\n",
       "\t<tr><td>AT-001492-02</td><td>11</td><td>1</td><td>7</td><td>65</td><td>1</td><td>NA</td><td>46</td><td> 5</td><td> 3</td><td>...</td><td> 4</td><td> 3</td><td> 1</td><td> 1</td><td> 1</td><td> 1</td><td> 1</td><td> 1</td><td>0</td><td>0</td></tr>\n",
       "\t<tr><td>AT-001492-02</td><td>11</td><td>1</td><td>8</td><td>68</td><td>1</td><td> 2</td><td>43</td><td> 5</td><td> 4</td><td>...</td><td> 4</td><td> 2</td><td> 1</td><td> 1</td><td> 1</td><td> 1</td><td> 1</td><td> 1</td><td>0</td><td>1</td></tr>\n",
       "</tbody>\n",
       "</table>\n"
      ],
      "text/latex": [
       "A tibble: 6 x 23\n",
       "\\begin{tabular}{lllllllllllllllllllll}\n",
       " mergeid & country & dn042\\_ & wave & age\\_int & dn014\\_ & eurod & casp & dn044\\_ & ac014\\_ & ... & ac018\\_ & ac019\\_ & ac020\\_ & ac021\\_ & ac022\\_ & ac023\\_ & ac024\\_ & ac025\\_ & divorced & time\\\\\n",
       " <chr> & <dbl+lbl> & <dbl+lbl> & <dbl> & <dbl+lbl> & <dbl+lbl> & <dbl+lbl> & <dbl+lbl> & <dbl+lbl> & <dbl+lbl> & ... & <dbl+lbl> & <dbl+lbl> & <dbl+lbl> & <dbl+lbl> & <dbl+lbl> & <dbl+lbl> & <dbl+lbl> & <dbl+lbl> & <dbl> & <dbl>\\\\\n",
       "\\hline\n",
       "\t AT-000327-01 & 11 & 1 & 1 & 51 & 1 &  0 & 37 & NA & NA & ... & NA & NA & NA & NA & NA & NA & NA & NA & 0 & 0\\\\\n",
       "\t AT-000327-01 & 11 & 1 & 2 & 54 & 1 &  9 & 24 &  5 &  3 & ... &  4 &  4 &  1 &  3 &  4 &  4 &  4 &  4 & 0 & 1\\\\\n",
       "\t AT-001492-01 & 11 & 2 & 8 & 68 & 1 &  1 & 38 &  5 &  2 & ... &  2 &  1 &  1 &  1 &  1 &  2 &  1 &  2 & 0 & 0\\\\\n",
       "\t AT-001492-01 & 11 & 2 & 9 & 70 & 1 &  1 & 39 &  5 &  3 & ... &  1 &  2 &  1 &  1 &  2 &  1 &  2 &  2 & 0 & 1\\\\\n",
       "\t AT-001492-02 & 11 & 1 & 7 & 65 & 1 & NA & 46 &  5 &  3 & ... &  4 &  3 &  1 &  1 &  1 &  1 &  1 &  1 & 0 & 0\\\\\n",
       "\t AT-001492-02 & 11 & 1 & 8 & 68 & 1 &  2 & 43 &  5 &  4 & ... &  4 &  2 &  1 &  1 &  1 &  1 &  1 &  1 & 0 & 1\\\\\n",
       "\\end{tabular}\n"
      ],
      "text/markdown": [
       "\n",
       "A tibble: 6 x 23\n",
       "\n",
       "| mergeid &lt;chr&gt; | country &lt;dbl+lbl&gt; | dn042_ &lt;dbl+lbl&gt; | wave &lt;dbl&gt; | age_int &lt;dbl+lbl&gt; | dn014_ &lt;dbl+lbl&gt; | eurod &lt;dbl+lbl&gt; | casp &lt;dbl+lbl&gt; | dn044_ &lt;dbl+lbl&gt; | ac014_ &lt;dbl+lbl&gt; | ... ... | ac018_ &lt;dbl+lbl&gt; | ac019_ &lt;dbl+lbl&gt; | ac020_ &lt;dbl+lbl&gt; | ac021_ &lt;dbl+lbl&gt; | ac022_ &lt;dbl+lbl&gt; | ac023_ &lt;dbl+lbl&gt; | ac024_ &lt;dbl+lbl&gt; | ac025_ &lt;dbl+lbl&gt; | divorced &lt;dbl&gt; | time &lt;dbl&gt; |\n",
       "|---|---|---|---|---|---|---|---|---|---|---|---|---|---|---|---|---|---|---|---|---|\n",
       "| AT-000327-01 | 11 | 1 | 1 | 51 | 1 |  0 | 37 | NA | NA | ... | NA | NA | NA | NA | NA | NA | NA | NA | 0 | 0 |\n",
       "| AT-000327-01 | 11 | 1 | 2 | 54 | 1 |  9 | 24 |  5 |  3 | ... |  4 |  4 |  1 |  3 |  4 |  4 |  4 |  4 | 0 | 1 |\n",
       "| AT-001492-01 | 11 | 2 | 8 | 68 | 1 |  1 | 38 |  5 |  2 | ... |  2 |  1 |  1 |  1 |  1 |  2 |  1 |  2 | 0 | 0 |\n",
       "| AT-001492-01 | 11 | 2 | 9 | 70 | 1 |  1 | 39 |  5 |  3 | ... |  1 |  2 |  1 |  1 |  2 |  1 |  2 |  2 | 0 | 1 |\n",
       "| AT-001492-02 | 11 | 1 | 7 | 65 | 1 | NA | 46 |  5 |  3 | ... |  4 |  3 |  1 |  1 |  1 |  1 |  1 |  1 | 0 | 0 |\n",
       "| AT-001492-02 | 11 | 1 | 8 | 68 | 1 |  2 | 43 |  5 |  4 | ... |  4 |  2 |  1 |  1 |  1 |  1 |  1 |  1 | 0 | 1 |\n",
       "\n"
      ],
      "text/plain": [
       "  mergeid      country dn042_ wave age_int dn014_ eurod casp dn044_ ac014_ ...\n",
       "1 AT-000327-01 11      1      1    51      1       0    37   NA     NA     ...\n",
       "2 AT-000327-01 11      1      2    54      1       9    24    5      3     ...\n",
       "3 AT-001492-01 11      2      8    68      1       1    38    5      2     ...\n",
       "4 AT-001492-01 11      2      9    70      1       1    39    5      3     ...\n",
       "5 AT-001492-02 11      1      7    65      1      NA    46    5      3     ...\n",
       "6 AT-001492-02 11      1      8    68      1       2    43    5      4     ...\n",
       "  ac018_ ac019_ ac020_ ac021_ ac022_ ac023_ ac024_ ac025_ divorced time\n",
       "1 NA     NA     NA     NA     NA     NA     NA     NA     0        0   \n",
       "2  4      4      1      3      4      4      4      4     0        1   \n",
       "3  2      1      1      1      1      2      1      2     0        0   \n",
       "4  1      2      1      1      2      1      2      2     0        1   \n",
       "5  4      3      1      1      1      1      1      1     0        0   \n",
       "6  4      2      1      1      1      1      1      1     0        1   "
      ]
     },
     "metadata": {},
     "output_type": "display_data"
    },
    {
     "data": {
      "text/html": [
       "<table class=\"dataframe\">\n",
       "<caption>A tibble: 6 x 23</caption>\n",
       "<thead>\n",
       "\t<tr><th scope=col>mergeid</th><th scope=col>country</th><th scope=col>dn042_</th><th scope=col>wave</th><th scope=col>age_int</th><th scope=col>dn014_</th><th scope=col>eurod</th><th scope=col>casp</th><th scope=col>dn044_</th><th scope=col>ac014_</th><th scope=col>...</th><th scope=col>ac018_</th><th scope=col>ac019_</th><th scope=col>ac020_</th><th scope=col>ac021_</th><th scope=col>ac022_</th><th scope=col>ac023_</th><th scope=col>ac024_</th><th scope=col>ac025_</th><th scope=col>divorced</th><th scope=col>time</th></tr>\n",
       "\t<tr><th scope=col>&lt;chr&gt;</th><th scope=col>&lt;dbl+lbl&gt;</th><th scope=col>&lt;dbl+lbl&gt;</th><th scope=col>&lt;dbl&gt;</th><th scope=col>&lt;dbl+lbl&gt;</th><th scope=col>&lt;dbl+lbl&gt;</th><th scope=col>&lt;dbl+lbl&gt;</th><th scope=col>&lt;dbl+lbl&gt;</th><th scope=col>&lt;dbl+lbl&gt;</th><th scope=col>&lt;dbl+lbl&gt;</th><th scope=col>...</th><th scope=col>&lt;dbl+lbl&gt;</th><th scope=col>&lt;dbl+lbl&gt;</th><th scope=col>&lt;dbl+lbl&gt;</th><th scope=col>&lt;dbl+lbl&gt;</th><th scope=col>&lt;dbl+lbl&gt;</th><th scope=col>&lt;dbl+lbl&gt;</th><th scope=col>&lt;dbl+lbl&gt;</th><th scope=col>&lt;dbl+lbl&gt;</th><th scope=col>&lt;dbl&gt;</th><th scope=col>&lt;dbl&gt;</th></tr>\n",
       "</thead>\n",
       "<tbody>\n",
       "\t<tr><td>AT-000327-01</td><td>11</td><td>1</td><td>1</td><td>51</td><td>1</td><td> 0</td><td>37</td><td>NA</td><td>NA</td><td>...</td><td>NA</td><td>NA</td><td>NA</td><td>NA</td><td>NA</td><td>NA</td><td>NA</td><td>NA</td><td>0</td><td>0</td></tr>\n",
       "\t<tr><td>AT-000327-01</td><td>11</td><td>1</td><td>2</td><td>54</td><td>1</td><td> 9</td><td>24</td><td> 5</td><td> 3</td><td>...</td><td> 4</td><td> 4</td><td> 1</td><td> 3</td><td> 4</td><td> 4</td><td> 4</td><td> 4</td><td>0</td><td>1</td></tr>\n",
       "\t<tr><td>AT-001492-01</td><td>11</td><td>2</td><td>8</td><td>68</td><td>1</td><td> 1</td><td>38</td><td> 5</td><td> 2</td><td>...</td><td> 2</td><td> 1</td><td> 1</td><td> 1</td><td> 1</td><td> 2</td><td> 1</td><td> 2</td><td>0</td><td>0</td></tr>\n",
       "\t<tr><td>AT-001492-01</td><td>11</td><td>2</td><td>9</td><td>70</td><td>1</td><td> 1</td><td>39</td><td> 5</td><td> 3</td><td>...</td><td> 1</td><td> 2</td><td> 1</td><td> 1</td><td> 2</td><td> 1</td><td> 2</td><td> 2</td><td>0</td><td>1</td></tr>\n",
       "\t<tr><td>AT-001492-02</td><td>11</td><td>1</td><td>7</td><td>65</td><td>1</td><td>NA</td><td>46</td><td> 5</td><td> 3</td><td>...</td><td> 4</td><td> 3</td><td> 1</td><td> 1</td><td> 1</td><td> 1</td><td> 1</td><td> 1</td><td>0</td><td>0</td></tr>\n",
       "\t<tr><td>AT-001492-02</td><td>11</td><td>1</td><td>8</td><td>68</td><td>1</td><td> 2</td><td>43</td><td> 5</td><td> 4</td><td>...</td><td> 4</td><td> 2</td><td> 1</td><td> 1</td><td> 1</td><td> 1</td><td> 1</td><td> 1</td><td>0</td><td>1</td></tr>\n",
       "</tbody>\n",
       "</table>\n"
      ],
      "text/latex": [
       "A tibble: 6 x 23\n",
       "\\begin{tabular}{lllllllllllllllllllll}\n",
       " mergeid & country & dn042\\_ & wave & age\\_int & dn014\\_ & eurod & casp & dn044\\_ & ac014\\_ & ... & ac018\\_ & ac019\\_ & ac020\\_ & ac021\\_ & ac022\\_ & ac023\\_ & ac024\\_ & ac025\\_ & divorced & time\\\\\n",
       " <chr> & <dbl+lbl> & <dbl+lbl> & <dbl> & <dbl+lbl> & <dbl+lbl> & <dbl+lbl> & <dbl+lbl> & <dbl+lbl> & <dbl+lbl> & ... & <dbl+lbl> & <dbl+lbl> & <dbl+lbl> & <dbl+lbl> & <dbl+lbl> & <dbl+lbl> & <dbl+lbl> & <dbl+lbl> & <dbl> & <dbl>\\\\\n",
       "\\hline\n",
       "\t AT-000327-01 & 11 & 1 & 1 & 51 & 1 &  0 & 37 & NA & NA & ... & NA & NA & NA & NA & NA & NA & NA & NA & 0 & 0\\\\\n",
       "\t AT-000327-01 & 11 & 1 & 2 & 54 & 1 &  9 & 24 &  5 &  3 & ... &  4 &  4 &  1 &  3 &  4 &  4 &  4 &  4 & 0 & 1\\\\\n",
       "\t AT-001492-01 & 11 & 2 & 8 & 68 & 1 &  1 & 38 &  5 &  2 & ... &  2 &  1 &  1 &  1 &  1 &  2 &  1 &  2 & 0 & 0\\\\\n",
       "\t AT-001492-01 & 11 & 2 & 9 & 70 & 1 &  1 & 39 &  5 &  3 & ... &  1 &  2 &  1 &  1 &  2 &  1 &  2 &  2 & 0 & 1\\\\\n",
       "\t AT-001492-02 & 11 & 1 & 7 & 65 & 1 & NA & 46 &  5 &  3 & ... &  4 &  3 &  1 &  1 &  1 &  1 &  1 &  1 & 0 & 0\\\\\n",
       "\t AT-001492-02 & 11 & 1 & 8 & 68 & 1 &  2 & 43 &  5 &  4 & ... &  4 &  2 &  1 &  1 &  1 &  1 &  1 &  1 & 0 & 1\\\\\n",
       "\\end{tabular}\n"
      ],
      "text/markdown": [
       "\n",
       "A tibble: 6 x 23\n",
       "\n",
       "| mergeid &lt;chr&gt; | country &lt;dbl+lbl&gt; | dn042_ &lt;dbl+lbl&gt; | wave &lt;dbl&gt; | age_int &lt;dbl+lbl&gt; | dn014_ &lt;dbl+lbl&gt; | eurod &lt;dbl+lbl&gt; | casp &lt;dbl+lbl&gt; | dn044_ &lt;dbl+lbl&gt; | ac014_ &lt;dbl+lbl&gt; | ... ... | ac018_ &lt;dbl+lbl&gt; | ac019_ &lt;dbl+lbl&gt; | ac020_ &lt;dbl+lbl&gt; | ac021_ &lt;dbl+lbl&gt; | ac022_ &lt;dbl+lbl&gt; | ac023_ &lt;dbl+lbl&gt; | ac024_ &lt;dbl+lbl&gt; | ac025_ &lt;dbl+lbl&gt; | divorced &lt;dbl&gt; | time &lt;dbl&gt; |\n",
       "|---|---|---|---|---|---|---|---|---|---|---|---|---|---|---|---|---|---|---|---|---|\n",
       "| AT-000327-01 | 11 | 1 | 1 | 51 | 1 |  0 | 37 | NA | NA | ... | NA | NA | NA | NA | NA | NA | NA | NA | 0 | 0 |\n",
       "| AT-000327-01 | 11 | 1 | 2 | 54 | 1 |  9 | 24 |  5 |  3 | ... |  4 |  4 |  1 |  3 |  4 |  4 |  4 |  4 | 0 | 1 |\n",
       "| AT-001492-01 | 11 | 2 | 8 | 68 | 1 |  1 | 38 |  5 |  2 | ... |  2 |  1 |  1 |  1 |  1 |  2 |  1 |  2 | 0 | 0 |\n",
       "| AT-001492-01 | 11 | 2 | 9 | 70 | 1 |  1 | 39 |  5 |  3 | ... |  1 |  2 |  1 |  1 |  2 |  1 |  2 |  2 | 0 | 1 |\n",
       "| AT-001492-02 | 11 | 1 | 7 | 65 | 1 | NA | 46 |  5 |  3 | ... |  4 |  3 |  1 |  1 |  1 |  1 |  1 |  1 | 0 | 0 |\n",
       "| AT-001492-02 | 11 | 1 | 8 | 68 | 1 |  2 | 43 |  5 |  4 | ... |  4 |  2 |  1 |  1 |  1 |  1 |  1 |  1 | 0 | 1 |\n",
       "\n"
      ],
      "text/plain": [
       "  mergeid      country dn042_ wave age_int dn014_ eurod casp dn044_ ac014_ ...\n",
       "1 AT-000327-01 11      1      1    51      1       0    37   NA     NA     ...\n",
       "2 AT-000327-01 11      1      2    54      1       9    24    5      3     ...\n",
       "3 AT-001492-01 11      2      8    68      1       1    38    5      2     ...\n",
       "4 AT-001492-01 11      2      9    70      1       1    39    5      3     ...\n",
       "5 AT-001492-02 11      1      7    65      1      NA    46    5      3     ...\n",
       "6 AT-001492-02 11      1      8    68      1       2    43    5      4     ...\n",
       "  ac018_ ac019_ ac020_ ac021_ ac022_ ac023_ ac024_ ac025_ divorced time\n",
       "1 NA     NA     NA     NA     NA     NA     NA     NA     0        0   \n",
       "2  4      4      1      3      4      4      4      4     0        1   \n",
       "3  2      1      1      1      1      2      1      2     0        0   \n",
       "4  1      2      1      1      2      1      2      2     0        1   \n",
       "5  4      3      1      1      1      1      1      1     0        0   \n",
       "6  4      2      1      1      1      1      1      1     0        1   "
      ]
     },
     "metadata": {},
     "output_type": "display_data"
    }
   ],
   "source": [
    "# Randomly take only two waves of each participate and get it's time variable\n",
    "experimental <- all_waves_divorced_time %>%\n",
    "  filter(divorced == 1)\n",
    "\n",
    "# Function to randomly pick two adjacent waves\n",
    "sample_conseq <- function(x, rows) {\n",
    "  repeat {\n",
    "    numbers <- 1:(nrow(x) - rows + 1)\n",
    "    sampled.numbers <- sample(numbers, 1)\n",
    "    sampled.rows <- seq(sampled.numbers, sampled.numbers + rows - 1)\n",
    "    \n",
    "    if (all(diff(x$wave[sampled.rows]) == 1)) {\n",
    "      result <- x[sampled.rows, ]\n",
    "      return(result)\n",
    "    }\n",
    "  }\n",
    "}\n",
    "\n",
    "control <- all_waves_divorced_time %>%\n",
    "  filter(divorced == 0) %>%\n",
    "  filter(!mergeid %in% experimental$mergeid) %>%\n",
    "  group_by(mergeid) %>%\n",
    "  arrange(wave) %>%\n",
    "  do(sample_conseq(.,rows = 2)) %>%\n",
    "  mutate(\n",
    "    time = row_number() - 1 \n",
    "  ) %>%\n",
    "  ungroup()\n",
    "\n",
    "head(control)\n",
    "\n",
    "all_waves_divorced_time2 <- bind_rows(experimental, control) %>%\n",
    "  arrange(mergeid, wave)\n",
    "\n",
    "head(all_waves_divorced_time2)\n"
   ]
  },
  {
   "cell_type": "code",
   "execution_count": 18,
   "metadata": {
    "vscode": {
     "languageId": "r"
    }
   },
   "outputs": [],
   "source": [
    "# Create \"waves_compared\" variable that shows the waves that are compared\n",
    "\n",
    "all_waves_divorced_time2 <- all_waves_divorced_time2 %>%\n",
    "    group_by(mergeid) %>%\n",
    "    arrange(wave) %>%\n",
    "    mutate(\n",
    "        waves_compared = case_when(\n",
    "            wave == 1 & time == 0 ~ \"1 - 2\",\n",
    "            wave == 2 & time == 1 ~ \"1 - 2\",\n",
    "            wave == 4 & time == 0 ~ \"4 - 5\",\n",
    "            wave == 5 & time == 1 ~ \"4 - 5\",\n",
    "            wave == 5 & time == 0 ~ \"5 - 6\",\n",
    "            wave == 6 & time == 1 ~ \"5 - 6\",\n",
    "            wave == 6 & time == 0 ~ \"6 - 7\",\n",
    "            wave == 7 & time == 1 ~ \"6 - 7\",\n",
    "            wave == 7 & time == 0 ~ \"7 - 8\",\n",
    "            wave == 8 & time == 1 ~ \"7 - 8\",\n",
    "            wave == 8 & time == 0 ~ \"8 - 9\",\n",
    "            wave == 9 & time == 1 ~ \"8 - 9\",\n",
    "            TRUE ~ NA_character_\n",
    "        )\n",
    "    ) %>%\n",
    "    ungroup() %>%\n",
    "        mutate(waves_compared = \n",
    "            factor(waves_compared, levels = unique(waves_compared[!is.na(waves_compared)]))\n",
    "        )"
   ]
  },
  {
   "cell_type": "code",
   "execution_count": 19,
   "metadata": {
    "vscode": {
     "languageId": "r"
    }
   },
   "outputs": [
    {
     "name": "stderr",
     "output_type": "stream",
     "text": [
      "\u001b[1m\u001b[22m`summarise()` has grouped output by 'mergeid'. You can override using the\n",
      "`.groups` argument.\n"
     ]
    },
    {
     "data": {
      "text/html": [
       "<table class=\"dataframe\">\n",
       "<caption>A tibble: 2 x 3</caption>\n",
       "<thead>\n",
       "\t<tr><th scope=col>divorced</th><th scope=col>min_wave_count</th><th scope=col>max_wave_count</th></tr>\n",
       "\t<tr><th scope=col>&lt;dbl&gt;</th><th scope=col>&lt;int&gt;</th><th scope=col>&lt;int&gt;</th></tr>\n",
       "</thead>\n",
       "<tbody>\n",
       "\t<tr><td>0</td><td>2</td><td>2</td></tr>\n",
       "\t<tr><td>1</td><td>2</td><td>2</td></tr>\n",
       "</tbody>\n",
       "</table>\n"
      ],
      "text/latex": [
       "A tibble: 2 x 3\n",
       "\\begin{tabular}{lll}\n",
       " divorced & min\\_wave\\_count & max\\_wave\\_count\\\\\n",
       " <dbl> & <int> & <int>\\\\\n",
       "\\hline\n",
       "\t 0 & 2 & 2\\\\\n",
       "\t 1 & 2 & 2\\\\\n",
       "\\end{tabular}\n"
      ],
      "text/markdown": [
       "\n",
       "A tibble: 2 x 3\n",
       "\n",
       "| divorced &lt;dbl&gt; | min_wave_count &lt;int&gt; | max_wave_count &lt;int&gt; |\n",
       "|---|---|---|\n",
       "| 0 | 2 | 2 |\n",
       "| 1 | 2 | 2 |\n",
       "\n"
      ],
      "text/plain": [
       "  divorced min_wave_count max_wave_count\n",
       "1 0        2              2             \n",
       "2 1        2              2             "
      ]
     },
     "metadata": {},
     "output_type": "display_data"
    },
    {
     "name": "stderr",
     "output_type": "stream",
     "text": [
      "\u001b[1m\u001b[22m`summarise()` has grouped output by 'divorced'. You can override using the\n",
      "`.groups` argument.\n"
     ]
    },
    {
     "data": {
      "text/html": [
       "<table class=\"dataframe\">\n",
       "<caption>A grouped_df: 4 x 3</caption>\n",
       "<thead>\n",
       "\t<tr><th scope=col>divorced</th><th scope=col>time</th><th scope=col>n()</th></tr>\n",
       "\t<tr><th scope=col>&lt;dbl&gt;</th><th scope=col>&lt;dbl&gt;</th><th scope=col>&lt;int&gt;</th></tr>\n",
       "</thead>\n",
       "<tbody>\n",
       "\t<tr><td>0</td><td>0</td><td>47176</td></tr>\n",
       "\t<tr><td>0</td><td>1</td><td>47176</td></tr>\n",
       "\t<tr><td>1</td><td>0</td><td>  341</td></tr>\n",
       "\t<tr><td>1</td><td>1</td><td>  341</td></tr>\n",
       "</tbody>\n",
       "</table>\n"
      ],
      "text/latex": [
       "A grouped\\_df: 4 x 3\n",
       "\\begin{tabular}{lll}\n",
       " divorced & time & n()\\\\\n",
       " <dbl> & <dbl> & <int>\\\\\n",
       "\\hline\n",
       "\t 0 & 0 & 47176\\\\\n",
       "\t 0 & 1 & 47176\\\\\n",
       "\t 1 & 0 &   341\\\\\n",
       "\t 1 & 1 &   341\\\\\n",
       "\\end{tabular}\n"
      ],
      "text/markdown": [
       "\n",
       "A grouped_df: 4 x 3\n",
       "\n",
       "| divorced &lt;dbl&gt; | time &lt;dbl&gt; | n() &lt;int&gt; |\n",
       "|---|---|---|\n",
       "| 0 | 0 | 47176 |\n",
       "| 0 | 1 | 47176 |\n",
       "| 1 | 0 |   341 |\n",
       "| 1 | 1 |   341 |\n",
       "\n"
      ],
      "text/plain": [
       "  divorced time n()  \n",
       "1 0        0    47176\n",
       "2 0        1    47176\n",
       "3 1        0      341\n",
       "4 1        1      341"
      ]
     },
     "metadata": {},
     "output_type": "display_data"
    },
    {
     "name": "stderr",
     "output_type": "stream",
     "text": [
      "\u001b[1m\u001b[22m`summarise()` has grouped output by 'waves_compared', 'wave', 'divorced'. You\n",
      "can override using the `.groups` argument.\n"
     ]
    },
    {
     "data": {
      "text/html": [
       "<table class=\"dataframe\">\n",
       "<caption>A grouped_df: 24 x 5</caption>\n",
       "<thead>\n",
       "\t<tr><th scope=col>waves_compared</th><th scope=col>wave</th><th scope=col>divorced</th><th scope=col>time</th><th scope=col>count</th></tr>\n",
       "\t<tr><th scope=col>&lt;fct&gt;</th><th scope=col>&lt;dbl&gt;</th><th scope=col>&lt;dbl&gt;</th><th scope=col>&lt;dbl&gt;</th><th scope=col>&lt;int&gt;</th></tr>\n",
       "</thead>\n",
       "<tbody>\n",
       "\t<tr><td>1 - 2</td><td>1</td><td>0</td><td>0</td><td> 8651</td></tr>\n",
       "\t<tr><td>1 - 2</td><td>1</td><td>1</td><td>0</td><td>   49</td></tr>\n",
       "\t<tr><td>1 - 2</td><td>2</td><td>0</td><td>1</td><td> 8651</td></tr>\n",
       "\t<tr><td>1 - 2</td><td>2</td><td>1</td><td>1</td><td>   49</td></tr>\n",
       "\t<tr><td>4 - 5</td><td>4</td><td>0</td><td>0</td><td> 3602</td></tr>\n",
       "\t<tr><td>4 - 5</td><td>4</td><td>1</td><td>0</td><td>   24</td></tr>\n",
       "\t<tr><td>4 - 5</td><td>5</td><td>0</td><td>1</td><td> 3602</td></tr>\n",
       "\t<tr><td>4 - 5</td><td>5</td><td>1</td><td>1</td><td>   24</td></tr>\n",
       "\t<tr><td>5 - 6</td><td>5</td><td>0</td><td>0</td><td> 7960</td></tr>\n",
       "\t<tr><td>5 - 6</td><td>5</td><td>1</td><td>0</td><td>   58</td></tr>\n",
       "\t<tr><td>5 - 6</td><td>6</td><td>0</td><td>1</td><td> 7960</td></tr>\n",
       "\t<tr><td>5 - 6</td><td>6</td><td>1</td><td>1</td><td>   58</td></tr>\n",
       "\t<tr><td>6 - 7</td><td>6</td><td>0</td><td>0</td><td>13054</td></tr>\n",
       "\t<tr><td>6 - 7</td><td>6</td><td>1</td><td>0</td><td>   94</td></tr>\n",
       "\t<tr><td>6 - 7</td><td>7</td><td>0</td><td>1</td><td>13054</td></tr>\n",
       "\t<tr><td>6 - 7</td><td>7</td><td>1</td><td>1</td><td>   94</td></tr>\n",
       "\t<tr><td>7 - 8</td><td>7</td><td>0</td><td>0</td><td> 7268</td></tr>\n",
       "\t<tr><td>7 - 8</td><td>7</td><td>1</td><td>0</td><td>   72</td></tr>\n",
       "\t<tr><td>7 - 8</td><td>8</td><td>0</td><td>1</td><td> 7268</td></tr>\n",
       "\t<tr><td>7 - 8</td><td>8</td><td>1</td><td>1</td><td>   72</td></tr>\n",
       "\t<tr><td>8 - 9</td><td>8</td><td>0</td><td>0</td><td> 6641</td></tr>\n",
       "\t<tr><td>8 - 9</td><td>8</td><td>1</td><td>0</td><td>   44</td></tr>\n",
       "\t<tr><td>8 - 9</td><td>9</td><td>0</td><td>1</td><td> 6641</td></tr>\n",
       "\t<tr><td>8 - 9</td><td>9</td><td>1</td><td>1</td><td>   44</td></tr>\n",
       "</tbody>\n",
       "</table>\n"
      ],
      "text/latex": [
       "A grouped\\_df: 24 x 5\n",
       "\\begin{tabular}{lllll}\n",
       " waves\\_compared & wave & divorced & time & count\\\\\n",
       " <fct> & <dbl> & <dbl> & <dbl> & <int>\\\\\n",
       "\\hline\n",
       "\t 1 - 2 & 1 & 0 & 0 &  8651\\\\\n",
       "\t 1 - 2 & 1 & 1 & 0 &    49\\\\\n",
       "\t 1 - 2 & 2 & 0 & 1 &  8651\\\\\n",
       "\t 1 - 2 & 2 & 1 & 1 &    49\\\\\n",
       "\t 4 - 5 & 4 & 0 & 0 &  3602\\\\\n",
       "\t 4 - 5 & 4 & 1 & 0 &    24\\\\\n",
       "\t 4 - 5 & 5 & 0 & 1 &  3602\\\\\n",
       "\t 4 - 5 & 5 & 1 & 1 &    24\\\\\n",
       "\t 5 - 6 & 5 & 0 & 0 &  7960\\\\\n",
       "\t 5 - 6 & 5 & 1 & 0 &    58\\\\\n",
       "\t 5 - 6 & 6 & 0 & 1 &  7960\\\\\n",
       "\t 5 - 6 & 6 & 1 & 1 &    58\\\\\n",
       "\t 6 - 7 & 6 & 0 & 0 & 13054\\\\\n",
       "\t 6 - 7 & 6 & 1 & 0 &    94\\\\\n",
       "\t 6 - 7 & 7 & 0 & 1 & 13054\\\\\n",
       "\t 6 - 7 & 7 & 1 & 1 &    94\\\\\n",
       "\t 7 - 8 & 7 & 0 & 0 &  7268\\\\\n",
       "\t 7 - 8 & 7 & 1 & 0 &    72\\\\\n",
       "\t 7 - 8 & 8 & 0 & 1 &  7268\\\\\n",
       "\t 7 - 8 & 8 & 1 & 1 &    72\\\\\n",
       "\t 8 - 9 & 8 & 0 & 0 &  6641\\\\\n",
       "\t 8 - 9 & 8 & 1 & 0 &    44\\\\\n",
       "\t 8 - 9 & 9 & 0 & 1 &  6641\\\\\n",
       "\t 8 - 9 & 9 & 1 & 1 &    44\\\\\n",
       "\\end{tabular}\n"
      ],
      "text/markdown": [
       "\n",
       "A grouped_df: 24 x 5\n",
       "\n",
       "| waves_compared &lt;fct&gt; | wave &lt;dbl&gt; | divorced &lt;dbl&gt; | time &lt;dbl&gt; | count &lt;int&gt; |\n",
       "|---|---|---|---|---|\n",
       "| 1 - 2 | 1 | 0 | 0 |  8651 |\n",
       "| 1 - 2 | 1 | 1 | 0 |    49 |\n",
       "| 1 - 2 | 2 | 0 | 1 |  8651 |\n",
       "| 1 - 2 | 2 | 1 | 1 |    49 |\n",
       "| 4 - 5 | 4 | 0 | 0 |  3602 |\n",
       "| 4 - 5 | 4 | 1 | 0 |    24 |\n",
       "| 4 - 5 | 5 | 0 | 1 |  3602 |\n",
       "| 4 - 5 | 5 | 1 | 1 |    24 |\n",
       "| 5 - 6 | 5 | 0 | 0 |  7960 |\n",
       "| 5 - 6 | 5 | 1 | 0 |    58 |\n",
       "| 5 - 6 | 6 | 0 | 1 |  7960 |\n",
       "| 5 - 6 | 6 | 1 | 1 |    58 |\n",
       "| 6 - 7 | 6 | 0 | 0 | 13054 |\n",
       "| 6 - 7 | 6 | 1 | 0 |    94 |\n",
       "| 6 - 7 | 7 | 0 | 1 | 13054 |\n",
       "| 6 - 7 | 7 | 1 | 1 |    94 |\n",
       "| 7 - 8 | 7 | 0 | 0 |  7268 |\n",
       "| 7 - 8 | 7 | 1 | 0 |    72 |\n",
       "| 7 - 8 | 8 | 0 | 1 |  7268 |\n",
       "| 7 - 8 | 8 | 1 | 1 |    72 |\n",
       "| 8 - 9 | 8 | 0 | 0 |  6641 |\n",
       "| 8 - 9 | 8 | 1 | 0 |    44 |\n",
       "| 8 - 9 | 9 | 0 | 1 |  6641 |\n",
       "| 8 - 9 | 9 | 1 | 1 |    44 |\n",
       "\n"
      ],
      "text/plain": [
       "   waves_compared wave divorced time count\n",
       "1  1 - 2          1    0        0     8651\n",
       "2  1 - 2          1    1        0       49\n",
       "3  1 - 2          2    0        1     8651\n",
       "4  1 - 2          2    1        1       49\n",
       "5  4 - 5          4    0        0     3602\n",
       "6  4 - 5          4    1        0       24\n",
       "7  4 - 5          5    0        1     3602\n",
       "8  4 - 5          5    1        1       24\n",
       "9  5 - 6          5    0        0     7960\n",
       "10 5 - 6          5    1        0       58\n",
       "11 5 - 6          6    0        1     7960\n",
       "12 5 - 6          6    1        1       58\n",
       "13 6 - 7          6    0        0    13054\n",
       "14 6 - 7          6    1        0       94\n",
       "15 6 - 7          7    0        1    13054\n",
       "16 6 - 7          7    1        1       94\n",
       "17 7 - 8          7    0        0     7268\n",
       "18 7 - 8          7    1        0       72\n",
       "19 7 - 8          8    0        1     7268\n",
       "20 7 - 8          8    1        1       72\n",
       "21 8 - 9          8    0        0     6641\n",
       "22 8 - 9          8    1        0       44\n",
       "23 8 - 9          9    0        1     6641\n",
       "24 8 - 9          9    1        1       44"
      ]
     },
     "metadata": {},
     "output_type": "display_data"
    },
    {
     "name": "stderr",
     "output_type": "stream",
     "text": [
      "Warning message in cbind(parts$left, chars$ellip_h, parts$right, deparse.level = 0L):\n",
      "\"number of rows of result is not a multiple of vector length (arg 2)\"\n",
      "Warning message in cbind(parts$left, chars$ellip_h, parts$right, deparse.level = 0L):\n",
      "\"number of rows of result is not a multiple of vector length (arg 2)\"\n",
      "Warning message in cbind(parts$left, chars$ellip_h, parts$right, deparse.level = 0L):\n",
      "\"number of rows of result is not a multiple of vector length (arg 2)\"\n",
      "Warning message in cbind(parts$left, chars$ellip_h, parts$right, deparse.level = 0L):\n",
      "\"number of rows of result is not a multiple of vector length (arg 2)\"\n"
     ]
    },
    {
     "data": {
      "text/html": [
       "<table class=\"dataframe\">\n",
       "<caption>A tibble: 0 x 24</caption>\n",
       "<thead>\n",
       "\t<tr><th scope=col>mergeid</th><th scope=col>country</th><th scope=col>dn042_</th><th scope=col>wave</th><th scope=col>age_int</th><th scope=col>dn014_</th><th scope=col>eurod</th><th scope=col>casp</th><th scope=col>dn044_</th><th scope=col>ac014_</th><th scope=col>...</th><th scope=col>ac019_</th><th scope=col>ac020_</th><th scope=col>ac021_</th><th scope=col>ac022_</th><th scope=col>ac023_</th><th scope=col>ac024_</th><th scope=col>ac025_</th><th scope=col>divorced</th><th scope=col>time</th><th scope=col>waves_compared</th></tr>\n",
       "\t<tr><th scope=col>&lt;chr&gt;</th><th scope=col>&lt;dbl+lbl&gt;</th><th scope=col>&lt;dbl+lbl&gt;</th><th scope=col>&lt;dbl&gt;</th><th scope=col>&lt;dbl+lbl&gt;</th><th scope=col>&lt;dbl+lbl&gt;</th><th scope=col>&lt;dbl+lbl&gt;</th><th scope=col>&lt;dbl+lbl&gt;</th><th scope=col>&lt;dbl+lbl&gt;</th><th scope=col>&lt;dbl+lbl&gt;</th><th scope=col>...</th><th scope=col>&lt;dbl+lbl&gt;</th><th scope=col>&lt;dbl+lbl&gt;</th><th scope=col>&lt;dbl+lbl&gt;</th><th scope=col>&lt;dbl+lbl&gt;</th><th scope=col>&lt;dbl+lbl&gt;</th><th scope=col>&lt;dbl+lbl&gt;</th><th scope=col>&lt;dbl+lbl&gt;</th><th scope=col>&lt;dbl&gt;</th><th scope=col>&lt;dbl&gt;</th><th scope=col>&lt;fct&gt;</th></tr>\n",
       "</thead>\n",
       "<tbody>\n",
       "</tbody>\n",
       "</table>\n"
      ],
      "text/latex": [
       "A tibble: 0 x 24\n",
       "\\begin{tabular}{lllllllllllllllllllll}\n",
       " mergeid & country & dn042\\_ & wave & age\\_int & dn014\\_ & eurod & casp & dn044\\_ & ac014\\_ & ... & ac019\\_ & ac020\\_ & ac021\\_ & ac022\\_ & ac023\\_ & ac024\\_ & ac025\\_ & divorced & time & waves\\_compared\\\\\n",
       " <chr> & <dbl+lbl> & <dbl+lbl> & <dbl> & <dbl+lbl> & <dbl+lbl> & <dbl+lbl> & <dbl+lbl> & <dbl+lbl> & <dbl+lbl> & ... & <dbl+lbl> & <dbl+lbl> & <dbl+lbl> & <dbl+lbl> & <dbl+lbl> & <dbl+lbl> & <dbl+lbl> & <dbl> & <dbl> & <fct>\\\\\n",
       "\\hline\n",
       "\\end{tabular}\n"
      ],
      "text/markdown": [
       "\n",
       "A tibble: 0 x 24\n",
       "\n",
       "| mergeid &lt;chr&gt; | country &lt;dbl+lbl&gt; | dn042_ &lt;dbl+lbl&gt; | wave &lt;dbl&gt; | age_int &lt;dbl+lbl&gt; | dn014_ &lt;dbl+lbl&gt; | eurod &lt;dbl+lbl&gt; | casp &lt;dbl+lbl&gt; | dn044_ &lt;dbl+lbl&gt; | ac014_ &lt;dbl+lbl&gt; | ... ... | ac019_ &lt;dbl+lbl&gt; | ac020_ &lt;dbl+lbl&gt; | ac021_ &lt;dbl+lbl&gt; | ac022_ &lt;dbl+lbl&gt; | ac023_ &lt;dbl+lbl&gt; | ac024_ &lt;dbl+lbl&gt; | ac025_ &lt;dbl+lbl&gt; | divorced &lt;dbl&gt; | time &lt;dbl&gt; | waves_compared &lt;fct&gt; |\n",
       "|---|---|---|---|---|---|---|---|---|---|---|---|---|---|---|---|---|---|---|---|---|\n",
       "\n"
      ],
      "text/plain": [
       "     mergeid country dn042_ wave age_int dn014_ eurod casp dn044_ ac014_ ...\n",
       "     ac019_ ac020_ ac021_ ac022_ ac023_ ac024_ ac025_ divorced time\n",
       "     waves_compared"
      ]
     },
     "metadata": {},
     "output_type": "display_data"
    }
   ],
   "source": [
    "# Check if there are more than two observations for each participant\n",
    "\n",
    "all_waves_divorced_time2 %>%\n",
    "    group_by(mergeid, divorced) %>%\n",
    "    summarize (\n",
    "        wave_count = n()\n",
    "    ) %>%\n",
    "    ungroup() %>%\n",
    "    group_by(divorced) %>%\n",
    "    summarize (\n",
    "        min_wave_count = min(wave_count),\n",
    "        max_wave_count = max(wave_count)\n",
    "    )\n",
    "\n",
    "# Check if there are same amount of observation.\n",
    "all_waves_divorced_time2 %>%\n",
    "    group_by(divorced, time) %>%\n",
    "    summarize(\n",
    "        n()\n",
    "    )\n",
    "\n",
    "all_waves_divorced_time2 %>%\n",
    "    group_by(waves_compared, wave, divorced, time) %>%\n",
    "        summarize(\n",
    "            count = n()\n",
    "        )\n",
    "\n",
    "# Check for unbalanced observations\n",
    "filter1 <- all_waves_divorced_time2 %>%\n",
    "    filter(waves_compared == \"5 - 6\" & wave == 5 & divorced == 0)\n",
    "\n",
    "filter2 <- all_waves_divorced_time2 %>%\n",
    "    filter(waves_compared == \"5 - 6\" & wave == 6 & divorced == 0)\n",
    "\n",
    "filter3 <- anti_join(filter1, filter2, by = \"mergeid\")\n",
    "\n",
    "all_waves_divorced_time2 %>%\n",
    "    filter(mergeid %in% filter3$mergeid) %>%\n",
    "    arrange(mergeid, wave)"
   ]
  },
  {
   "cell_type": "code",
   "execution_count": 20,
   "metadata": {
    "vscode": {
     "languageId": "r"
    }
   },
   "outputs": [
    {
     "data": {
      "text/html": [
       "<table class=\"dataframe\">\n",
       "<caption>A grouped_df: 6 x 24</caption>\n",
       "<thead>\n",
       "\t<tr><th scope=col>mergeid</th><th scope=col>country</th><th scope=col>dn042_</th><th scope=col>wave</th><th scope=col>age_int</th><th scope=col>dn014_</th><th scope=col>eurod</th><th scope=col>casp</th><th scope=col>dn044_</th><th scope=col>ac014_</th><th scope=col>...</th><th scope=col>ac019_</th><th scope=col>ac020_</th><th scope=col>ac021_</th><th scope=col>ac022_</th><th scope=col>ac023_</th><th scope=col>ac024_</th><th scope=col>ac025_</th><th scope=col>divorced</th><th scope=col>time</th><th scope=col>waves_compared</th></tr>\n",
       "\t<tr><th scope=col>&lt;chr&gt;</th><th scope=col>&lt;dbl+lbl&gt;</th><th scope=col>&lt;dbl+lbl&gt;</th><th scope=col>&lt;dbl&gt;</th><th scope=col>&lt;dbl+lbl&gt;</th><th scope=col>&lt;dbl+lbl&gt;</th><th scope=col>&lt;dbl+lbl&gt;</th><th scope=col>&lt;dbl+lbl&gt;</th><th scope=col>&lt;dbl+lbl&gt;</th><th scope=col>&lt;dbl+lbl&gt;</th><th scope=col>...</th><th scope=col>&lt;dbl+lbl&gt;</th><th scope=col>&lt;dbl+lbl&gt;</th><th scope=col>&lt;dbl+lbl&gt;</th><th scope=col>&lt;dbl+lbl&gt;</th><th scope=col>&lt;dbl+lbl&gt;</th><th scope=col>&lt;dbl+lbl&gt;</th><th scope=col>&lt;dbl+lbl&gt;</th><th scope=col>&lt;dbl&gt;</th><th scope=col>&lt;dbl&gt;</th><th scope=col>&lt;fct&gt;</th></tr>\n",
       "</thead>\n",
       "<tbody>\n",
       "\t<tr><td>AT-000327-01</td><td>11</td><td>1</td><td>1</td><td>51</td><td>1</td><td>0</td><td>37</td><td>NA</td><td>NA</td><td>...</td><td>NA</td><td>NA</td><td>NA</td><td>NA</td><td>NA</td><td>NA</td><td>NA</td><td>0</td><td>0</td><td>1 - 2</td></tr>\n",
       "\t<tr><td>AT-001816-02</td><td>11</td><td>1</td><td>1</td><td>56</td><td>1</td><td>0</td><td>43</td><td>NA</td><td>NA</td><td>...</td><td>NA</td><td>NA</td><td>NA</td><td>NA</td><td>NA</td><td>NA</td><td>NA</td><td>0</td><td>0</td><td>1 - 2</td></tr>\n",
       "\t<tr><td>AT-004234-01</td><td>11</td><td>1</td><td>1</td><td>53</td><td>1</td><td>2</td><td>33</td><td>NA</td><td>NA</td><td>...</td><td>NA</td><td>NA</td><td>NA</td><td>NA</td><td>NA</td><td>NA</td><td>NA</td><td>0</td><td>0</td><td>1 - 2</td></tr>\n",
       "\t<tr><td>AT-004855-01</td><td>11</td><td>1</td><td>1</td><td>79</td><td>1</td><td>9</td><td>22</td><td>NA</td><td>NA</td><td>...</td><td>NA</td><td>NA</td><td>NA</td><td>NA</td><td>NA</td><td>NA</td><td>NA</td><td>0</td><td>0</td><td>1 - 2</td></tr>\n",
       "\t<tr><td>AT-004855-02</td><td>11</td><td>2</td><td>1</td><td>71</td><td>1</td><td>2</td><td>37</td><td>NA</td><td>NA</td><td>...</td><td>NA</td><td>NA</td><td>NA</td><td>NA</td><td>NA</td><td>NA</td><td>NA</td><td>0</td><td>0</td><td>1 - 2</td></tr>\n",
       "\t<tr><td>AT-005460-01</td><td>11</td><td>1</td><td>1</td><td>64</td><td>1</td><td>2</td><td>45</td><td>NA</td><td>NA</td><td>...</td><td>NA</td><td>NA</td><td>NA</td><td>NA</td><td>NA</td><td>NA</td><td>NA</td><td>0</td><td>0</td><td>1 - 2</td></tr>\n",
       "</tbody>\n",
       "</table>\n"
      ],
      "text/latex": [
       "A grouped\\_df: 6 x 24\n",
       "\\begin{tabular}{lllllllllllllllllllll}\n",
       " mergeid & country & dn042\\_ & wave & age\\_int & dn014\\_ & eurod & casp & dn044\\_ & ac014\\_ & ... & ac019\\_ & ac020\\_ & ac021\\_ & ac022\\_ & ac023\\_ & ac024\\_ & ac025\\_ & divorced & time & waves\\_compared\\\\\n",
       " <chr> & <dbl+lbl> & <dbl+lbl> & <dbl> & <dbl+lbl> & <dbl+lbl> & <dbl+lbl> & <dbl+lbl> & <dbl+lbl> & <dbl+lbl> & ... & <dbl+lbl> & <dbl+lbl> & <dbl+lbl> & <dbl+lbl> & <dbl+lbl> & <dbl+lbl> & <dbl+lbl> & <dbl> & <dbl> & <fct>\\\\\n",
       "\\hline\n",
       "\t AT-000327-01 & 11 & 1 & 1 & 51 & 1 & 0 & 37 & NA & NA & ... & NA & NA & NA & NA & NA & NA & NA & 0 & 0 & 1 - 2\\\\\n",
       "\t AT-001816-02 & 11 & 1 & 1 & 56 & 1 & 0 & 43 & NA & NA & ... & NA & NA & NA & NA & NA & NA & NA & 0 & 0 & 1 - 2\\\\\n",
       "\t AT-004234-01 & 11 & 1 & 1 & 53 & 1 & 2 & 33 & NA & NA & ... & NA & NA & NA & NA & NA & NA & NA & 0 & 0 & 1 - 2\\\\\n",
       "\t AT-004855-01 & 11 & 1 & 1 & 79 & 1 & 9 & 22 & NA & NA & ... & NA & NA & NA & NA & NA & NA & NA & 0 & 0 & 1 - 2\\\\\n",
       "\t AT-004855-02 & 11 & 2 & 1 & 71 & 1 & 2 & 37 & NA & NA & ... & NA & NA & NA & NA & NA & NA & NA & 0 & 0 & 1 - 2\\\\\n",
       "\t AT-005460-01 & 11 & 1 & 1 & 64 & 1 & 2 & 45 & NA & NA & ... & NA & NA & NA & NA & NA & NA & NA & 0 & 0 & 1 - 2\\\\\n",
       "\\end{tabular}\n"
      ],
      "text/markdown": [
       "\n",
       "A grouped_df: 6 x 24\n",
       "\n",
       "| mergeid &lt;chr&gt; | country &lt;dbl+lbl&gt; | dn042_ &lt;dbl+lbl&gt; | wave &lt;dbl&gt; | age_int &lt;dbl+lbl&gt; | dn014_ &lt;dbl+lbl&gt; | eurod &lt;dbl+lbl&gt; | casp &lt;dbl+lbl&gt; | dn044_ &lt;dbl+lbl&gt; | ac014_ &lt;dbl+lbl&gt; | ... ... | ac019_ &lt;dbl+lbl&gt; | ac020_ &lt;dbl+lbl&gt; | ac021_ &lt;dbl+lbl&gt; | ac022_ &lt;dbl+lbl&gt; | ac023_ &lt;dbl+lbl&gt; | ac024_ &lt;dbl+lbl&gt; | ac025_ &lt;dbl+lbl&gt; | divorced &lt;dbl&gt; | time &lt;dbl&gt; | waves_compared &lt;fct&gt; |\n",
       "|---|---|---|---|---|---|---|---|---|---|---|---|---|---|---|---|---|---|---|---|---|\n",
       "| AT-000327-01 | 11 | 1 | 1 | 51 | 1 | 0 | 37 | NA | NA | ... | NA | NA | NA | NA | NA | NA | NA | 0 | 0 | 1 - 2 |\n",
       "| AT-001816-02 | 11 | 1 | 1 | 56 | 1 | 0 | 43 | NA | NA | ... | NA | NA | NA | NA | NA | NA | NA | 0 | 0 | 1 - 2 |\n",
       "| AT-004234-01 | 11 | 1 | 1 | 53 | 1 | 2 | 33 | NA | NA | ... | NA | NA | NA | NA | NA | NA | NA | 0 | 0 | 1 - 2 |\n",
       "| AT-004855-01 | 11 | 1 | 1 | 79 | 1 | 9 | 22 | NA | NA | ... | NA | NA | NA | NA | NA | NA | NA | 0 | 0 | 1 - 2 |\n",
       "| AT-004855-02 | 11 | 2 | 1 | 71 | 1 | 2 | 37 | NA | NA | ... | NA | NA | NA | NA | NA | NA | NA | 0 | 0 | 1 - 2 |\n",
       "| AT-005460-01 | 11 | 1 | 1 | 64 | 1 | 2 | 45 | NA | NA | ... | NA | NA | NA | NA | NA | NA | NA | 0 | 0 | 1 - 2 |\n",
       "\n"
      ],
      "text/plain": [
       "  mergeid      country dn042_ wave age_int dn014_ eurod casp dn044_ ac014_ ...\n",
       "1 AT-000327-01 11      1      1    51      1      0     37   NA     NA     ...\n",
       "2 AT-001816-02 11      1      1    56      1      0     43   NA     NA     ...\n",
       "3 AT-004234-01 11      1      1    53      1      2     33   NA     NA     ...\n",
       "4 AT-004855-01 11      1      1    79      1      9     22   NA     NA     ...\n",
       "5 AT-004855-02 11      2      1    71      1      2     37   NA     NA     ...\n",
       "6 AT-005460-01 11      1      1    64      1      2     45   NA     NA     ...\n",
       "  ac019_ ac020_ ac021_ ac022_ ac023_ ac024_ ac025_ divorced time waves_compared\n",
       "1 NA     NA     NA     NA     NA     NA     NA     0        0    1 - 2         \n",
       "2 NA     NA     NA     NA     NA     NA     NA     0        0    1 - 2         \n",
       "3 NA     NA     NA     NA     NA     NA     NA     0        0    1 - 2         \n",
       "4 NA     NA     NA     NA     NA     NA     NA     0        0    1 - 2         \n",
       "5 NA     NA     NA     NA     NA     NA     NA     0        0    1 - 2         \n",
       "6 NA     NA     NA     NA     NA     NA     NA     0        0    1 - 2         "
      ]
     },
     "metadata": {},
     "output_type": "display_data"
    }
   ],
   "source": [
    "# Filter out participants which have missing waves_compared, casp, country and gender in either observation\n",
    "\n",
    "all_waves_filtered <- all_waves_divorced_time2 %>%\n",
    "    group_by(mergeid) %>%\n",
    "    filter(\n",
    "        all(\n",
    "            !is.na(waves_compared) & \n",
    "            !is.na(casp) & !casp %in% c(-1, -2) &\n",
    "            !is.na(country) & !country %in% c(-1, -2) &\n",
    "            !is.na(dn042_) & !dn042_ %in% c(-1, -2)\n",
    "        )   \n",
    "    )\n",
    "\n",
    "head(all_waves_filtered)"
   ]
  },
  {
   "cell_type": "code",
   "execution_count": 21,
   "metadata": {
    "vscode": {
     "languageId": "r"
    }
   },
   "outputs": [
    {
     "name": "stderr",
     "output_type": "stream",
     "text": [
      "\u001b[1m\u001b[22m`summarise()` has grouped output by 'waves_compared', 'wave', 'divorced'. You\n",
      "can override using the `.groups` argument.\n"
     ]
    },
    {
     "data": {
      "text/html": [
       "<table class=\"dataframe\">\n",
       "<caption>A grouped_df: 24 x 5</caption>\n",
       "<thead>\n",
       "\t<tr><th scope=col>waves_compared</th><th scope=col>wave</th><th scope=col>divorced</th><th scope=col>time</th><th scope=col>count</th></tr>\n",
       "\t<tr><th scope=col>&lt;fct&gt;</th><th scope=col>&lt;dbl&gt;</th><th scope=col>&lt;dbl&gt;</th><th scope=col>&lt;dbl&gt;</th><th scope=col>&lt;int&gt;</th></tr>\n",
       "</thead>\n",
       "<tbody>\n",
       "\t<tr><td>1 - 2</td><td>1</td><td>0</td><td>0</td><td> 5055</td></tr>\n",
       "\t<tr><td>1 - 2</td><td>1</td><td>1</td><td>0</td><td>   31</td></tr>\n",
       "\t<tr><td>1 - 2</td><td>2</td><td>0</td><td>1</td><td> 5055</td></tr>\n",
       "\t<tr><td>1 - 2</td><td>2</td><td>1</td><td>1</td><td>   31</td></tr>\n",
       "\t<tr><td>4 - 5</td><td>4</td><td>0</td><td>0</td><td> 3294</td></tr>\n",
       "\t<tr><td>4 - 5</td><td>4</td><td>1</td><td>0</td><td>   22</td></tr>\n",
       "\t<tr><td>4 - 5</td><td>5</td><td>0</td><td>1</td><td> 3294</td></tr>\n",
       "\t<tr><td>4 - 5</td><td>5</td><td>1</td><td>1</td><td>   22</td></tr>\n",
       "\t<tr><td>5 - 6</td><td>5</td><td>0</td><td>0</td><td> 7051</td></tr>\n",
       "\t<tr><td>5 - 6</td><td>5</td><td>1</td><td>0</td><td>   53</td></tr>\n",
       "\t<tr><td>5 - 6</td><td>6</td><td>0</td><td>1</td><td> 7051</td></tr>\n",
       "\t<tr><td>5 - 6</td><td>6</td><td>1</td><td>1</td><td>   53</td></tr>\n",
       "\t<tr><td>6 - 7</td><td>6</td><td>0</td><td>0</td><td>11807</td></tr>\n",
       "\t<tr><td>6 - 7</td><td>6</td><td>1</td><td>0</td><td>   89</td></tr>\n",
       "\t<tr><td>6 - 7</td><td>7</td><td>0</td><td>1</td><td>11807</td></tr>\n",
       "\t<tr><td>6 - 7</td><td>7</td><td>1</td><td>1</td><td>   89</td></tr>\n",
       "\t<tr><td>7 - 8</td><td>7</td><td>0</td><td>0</td><td> 6689</td></tr>\n",
       "\t<tr><td>7 - 8</td><td>7</td><td>1</td><td>0</td><td>   70</td></tr>\n",
       "\t<tr><td>7 - 8</td><td>8</td><td>0</td><td>1</td><td> 6689</td></tr>\n",
       "\t<tr><td>7 - 8</td><td>8</td><td>1</td><td>1</td><td>   70</td></tr>\n",
       "\t<tr><td>8 - 9</td><td>8</td><td>0</td><td>0</td><td> 6212</td></tr>\n",
       "\t<tr><td>8 - 9</td><td>8</td><td>1</td><td>0</td><td>   39</td></tr>\n",
       "\t<tr><td>8 - 9</td><td>9</td><td>0</td><td>1</td><td> 6212</td></tr>\n",
       "\t<tr><td>8 - 9</td><td>9</td><td>1</td><td>1</td><td>   39</td></tr>\n",
       "</tbody>\n",
       "</table>\n"
      ],
      "text/latex": [
       "A grouped\\_df: 24 x 5\n",
       "\\begin{tabular}{lllll}\n",
       " waves\\_compared & wave & divorced & time & count\\\\\n",
       " <fct> & <dbl> & <dbl> & <dbl> & <int>\\\\\n",
       "\\hline\n",
       "\t 1 - 2 & 1 & 0 & 0 &  5055\\\\\n",
       "\t 1 - 2 & 1 & 1 & 0 &    31\\\\\n",
       "\t 1 - 2 & 2 & 0 & 1 &  5055\\\\\n",
       "\t 1 - 2 & 2 & 1 & 1 &    31\\\\\n",
       "\t 4 - 5 & 4 & 0 & 0 &  3294\\\\\n",
       "\t 4 - 5 & 4 & 1 & 0 &    22\\\\\n",
       "\t 4 - 5 & 5 & 0 & 1 &  3294\\\\\n",
       "\t 4 - 5 & 5 & 1 & 1 &    22\\\\\n",
       "\t 5 - 6 & 5 & 0 & 0 &  7051\\\\\n",
       "\t 5 - 6 & 5 & 1 & 0 &    53\\\\\n",
       "\t 5 - 6 & 6 & 0 & 1 &  7051\\\\\n",
       "\t 5 - 6 & 6 & 1 & 1 &    53\\\\\n",
       "\t 6 - 7 & 6 & 0 & 0 & 11807\\\\\n",
       "\t 6 - 7 & 6 & 1 & 0 &    89\\\\\n",
       "\t 6 - 7 & 7 & 0 & 1 & 11807\\\\\n",
       "\t 6 - 7 & 7 & 1 & 1 &    89\\\\\n",
       "\t 7 - 8 & 7 & 0 & 0 &  6689\\\\\n",
       "\t 7 - 8 & 7 & 1 & 0 &    70\\\\\n",
       "\t 7 - 8 & 8 & 0 & 1 &  6689\\\\\n",
       "\t 7 - 8 & 8 & 1 & 1 &    70\\\\\n",
       "\t 8 - 9 & 8 & 0 & 0 &  6212\\\\\n",
       "\t 8 - 9 & 8 & 1 & 0 &    39\\\\\n",
       "\t 8 - 9 & 9 & 0 & 1 &  6212\\\\\n",
       "\t 8 - 9 & 9 & 1 & 1 &    39\\\\\n",
       "\\end{tabular}\n"
      ],
      "text/markdown": [
       "\n",
       "A grouped_df: 24 x 5\n",
       "\n",
       "| waves_compared &lt;fct&gt; | wave &lt;dbl&gt; | divorced &lt;dbl&gt; | time &lt;dbl&gt; | count &lt;int&gt; |\n",
       "|---|---|---|---|---|\n",
       "| 1 - 2 | 1 | 0 | 0 |  5055 |\n",
       "| 1 - 2 | 1 | 1 | 0 |    31 |\n",
       "| 1 - 2 | 2 | 0 | 1 |  5055 |\n",
       "| 1 - 2 | 2 | 1 | 1 |    31 |\n",
       "| 4 - 5 | 4 | 0 | 0 |  3294 |\n",
       "| 4 - 5 | 4 | 1 | 0 |    22 |\n",
       "| 4 - 5 | 5 | 0 | 1 |  3294 |\n",
       "| 4 - 5 | 5 | 1 | 1 |    22 |\n",
       "| 5 - 6 | 5 | 0 | 0 |  7051 |\n",
       "| 5 - 6 | 5 | 1 | 0 |    53 |\n",
       "| 5 - 6 | 6 | 0 | 1 |  7051 |\n",
       "| 5 - 6 | 6 | 1 | 1 |    53 |\n",
       "| 6 - 7 | 6 | 0 | 0 | 11807 |\n",
       "| 6 - 7 | 6 | 1 | 0 |    89 |\n",
       "| 6 - 7 | 7 | 0 | 1 | 11807 |\n",
       "| 6 - 7 | 7 | 1 | 1 |    89 |\n",
       "| 7 - 8 | 7 | 0 | 0 |  6689 |\n",
       "| 7 - 8 | 7 | 1 | 0 |    70 |\n",
       "| 7 - 8 | 8 | 0 | 1 |  6689 |\n",
       "| 7 - 8 | 8 | 1 | 1 |    70 |\n",
       "| 8 - 9 | 8 | 0 | 0 |  6212 |\n",
       "| 8 - 9 | 8 | 1 | 0 |    39 |\n",
       "| 8 - 9 | 9 | 0 | 1 |  6212 |\n",
       "| 8 - 9 | 9 | 1 | 1 |    39 |\n",
       "\n"
      ],
      "text/plain": [
       "   waves_compared wave divorced time count\n",
       "1  1 - 2          1    0        0     5055\n",
       "2  1 - 2          1    1        0       31\n",
       "3  1 - 2          2    0        1     5055\n",
       "4  1 - 2          2    1        1       31\n",
       "5  4 - 5          4    0        0     3294\n",
       "6  4 - 5          4    1        0       22\n",
       "7  4 - 5          5    0        1     3294\n",
       "8  4 - 5          5    1        1       22\n",
       "9  5 - 6          5    0        0     7051\n",
       "10 5 - 6          5    1        0       53\n",
       "11 5 - 6          6    0        1     7051\n",
       "12 5 - 6          6    1        1       53\n",
       "13 6 - 7          6    0        0    11807\n",
       "14 6 - 7          6    1        0       89\n",
       "15 6 - 7          7    0        1    11807\n",
       "16 6 - 7          7    1        1       89\n",
       "17 7 - 8          7    0        0     6689\n",
       "18 7 - 8          7    1        0       70\n",
       "19 7 - 8          8    0        1     6689\n",
       "20 7 - 8          8    1        1       70\n",
       "21 8 - 9          8    0        0     6212\n",
       "22 8 - 9          8    1        0       39\n",
       "23 8 - 9          9    0        1     6212\n",
       "24 8 - 9          9    1        1       39"
      ]
     },
     "metadata": {},
     "output_type": "display_data"
    },
    {
     "name": "stderr",
     "output_type": "stream",
     "text": [
      "\u001b[1m\u001b[22m`summarise()` has grouped output by 'waves_compared'. You can override using\n",
      "the `.groups` argument.\n"
     ]
    },
    {
     "data": {
      "text/html": [
       "<table class=\"dataframe\">\n",
       "<caption>A grouped_df: 12 x 3</caption>\n",
       "<thead>\n",
       "\t<tr><th scope=col>waves_compared</th><th scope=col>divorced</th><th scope=col>participants</th></tr>\n",
       "\t<tr><th scope=col>&lt;fct&gt;</th><th scope=col>&lt;dbl&gt;</th><th scope=col>&lt;int&gt;</th></tr>\n",
       "</thead>\n",
       "<tbody>\n",
       "\t<tr><td>1 - 2</td><td>0</td><td> 5055</td></tr>\n",
       "\t<tr><td>1 - 2</td><td>1</td><td>   31</td></tr>\n",
       "\t<tr><td>4 - 5</td><td>0</td><td> 3294</td></tr>\n",
       "\t<tr><td>4 - 5</td><td>1</td><td>   22</td></tr>\n",
       "\t<tr><td>5 - 6</td><td>0</td><td> 7051</td></tr>\n",
       "\t<tr><td>5 - 6</td><td>1</td><td>   53</td></tr>\n",
       "\t<tr><td>6 - 7</td><td>0</td><td>11807</td></tr>\n",
       "\t<tr><td>6 - 7</td><td>1</td><td>   89</td></tr>\n",
       "\t<tr><td>7 - 8</td><td>0</td><td> 6689</td></tr>\n",
       "\t<tr><td>7 - 8</td><td>1</td><td>   70</td></tr>\n",
       "\t<tr><td>8 - 9</td><td>0</td><td> 6212</td></tr>\n",
       "\t<tr><td>8 - 9</td><td>1</td><td>   39</td></tr>\n",
       "</tbody>\n",
       "</table>\n"
      ],
      "text/latex": [
       "A grouped\\_df: 12 x 3\n",
       "\\begin{tabular}{lll}\n",
       " waves\\_compared & divorced & participants\\\\\n",
       " <fct> & <dbl> & <int>\\\\\n",
       "\\hline\n",
       "\t 1 - 2 & 0 &  5055\\\\\n",
       "\t 1 - 2 & 1 &    31\\\\\n",
       "\t 4 - 5 & 0 &  3294\\\\\n",
       "\t 4 - 5 & 1 &    22\\\\\n",
       "\t 5 - 6 & 0 &  7051\\\\\n",
       "\t 5 - 6 & 1 &    53\\\\\n",
       "\t 6 - 7 & 0 & 11807\\\\\n",
       "\t 6 - 7 & 1 &    89\\\\\n",
       "\t 7 - 8 & 0 &  6689\\\\\n",
       "\t 7 - 8 & 1 &    70\\\\\n",
       "\t 8 - 9 & 0 &  6212\\\\\n",
       "\t 8 - 9 & 1 &    39\\\\\n",
       "\\end{tabular}\n"
      ],
      "text/markdown": [
       "\n",
       "A grouped_df: 12 x 3\n",
       "\n",
       "| waves_compared &lt;fct&gt; | divorced &lt;dbl&gt; | participants &lt;int&gt; |\n",
       "|---|---|---|\n",
       "| 1 - 2 | 0 |  5055 |\n",
       "| 1 - 2 | 1 |    31 |\n",
       "| 4 - 5 | 0 |  3294 |\n",
       "| 4 - 5 | 1 |    22 |\n",
       "| 5 - 6 | 0 |  7051 |\n",
       "| 5 - 6 | 1 |    53 |\n",
       "| 6 - 7 | 0 | 11807 |\n",
       "| 6 - 7 | 1 |    89 |\n",
       "| 7 - 8 | 0 |  6689 |\n",
       "| 7 - 8 | 1 |    70 |\n",
       "| 8 - 9 | 0 |  6212 |\n",
       "| 8 - 9 | 1 |    39 |\n",
       "\n"
      ],
      "text/plain": [
       "   waves_compared divorced participants\n",
       "1  1 - 2          0         5055       \n",
       "2  1 - 2          1           31       \n",
       "3  4 - 5          0         3294       \n",
       "4  4 - 5          1           22       \n",
       "5  5 - 6          0         7051       \n",
       "6  5 - 6          1           53       \n",
       "7  6 - 7          0        11807       \n",
       "8  6 - 7          1           89       \n",
       "9  7 - 8          0         6689       \n",
       "10 7 - 8          1           70       \n",
       "11 8 - 9          0         6212       \n",
       "12 8 - 9          1           39       "
      ]
     },
     "metadata": {},
     "output_type": "display_data"
    },
    {
     "data": {
      "text/html": [
       "<table class=\"dataframe\">\n",
       "<caption>A tibble: 2 x 2</caption>\n",
       "<thead>\n",
       "\t<tr><th scope=col>divorced</th><th scope=col>participants</th></tr>\n",
       "\t<tr><th scope=col>&lt;dbl&gt;</th><th scope=col>&lt;int&gt;</th></tr>\n",
       "</thead>\n",
       "<tbody>\n",
       "\t<tr><td>0</td><td>40108</td></tr>\n",
       "\t<tr><td>1</td><td>  304</td></tr>\n",
       "</tbody>\n",
       "</table>\n"
      ],
      "text/latex": [
       "A tibble: 2 x 2\n",
       "\\begin{tabular}{ll}\n",
       " divorced & participants\\\\\n",
       " <dbl> & <int>\\\\\n",
       "\\hline\n",
       "\t 0 & 40108\\\\\n",
       "\t 1 &   304\\\\\n",
       "\\end{tabular}\n"
      ],
      "text/markdown": [
       "\n",
       "A tibble: 2 x 2\n",
       "\n",
       "| divorced &lt;dbl&gt; | participants &lt;int&gt; |\n",
       "|---|---|\n",
       "| 0 | 40108 |\n",
       "| 1 |   304 |\n",
       "\n"
      ],
      "text/plain": [
       "  divorced participants\n",
       "1 0        40108       \n",
       "2 1          304       "
      ]
     },
     "metadata": {},
     "output_type": "display_data"
    }
   ],
   "source": [
    "all_waves_filtered %>%\n",
    "    group_by(waves_compared, wave, divorced, time) %>%\n",
    "        summarize(\n",
    "            count = n()\n",
    "        )\n",
    "\n",
    "all_waves_filtered %>%\n",
    "    group_by(waves_compared, divorced) %>%\n",
    "    summarize(\n",
    "        participants = n_distinct(mergeid)\n",
    "    )\n",
    "\n",
    "all_waves_filtered %>%\n",
    "    group_by(divorced) %>%\n",
    "    summarize(\n",
    "        participants = n_distinct(mergeid)\n",
    "    )"
   ]
  },
  {
   "cell_type": "code",
   "execution_count": 22,
   "metadata": {
    "vscode": {
     "languageId": "r"
    }
   },
   "outputs": [],
   "source": [
    "all_waves_final <- all_waves_filtered"
   ]
  },
  {
   "cell_type": "markdown",
   "metadata": {},
   "source": [
    "# Testing psychometric properties"
   ]
  },
  {
   "cell_type": "code",
   "execution_count": 66,
   "metadata": {
    "vscode": {
     "languageId": "r"
    }
   },
   "outputs": [
    {
     "name": "stdout",
     "output_type": "stream",
     "text": [
      " [1] \"mergeid\" \"country\" \"dn042_\"  \"wave\"    \"age_int\" \"dn014_\"  \"eurod\"  \n",
      " [8] \"casp\"    \"dn044_\"  \"ac014_\"  \"ac015_\"  \"ac016_\"  \"ac017_\"  \"ac018_\" \n",
      "[15] \"ac019_\"  \"ac020_\"  \"ac021_\"  \"ac022_\"  \"ac023_\"  \"ac024_\"  \"ac025_\" \n"
     ]
    }
   ],
   "source": [
    "print(colnames(all_waves_long))"
   ]
  },
  {
   "cell_type": "code",
   "execution_count": 117,
   "metadata": {
    "vscode": {
     "languageId": "r"
    }
   },
   "outputs": [
    {
     "data": {
      "text/html": [
       "<table class=\"dataframe\">\n",
       "<caption>A tibble: 6 x 14</caption>\n",
       "<thead>\n",
       "\t<tr><th scope=col>country</th><th scope=col>casp</th><th scope=col>item_1</th><th scope=col>item_2</th><th scope=col>item_3</th><th scope=col>item_4</th><th scope=col>item_5</th><th scope=col>item_6</th><th scope=col>item_7</th><th scope=col>item_8</th><th scope=col>item_9</th><th scope=col>item_10</th><th scope=col>item_11</th><th scope=col>item_12</th></tr>\n",
       "\t<tr><th scope=col>&lt;chr&gt;</th><th scope=col>&lt;dbl+lbl&gt;</th><th scope=col>&lt;dbl+lbl&gt;</th><th scope=col>&lt;dbl+lbl&gt;</th><th scope=col>&lt;dbl+lbl&gt;</th><th scope=col>&lt;dbl&gt;</th><th scope=col>&lt;dbl+lbl&gt;</th><th scope=col>&lt;dbl+lbl&gt;</th><th scope=col>&lt;dbl&gt;</th><th scope=col>&lt;dbl&gt;</th><th scope=col>&lt;dbl&gt;</th><th scope=col>&lt;dbl&gt;</th><th scope=col>&lt;dbl&gt;</th><th scope=col>&lt;dbl&gt;</th></tr>\n",
       "</thead>\n",
       "<tbody>\n",
       "\t<tr><td>Austria</td><td>37</td><td>NA</td><td>NA</td><td>NA</td><td>NA</td><td>NA</td><td>NA</td><td>NA</td><td>NA</td><td>NA</td><td>NA</td><td>NA</td><td>NA</td></tr>\n",
       "\t<tr><td>Austria</td><td>24</td><td> 3</td><td> 1</td><td> 1</td><td> 1</td><td> 4</td><td> 4</td><td> 4</td><td> 2</td><td> 1</td><td> 1</td><td> 1</td><td> 1</td></tr>\n",
       "\t<tr><td>Austria</td><td>30</td><td> 2</td><td> 2</td><td> 3</td><td> 2</td><td> 2</td><td> 3</td><td> 4</td><td> 3</td><td> 2</td><td> 3</td><td> 2</td><td> 2</td></tr>\n",
       "\t<tr><td>Austria</td><td>44</td><td> 2</td><td> 4</td><td> 4</td><td> 4</td><td> 4</td><td> 2</td><td> 4</td><td> 4</td><td> 4</td><td> 4</td><td> 4</td><td> 4</td></tr>\n",
       "\t<tr><td>Austria</td><td>45</td><td> 3</td><td> 3</td><td> 4</td><td> 4</td><td> 4</td><td> 4</td><td> 4</td><td> 4</td><td> 4</td><td> 4</td><td> 3</td><td> 4</td></tr>\n",
       "\t<tr><td>Austria</td><td>44</td><td> 2</td><td> 4</td><td> 4</td><td> 4</td><td> 4</td><td> 2</td><td> 4</td><td> 4</td><td> 4</td><td> 4</td><td> 4</td><td> 4</td></tr>\n",
       "</tbody>\n",
       "</table>\n"
      ],
      "text/latex": [
       "A tibble: 6 x 14\n",
       "\\begin{tabular}{llllllllllllll}\n",
       " country & casp & item\\_1 & item\\_2 & item\\_3 & item\\_4 & item\\_5 & item\\_6 & item\\_7 & item\\_8 & item\\_9 & item\\_10 & item\\_11 & item\\_12\\\\\n",
       " <chr> & <dbl+lbl> & <dbl+lbl> & <dbl+lbl> & <dbl+lbl> & <dbl> & <dbl+lbl> & <dbl+lbl> & <dbl> & <dbl> & <dbl> & <dbl> & <dbl> & <dbl>\\\\\n",
       "\\hline\n",
       "\t Austria & 37 & NA & NA & NA & NA & NA & NA & NA & NA & NA & NA & NA & NA\\\\\n",
       "\t Austria & 24 &  3 &  1 &  1 &  1 &  4 &  4 &  4 &  2 &  1 &  1 &  1 &  1\\\\\n",
       "\t Austria & 30 &  2 &  2 &  3 &  2 &  2 &  3 &  4 &  3 &  2 &  3 &  2 &  2\\\\\n",
       "\t Austria & 44 &  2 &  4 &  4 &  4 &  4 &  2 &  4 &  4 &  4 &  4 &  4 &  4\\\\\n",
       "\t Austria & 45 &  3 &  3 &  4 &  4 &  4 &  4 &  4 &  4 &  4 &  4 &  3 &  4\\\\\n",
       "\t Austria & 44 &  2 &  4 &  4 &  4 &  4 &  2 &  4 &  4 &  4 &  4 &  4 &  4\\\\\n",
       "\\end{tabular}\n"
      ],
      "text/markdown": [
       "\n",
       "A tibble: 6 x 14\n",
       "\n",
       "| country &lt;chr&gt; | casp &lt;dbl+lbl&gt; | item_1 &lt;dbl+lbl&gt; | item_2 &lt;dbl+lbl&gt; | item_3 &lt;dbl+lbl&gt; | item_4 &lt;dbl&gt; | item_5 &lt;dbl+lbl&gt; | item_6 &lt;dbl+lbl&gt; | item_7 &lt;dbl&gt; | item_8 &lt;dbl&gt; | item_9 &lt;dbl&gt; | item_10 &lt;dbl&gt; | item_11 &lt;dbl&gt; | item_12 &lt;dbl&gt; |\n",
       "|---|---|---|---|---|---|---|---|---|---|---|---|---|---|\n",
       "| Austria | 37 | NA | NA | NA | NA | NA | NA | NA | NA | NA | NA | NA | NA |\n",
       "| Austria | 24 |  3 |  1 |  1 |  1 |  4 |  4 |  4 |  2 |  1 |  1 |  1 |  1 |\n",
       "| Austria | 30 |  2 |  2 |  3 |  2 |  2 |  3 |  4 |  3 |  2 |  3 |  2 |  2 |\n",
       "| Austria | 44 |  2 |  4 |  4 |  4 |  4 |  2 |  4 |  4 |  4 |  4 |  4 |  4 |\n",
       "| Austria | 45 |  3 |  3 |  4 |  4 |  4 |  4 |  4 |  4 |  4 |  4 |  3 |  4 |\n",
       "| Austria | 44 |  2 |  4 |  4 |  4 |  4 |  2 |  4 |  4 |  4 |  4 |  4 |  4 |\n",
       "\n"
      ],
      "text/plain": [
       "  country casp item_1 item_2 item_3 item_4 item_5 item_6 item_7 item_8 item_9\n",
       "1 Austria 37   NA     NA     NA     NA     NA     NA     NA     NA     NA    \n",
       "2 Austria 24    3      1      1      1      4      4      4      2      1    \n",
       "3 Austria 30    2      2      3      2      2      3      4      3      2    \n",
       "4 Austria 44    2      4      4      4      4      2      4      4      4    \n",
       "5 Austria 45    3      3      4      4      4      4      4      4      4    \n",
       "6 Austria 44    2      4      4      4      4      2      4      4      4    \n",
       "  item_10 item_11 item_12\n",
       "1 NA      NA      NA     \n",
       "2  1       1       1     \n",
       "3  3       2       2     \n",
       "4  4       4       4     \n",
       "5  4       3       4     \n",
       "6  4       4       4     "
      ]
     },
     "metadata": {},
     "output_type": "display_data"
    }
   ],
   "source": [
    "casp_12 <- all_waves_long %>%\n",
    "    filter(!is.na(casp)) %>%\n",
    "    select(\n",
    "        'country', 'casp',\n",
    "        'ac014_':'ac025_'\n",
    "        )\n",
    "\n",
    "rev <- function(item, min_scale, max_scale) {\n",
    "  return((max_scale + min_scale) - item)\n",
    "}\n",
    "\n",
    "colnames(casp_12)[3:14] <- paste0(\"item_\", 1:12)\n",
    "\n",
    "casp_12 <- casp_12 %>%\n",
    "    mutate(\n",
    "        item_4 = rev(item_4, 1, 4),\n",
    "        item_7 = rev(item_7, 1, 4),\n",
    "        item_8 = rev(item_8, 1, 4),\n",
    "        item_9 = rev(item_9, 1, 4),\n",
    "        item_10 = rev(item_10, 1, 4),\n",
    "        item_11 = rev(item_11, 1, 4),\n",
    "        item_12 = rev(item_12, 1, 4)\n",
    "    )\n",
    "\n",
    "head(casp_12)\n"
   ]
  },
  {
   "cell_type": "code",
   "execution_count": 118,
   "metadata": {
    "vscode": {
     "languageId": "r"
    }
   },
   "outputs": [
    {
     "name": "stderr",
     "output_type": "stream",
     "text": [
      "Warning message:\n",
      "\"lavaan->lav_object_post_check():  \n",
      "   some estimated lv variances are negative\"\n",
      "Warning message:\n",
      "\"lavaan->lav_object_post_check():  \n",
      "   some estimated lv variances are negative\"\n",
      "Warning message:\n",
      "\"lavaan->lav_object_post_check():  \n",
      "   some estimated lv variances are negative\"\n",
      "Warning message:\n",
      "\"lavaan->lav_object_post_check():  \n",
      "   some estimated lv variances are negative\"\n",
      "Warning message:\n",
      "\"lavaan->lav_object_post_check():  \n",
      "   some estimated lv variances are negative\"\n",
      "Warning message:\n",
      "\"lavaan->lav_object_post_check():  \n",
      "   some estimated lv variances are negative\"\n",
      "Warning message:\n",
      "\"lavaan->lav_object_post_check():  \n",
      "   some estimated lv variances are negative\"\n",
      "Warning message:\n",
      "\"lavaan->lav_object_post_check():  \n",
      "   some estimated lv variances are negative\"\n",
      "Warning message:\n",
      "\"lavaan->lav_object_post_check():  \n",
      "   some estimated lv variances are negative\"\n",
      "Warning message:\n",
      "\"lavaan->lav_object_post_check():  \n",
      "   some estimated lv variances are negative\"\n",
      "Warning message:\n",
      "\"lavaan->lav_object_post_check():  \n",
      "   some estimated lv variances are negative\"\n",
      "Warning message:\n",
      "\"lavaan->lav_object_post_check():  \n",
      "   some estimated lv variances are negative\"\n",
      "Warning message:\n",
      "\"lavaan->lav_object_post_check():  \n",
      "   some estimated lv variances are negative\"\n",
      "Warning message:\n",
      "\"lavaan->lav_object_post_check():  \n",
      "   some estimated lv variances are negative\"\n",
      "Warning message:\n",
      "\"lavaan->lav_object_post_check():  \n",
      "   some estimated lv variances are negative\"\n",
      "Warning message:\n",
      "\"lavaan->lav_object_post_check():  \n",
      "   some estimated lv variances are negative\"\n"
     ]
    },
    {
     "data": {
      "text/html": [
       "<table class=\"dataframe\">\n",
       "<caption>A data.frame: 29 x 9</caption>\n",
       "<thead>\n",
       "\t<tr><th></th><th scope=col>country</th><th scope=col>alpha_wellbeing</th><th scope=col>alpha_control</th><th scope=col>alpha_autonomy</th><th scope=col>alpha_pleasure</th><th scope=col>alpha_selfactualization</th><th scope=col>cfi</th><th scope=col>tli</th><th scope=col>rmsea</th></tr>\n",
       "\t<tr><th></th><th scope=col>&lt;chr&gt;</th><th scope=col>&lt;dbl&gt;</th><th scope=col>&lt;dbl&gt;</th><th scope=col>&lt;dbl&gt;</th><th scope=col>&lt;dbl&gt;</th><th scope=col>&lt;dbl&gt;</th><th scope=col>&lt;dbl&gt;</th><th scope=col>&lt;dbl&gt;</th><th scope=col>&lt;dbl&gt;</th></tr>\n",
       "</thead>\n",
       "<tbody>\n",
       "\t<tr><th scope=row>cfi</th><td>Austria       </td><td>0.811</td><td>0.667</td><td>0.236</td><td>0.736</td><td>0.806</td><td>0.944</td><td>0.926</td><td>0.062</td></tr>\n",
       "\t<tr><th scope=row>cfi1</th><td>Bulgaria      </td><td>0.837</td><td>0.837</td><td>0.256</td><td>0.591</td><td>0.856</td><td>0.926</td><td>0.903</td><td>0.080</td></tr>\n",
       "\t<tr><th scope=row>cfi2</th><td>Belgium       </td><td>0.784</td><td>0.631</td><td>0.321</td><td>0.607</td><td>0.761</td><td>0.914</td><td>0.886</td><td>0.068</td></tr>\n",
       "\t<tr><th scope=row>cfi3</th><td>Cyprus        </td><td>0.821</td><td>0.828</td><td>0.327</td><td>0.715</td><td>0.824</td><td>0.929</td><td>0.906</td><td>0.077</td></tr>\n",
       "\t<tr><th scope=row>cfi4</th><td>Czech Republic</td><td>0.771</td><td>0.712</td><td>0.237</td><td>0.643</td><td>0.751</td><td>0.926</td><td>0.902</td><td>0.065</td></tr>\n",
       "\t<tr><th scope=row>cfi5</th><td>Switzerland   </td><td>0.766</td><td>0.616</td><td>0.242</td><td>0.642</td><td>0.744</td><td>0.929</td><td>0.906</td><td>0.059</td></tr>\n",
       "\t<tr><th scope=row>cfi6</th><td>Germany       </td><td>0.785</td><td>0.622</td><td>0.226</td><td>0.695</td><td>0.767</td><td>0.922</td><td>0.898</td><td>0.067</td></tr>\n",
       "\t<tr><th scope=row>cfi7</th><td>Denmark       </td><td>0.783</td><td>0.570</td><td>0.274</td><td>0.709</td><td>0.808</td><td>0.922</td><td>0.897</td><td>0.071</td></tr>\n",
       "\t<tr><th scope=row>cfi8</th><td>Estonia       </td><td>0.801</td><td>0.702</td><td>0.279</td><td>0.677</td><td>0.813</td><td>0.915</td><td>0.888</td><td>0.073</td></tr>\n",
       "\t<tr><th scope=row>cfi9</th><td>Spain         </td><td>0.823</td><td>0.737</td><td>0.257</td><td>0.730</td><td>0.805</td><td>0.927</td><td>0.904</td><td>0.076</td></tr>\n",
       "\t<tr><th scope=row>cfi10</th><td>France        </td><td>0.799</td><td>0.669</td><td>0.264</td><td>0.675</td><td>0.771</td><td>0.929</td><td>0.907</td><td>0.065</td></tr>\n",
       "\t<tr><th scope=row>cfi11</th><td>Finland       </td><td>0.772</td><td>0.617</td><td>0.261</td><td>0.613</td><td>0.803</td><td>0.917</td><td>0.890</td><td>0.068</td></tr>\n",
       "\t<tr><th scope=row>cfi12</th><td>Greece        </td><td>0.801</td><td>0.769</td><td>0.283</td><td>0.586</td><td>0.805</td><td>0.933</td><td>0.911</td><td>0.067</td></tr>\n",
       "\t<tr><th scope=row>cfi13</th><td>Croatia       </td><td>0.825</td><td>0.700</td><td>0.242</td><td>0.858</td><td>0.813</td><td>0.923</td><td>0.899</td><td>0.081</td></tr>\n",
       "\t<tr><th scope=row>cfi14</th><td>Hungary       </td><td>0.825</td><td>0.721</td><td>0.199</td><td>0.741</td><td>0.874</td><td>0.899</td><td>0.867</td><td>0.091</td></tr>\n",
       "\t<tr><th scope=row>cfi15</th><td>Ireland       </td><td>0.776</td><td>0.637</td><td>0.324</td><td>0.675</td><td>0.752</td><td>0.881</td><td>0.843</td><td>0.082</td></tr>\n",
       "\t<tr><th scope=row>cfi16</th><td>Italy         </td><td>0.788</td><td>0.775</td><td>0.369</td><td>0.575</td><td>0.814</td><td>0.911</td><td>0.883</td><td>0.080</td></tr>\n",
       "\t<tr><th scope=row>cfi17</th><td>Israel        </td><td>0.776</td><td>0.656</td><td>0.294</td><td>0.559</td><td>0.791</td><td>0.897</td><td>0.863</td><td>0.075</td></tr>\n",
       "\t<tr><th scope=row>cfi18</th><td>Lithuania     </td><td>0.807</td><td>0.736</td><td>0.258</td><td>0.652</td><td>0.774</td><td>0.938</td><td>0.918</td><td>0.062</td></tr>\n",
       "\t<tr><th scope=row>cfi19</th><td>Luxembourg    </td><td>0.767</td><td>0.590</td><td>0.257</td><td>0.635</td><td>0.734</td><td>0.926</td><td>0.902</td><td>0.060</td></tr>\n",
       "\t<tr><th scope=row>cfi20</th><td>Latvia        </td><td>0.811</td><td>0.700</td><td>0.136</td><td>0.796</td><td>0.846</td><td>0.886</td><td>0.849</td><td>0.101</td></tr>\n",
       "\t<tr><th scope=row>cfi21</th><td>Malta         </td><td>0.777</td><td>0.628</td><td>0.347</td><td>0.712</td><td>0.748</td><td>0.891</td><td>0.856</td><td>0.077</td></tr>\n",
       "\t<tr><th scope=row>cfi22</th><td>Netherlands   </td><td>0.751</td><td>0.546</td><td>0.230</td><td>0.564</td><td>0.794</td><td>0.915</td><td>0.888</td><td>0.064</td></tr>\n",
       "\t<tr><th scope=row>cfi23</th><td>Poland        </td><td>0.853</td><td>0.735</td><td>0.273</td><td>0.827</td><td>0.869</td><td>0.941</td><td>0.922</td><td>0.076</td></tr>\n",
       "\t<tr><th scope=row>cfi24</th><td>Portugal      </td><td>0.745</td><td>0.661</td><td>0.307</td><td>0.476</td><td>0.766</td><td>0.841</td><td>0.790</td><td>0.089</td></tr>\n",
       "\t<tr><th scope=row>cfi25</th><td>Romania       </td><td>0.838</td><td>0.730</td><td>0.300</td><td>0.634</td><td>0.860</td><td>0.877</td><td>0.837</td><td>0.103</td></tr>\n",
       "\t<tr><th scope=row>cfi26</th><td>Sweden        </td><td>0.779</td><td>0.575</td><td>0.276</td><td>0.625</td><td>0.786</td><td>0.923</td><td>0.899</td><td>0.065</td></tr>\n",
       "\t<tr><th scope=row>cfi27</th><td>Slovenia      </td><td>0.806</td><td>0.679</td><td>0.284</td><td>0.699</td><td>0.809</td><td>0.937</td><td>0.917</td><td>0.066</td></tr>\n",
       "\t<tr><th scope=row>cfi28</th><td>Slovakia      </td><td>0.873</td><td>0.805</td><td>0.349</td><td>0.784</td><td>0.858</td><td>0.921</td><td>0.896</td><td>0.093</td></tr>\n",
       "</tbody>\n",
       "</table>\n"
      ],
      "text/latex": [
       "A data.frame: 29 x 9\n",
       "\\begin{tabular}{r|lllllllll}\n",
       "  & country & alpha\\_wellbeing & alpha\\_control & alpha\\_autonomy & alpha\\_pleasure & alpha\\_selfactualization & cfi & tli & rmsea\\\\\n",
       "  & <chr> & <dbl> & <dbl> & <dbl> & <dbl> & <dbl> & <dbl> & <dbl> & <dbl>\\\\\n",
       "\\hline\n",
       "\tcfi & Austria        & 0.811 & 0.667 & 0.236 & 0.736 & 0.806 & 0.944 & 0.926 & 0.062\\\\\n",
       "\tcfi1 & Bulgaria       & 0.837 & 0.837 & 0.256 & 0.591 & 0.856 & 0.926 & 0.903 & 0.080\\\\\n",
       "\tcfi2 & Belgium        & 0.784 & 0.631 & 0.321 & 0.607 & 0.761 & 0.914 & 0.886 & 0.068\\\\\n",
       "\tcfi3 & Cyprus         & 0.821 & 0.828 & 0.327 & 0.715 & 0.824 & 0.929 & 0.906 & 0.077\\\\\n",
       "\tcfi4 & Czech Republic & 0.771 & 0.712 & 0.237 & 0.643 & 0.751 & 0.926 & 0.902 & 0.065\\\\\n",
       "\tcfi5 & Switzerland    & 0.766 & 0.616 & 0.242 & 0.642 & 0.744 & 0.929 & 0.906 & 0.059\\\\\n",
       "\tcfi6 & Germany        & 0.785 & 0.622 & 0.226 & 0.695 & 0.767 & 0.922 & 0.898 & 0.067\\\\\n",
       "\tcfi7 & Denmark        & 0.783 & 0.570 & 0.274 & 0.709 & 0.808 & 0.922 & 0.897 & 0.071\\\\\n",
       "\tcfi8 & Estonia        & 0.801 & 0.702 & 0.279 & 0.677 & 0.813 & 0.915 & 0.888 & 0.073\\\\\n",
       "\tcfi9 & Spain          & 0.823 & 0.737 & 0.257 & 0.730 & 0.805 & 0.927 & 0.904 & 0.076\\\\\n",
       "\tcfi10 & France         & 0.799 & 0.669 & 0.264 & 0.675 & 0.771 & 0.929 & 0.907 & 0.065\\\\\n",
       "\tcfi11 & Finland        & 0.772 & 0.617 & 0.261 & 0.613 & 0.803 & 0.917 & 0.890 & 0.068\\\\\n",
       "\tcfi12 & Greece         & 0.801 & 0.769 & 0.283 & 0.586 & 0.805 & 0.933 & 0.911 & 0.067\\\\\n",
       "\tcfi13 & Croatia        & 0.825 & 0.700 & 0.242 & 0.858 & 0.813 & 0.923 & 0.899 & 0.081\\\\\n",
       "\tcfi14 & Hungary        & 0.825 & 0.721 & 0.199 & 0.741 & 0.874 & 0.899 & 0.867 & 0.091\\\\\n",
       "\tcfi15 & Ireland        & 0.776 & 0.637 & 0.324 & 0.675 & 0.752 & 0.881 & 0.843 & 0.082\\\\\n",
       "\tcfi16 & Italy          & 0.788 & 0.775 & 0.369 & 0.575 & 0.814 & 0.911 & 0.883 & 0.080\\\\\n",
       "\tcfi17 & Israel         & 0.776 & 0.656 & 0.294 & 0.559 & 0.791 & 0.897 & 0.863 & 0.075\\\\\n",
       "\tcfi18 & Lithuania      & 0.807 & 0.736 & 0.258 & 0.652 & 0.774 & 0.938 & 0.918 & 0.062\\\\\n",
       "\tcfi19 & Luxembourg     & 0.767 & 0.590 & 0.257 & 0.635 & 0.734 & 0.926 & 0.902 & 0.060\\\\\n",
       "\tcfi20 & Latvia         & 0.811 & 0.700 & 0.136 & 0.796 & 0.846 & 0.886 & 0.849 & 0.101\\\\\n",
       "\tcfi21 & Malta          & 0.777 & 0.628 & 0.347 & 0.712 & 0.748 & 0.891 & 0.856 & 0.077\\\\\n",
       "\tcfi22 & Netherlands    & 0.751 & 0.546 & 0.230 & 0.564 & 0.794 & 0.915 & 0.888 & 0.064\\\\\n",
       "\tcfi23 & Poland         & 0.853 & 0.735 & 0.273 & 0.827 & 0.869 & 0.941 & 0.922 & 0.076\\\\\n",
       "\tcfi24 & Portugal       & 0.745 & 0.661 & 0.307 & 0.476 & 0.766 & 0.841 & 0.790 & 0.089\\\\\n",
       "\tcfi25 & Romania        & 0.838 & 0.730 & 0.300 & 0.634 & 0.860 & 0.877 & 0.837 & 0.103\\\\\n",
       "\tcfi26 & Sweden         & 0.779 & 0.575 & 0.276 & 0.625 & 0.786 & 0.923 & 0.899 & 0.065\\\\\n",
       "\tcfi27 & Slovenia       & 0.806 & 0.679 & 0.284 & 0.699 & 0.809 & 0.937 & 0.917 & 0.066\\\\\n",
       "\tcfi28 & Slovakia       & 0.873 & 0.805 & 0.349 & 0.784 & 0.858 & 0.921 & 0.896 & 0.093\\\\\n",
       "\\end{tabular}\n"
      ],
      "text/markdown": [
       "\n",
       "A data.frame: 29 x 9\n",
       "\n",
       "| <!--/--> | country &lt;chr&gt; | alpha_wellbeing &lt;dbl&gt; | alpha_control &lt;dbl&gt; | alpha_autonomy &lt;dbl&gt; | alpha_pleasure &lt;dbl&gt; | alpha_selfactualization &lt;dbl&gt; | cfi &lt;dbl&gt; | tli &lt;dbl&gt; | rmsea &lt;dbl&gt; |\n",
       "|---|---|---|---|---|---|---|---|---|---|\n",
       "| cfi | Austria        | 0.811 | 0.667 | 0.236 | 0.736 | 0.806 | 0.944 | 0.926 | 0.062 |\n",
       "| cfi1 | Bulgaria       | 0.837 | 0.837 | 0.256 | 0.591 | 0.856 | 0.926 | 0.903 | 0.080 |\n",
       "| cfi2 | Belgium        | 0.784 | 0.631 | 0.321 | 0.607 | 0.761 | 0.914 | 0.886 | 0.068 |\n",
       "| cfi3 | Cyprus         | 0.821 | 0.828 | 0.327 | 0.715 | 0.824 | 0.929 | 0.906 | 0.077 |\n",
       "| cfi4 | Czech Republic | 0.771 | 0.712 | 0.237 | 0.643 | 0.751 | 0.926 | 0.902 | 0.065 |\n",
       "| cfi5 | Switzerland    | 0.766 | 0.616 | 0.242 | 0.642 | 0.744 | 0.929 | 0.906 | 0.059 |\n",
       "| cfi6 | Germany        | 0.785 | 0.622 | 0.226 | 0.695 | 0.767 | 0.922 | 0.898 | 0.067 |\n",
       "| cfi7 | Denmark        | 0.783 | 0.570 | 0.274 | 0.709 | 0.808 | 0.922 | 0.897 | 0.071 |\n",
       "| cfi8 | Estonia        | 0.801 | 0.702 | 0.279 | 0.677 | 0.813 | 0.915 | 0.888 | 0.073 |\n",
       "| cfi9 | Spain          | 0.823 | 0.737 | 0.257 | 0.730 | 0.805 | 0.927 | 0.904 | 0.076 |\n",
       "| cfi10 | France         | 0.799 | 0.669 | 0.264 | 0.675 | 0.771 | 0.929 | 0.907 | 0.065 |\n",
       "| cfi11 | Finland        | 0.772 | 0.617 | 0.261 | 0.613 | 0.803 | 0.917 | 0.890 | 0.068 |\n",
       "| cfi12 | Greece         | 0.801 | 0.769 | 0.283 | 0.586 | 0.805 | 0.933 | 0.911 | 0.067 |\n",
       "| cfi13 | Croatia        | 0.825 | 0.700 | 0.242 | 0.858 | 0.813 | 0.923 | 0.899 | 0.081 |\n",
       "| cfi14 | Hungary        | 0.825 | 0.721 | 0.199 | 0.741 | 0.874 | 0.899 | 0.867 | 0.091 |\n",
       "| cfi15 | Ireland        | 0.776 | 0.637 | 0.324 | 0.675 | 0.752 | 0.881 | 0.843 | 0.082 |\n",
       "| cfi16 | Italy          | 0.788 | 0.775 | 0.369 | 0.575 | 0.814 | 0.911 | 0.883 | 0.080 |\n",
       "| cfi17 | Israel         | 0.776 | 0.656 | 0.294 | 0.559 | 0.791 | 0.897 | 0.863 | 0.075 |\n",
       "| cfi18 | Lithuania      | 0.807 | 0.736 | 0.258 | 0.652 | 0.774 | 0.938 | 0.918 | 0.062 |\n",
       "| cfi19 | Luxembourg     | 0.767 | 0.590 | 0.257 | 0.635 | 0.734 | 0.926 | 0.902 | 0.060 |\n",
       "| cfi20 | Latvia         | 0.811 | 0.700 | 0.136 | 0.796 | 0.846 | 0.886 | 0.849 | 0.101 |\n",
       "| cfi21 | Malta          | 0.777 | 0.628 | 0.347 | 0.712 | 0.748 | 0.891 | 0.856 | 0.077 |\n",
       "| cfi22 | Netherlands    | 0.751 | 0.546 | 0.230 | 0.564 | 0.794 | 0.915 | 0.888 | 0.064 |\n",
       "| cfi23 | Poland         | 0.853 | 0.735 | 0.273 | 0.827 | 0.869 | 0.941 | 0.922 | 0.076 |\n",
       "| cfi24 | Portugal       | 0.745 | 0.661 | 0.307 | 0.476 | 0.766 | 0.841 | 0.790 | 0.089 |\n",
       "| cfi25 | Romania        | 0.838 | 0.730 | 0.300 | 0.634 | 0.860 | 0.877 | 0.837 | 0.103 |\n",
       "| cfi26 | Sweden         | 0.779 | 0.575 | 0.276 | 0.625 | 0.786 | 0.923 | 0.899 | 0.065 |\n",
       "| cfi27 | Slovenia       | 0.806 | 0.679 | 0.284 | 0.699 | 0.809 | 0.937 | 0.917 | 0.066 |\n",
       "| cfi28 | Slovakia       | 0.873 | 0.805 | 0.349 | 0.784 | 0.858 | 0.921 | 0.896 | 0.093 |\n",
       "\n"
      ],
      "text/plain": [
       "      country        alpha_wellbeing alpha_control alpha_autonomy\n",
       "cfi   Austria        0.811           0.667         0.236         \n",
       "cfi1  Bulgaria       0.837           0.837         0.256         \n",
       "cfi2  Belgium        0.784           0.631         0.321         \n",
       "cfi3  Cyprus         0.821           0.828         0.327         \n",
       "cfi4  Czech Republic 0.771           0.712         0.237         \n",
       "cfi5  Switzerland    0.766           0.616         0.242         \n",
       "cfi6  Germany        0.785           0.622         0.226         \n",
       "cfi7  Denmark        0.783           0.570         0.274         \n",
       "cfi8  Estonia        0.801           0.702         0.279         \n",
       "cfi9  Spain          0.823           0.737         0.257         \n",
       "cfi10 France         0.799           0.669         0.264         \n",
       "cfi11 Finland        0.772           0.617         0.261         \n",
       "cfi12 Greece         0.801           0.769         0.283         \n",
       "cfi13 Croatia        0.825           0.700         0.242         \n",
       "cfi14 Hungary        0.825           0.721         0.199         \n",
       "cfi15 Ireland        0.776           0.637         0.324         \n",
       "cfi16 Italy          0.788           0.775         0.369         \n",
       "cfi17 Israel         0.776           0.656         0.294         \n",
       "cfi18 Lithuania      0.807           0.736         0.258         \n",
       "cfi19 Luxembourg     0.767           0.590         0.257         \n",
       "cfi20 Latvia         0.811           0.700         0.136         \n",
       "cfi21 Malta          0.777           0.628         0.347         \n",
       "cfi22 Netherlands    0.751           0.546         0.230         \n",
       "cfi23 Poland         0.853           0.735         0.273         \n",
       "cfi24 Portugal       0.745           0.661         0.307         \n",
       "cfi25 Romania        0.838           0.730         0.300         \n",
       "cfi26 Sweden         0.779           0.575         0.276         \n",
       "cfi27 Slovenia       0.806           0.679         0.284         \n",
       "cfi28 Slovakia       0.873           0.805         0.349         \n",
       "      alpha_pleasure alpha_selfactualization cfi   tli   rmsea\n",
       "cfi   0.736          0.806                   0.944 0.926 0.062\n",
       "cfi1  0.591          0.856                   0.926 0.903 0.080\n",
       "cfi2  0.607          0.761                   0.914 0.886 0.068\n",
       "cfi3  0.715          0.824                   0.929 0.906 0.077\n",
       "cfi4  0.643          0.751                   0.926 0.902 0.065\n",
       "cfi5  0.642          0.744                   0.929 0.906 0.059\n",
       "cfi6  0.695          0.767                   0.922 0.898 0.067\n",
       "cfi7  0.709          0.808                   0.922 0.897 0.071\n",
       "cfi8  0.677          0.813                   0.915 0.888 0.073\n",
       "cfi9  0.730          0.805                   0.927 0.904 0.076\n",
       "cfi10 0.675          0.771                   0.929 0.907 0.065\n",
       "cfi11 0.613          0.803                   0.917 0.890 0.068\n",
       "cfi12 0.586          0.805                   0.933 0.911 0.067\n",
       "cfi13 0.858          0.813                   0.923 0.899 0.081\n",
       "cfi14 0.741          0.874                   0.899 0.867 0.091\n",
       "cfi15 0.675          0.752                   0.881 0.843 0.082\n",
       "cfi16 0.575          0.814                   0.911 0.883 0.080\n",
       "cfi17 0.559          0.791                   0.897 0.863 0.075\n",
       "cfi18 0.652          0.774                   0.938 0.918 0.062\n",
       "cfi19 0.635          0.734                   0.926 0.902 0.060\n",
       "cfi20 0.796          0.846                   0.886 0.849 0.101\n",
       "cfi21 0.712          0.748                   0.891 0.856 0.077\n",
       "cfi22 0.564          0.794                   0.915 0.888 0.064\n",
       "cfi23 0.827          0.869                   0.941 0.922 0.076\n",
       "cfi24 0.476          0.766                   0.841 0.790 0.089\n",
       "cfi25 0.634          0.860                   0.877 0.837 0.103\n",
       "cfi26 0.625          0.786                   0.923 0.899 0.065\n",
       "cfi27 0.699          0.809                   0.937 0.917 0.066\n",
       "cfi28 0.784          0.858                   0.921 0.896 0.093"
      ]
     },
     "metadata": {},
     "output_type": "display_data"
    },
    {
     "data": {
      "text/html": [
       "<table class=\"dataframe\">\n",
       "<caption>A data.frame: 1 x 32</caption>\n",
       "<thead>\n",
       "\t<tr><th scope=col>alpha_wellbeing_mean</th><th scope=col>alpha_wellbeing_sd</th><th scope=col>alpha_wellbeing_min</th><th scope=col>alpha_wellbeing_max</th><th scope=col>alpha_control_mean</th><th scope=col>alpha_control_sd</th><th scope=col>alpha_control_min</th><th scope=col>alpha_control_max</th><th scope=col>alpha_autonomy_mean</th><th scope=col>alpha_autonomy_sd</th><th scope=col>...</th><th scope=col>cfi_min</th><th scope=col>cfi_max</th><th scope=col>tli_mean</th><th scope=col>tli_sd</th><th scope=col>tli_min</th><th scope=col>tli_max</th><th scope=col>rmsea_mean</th><th scope=col>rmsea_sd</th><th scope=col>rmsea_min</th><th scope=col>rmsea_max</th></tr>\n",
       "\t<tr><th scope=col>&lt;dbl&gt;</th><th scope=col>&lt;dbl&gt;</th><th scope=col>&lt;dbl&gt;</th><th scope=col>&lt;dbl&gt;</th><th scope=col>&lt;dbl&gt;</th><th scope=col>&lt;dbl&gt;</th><th scope=col>&lt;dbl&gt;</th><th scope=col>&lt;dbl&gt;</th><th scope=col>&lt;dbl&gt;</th><th scope=col>&lt;dbl&gt;</th><th scope=col>...</th><th scope=col>&lt;dbl&gt;</th><th scope=col>&lt;dbl&gt;</th><th scope=col>&lt;dbl&gt;</th><th scope=col>&lt;dbl&gt;</th><th scope=col>&lt;dbl&gt;</th><th scope=col>&lt;dbl&gt;</th><th scope=col>&lt;dbl&gt;</th><th scope=col>&lt;dbl&gt;</th><th scope=col>&lt;dbl&gt;</th><th scope=col>&lt;dbl&gt;</th></tr>\n",
       "</thead>\n",
       "<tbody>\n",
       "\t<tr><td>0.7983103</td><td>0.03032574</td><td>0.745</td><td>0.873</td><td>0.6845172</td><td>0.07635052</td><td>0.546</td><td>0.837</td><td>0.2726897</td><td>0.04818869</td><td>...</td><td>0.841</td><td>0.944</td><td>0.8880345</td><td>0.02994815</td><td>0.79</td><td>0.926</td><td>0.07458621</td><td>0.01186687</td><td>0.059</td><td>0.103</td></tr>\n",
       "</tbody>\n",
       "</table>\n"
      ],
      "text/latex": [
       "A data.frame: 1 x 32\n",
       "\\begin{tabular}{lllllllllllllllllllll}\n",
       " alpha\\_wellbeing\\_mean & alpha\\_wellbeing\\_sd & alpha\\_wellbeing\\_min & alpha\\_wellbeing\\_max & alpha\\_control\\_mean & alpha\\_control\\_sd & alpha\\_control\\_min & alpha\\_control\\_max & alpha\\_autonomy\\_mean & alpha\\_autonomy\\_sd & ... & cfi\\_min & cfi\\_max & tli\\_mean & tli\\_sd & tli\\_min & tli\\_max & rmsea\\_mean & rmsea\\_sd & rmsea\\_min & rmsea\\_max\\\\\n",
       " <dbl> & <dbl> & <dbl> & <dbl> & <dbl> & <dbl> & <dbl> & <dbl> & <dbl> & <dbl> & ... & <dbl> & <dbl> & <dbl> & <dbl> & <dbl> & <dbl> & <dbl> & <dbl> & <dbl> & <dbl>\\\\\n",
       "\\hline\n",
       "\t 0.7983103 & 0.03032574 & 0.745 & 0.873 & 0.6845172 & 0.07635052 & 0.546 & 0.837 & 0.2726897 & 0.04818869 & ... & 0.841 & 0.944 & 0.8880345 & 0.02994815 & 0.79 & 0.926 & 0.07458621 & 0.01186687 & 0.059 & 0.103\\\\\n",
       "\\end{tabular}\n"
      ],
      "text/markdown": [
       "\n",
       "A data.frame: 1 x 32\n",
       "\n",
       "| alpha_wellbeing_mean &lt;dbl&gt; | alpha_wellbeing_sd &lt;dbl&gt; | alpha_wellbeing_min &lt;dbl&gt; | alpha_wellbeing_max &lt;dbl&gt; | alpha_control_mean &lt;dbl&gt; | alpha_control_sd &lt;dbl&gt; | alpha_control_min &lt;dbl&gt; | alpha_control_max &lt;dbl&gt; | alpha_autonomy_mean &lt;dbl&gt; | alpha_autonomy_sd &lt;dbl&gt; | ... ... | cfi_min &lt;dbl&gt; | cfi_max &lt;dbl&gt; | tli_mean &lt;dbl&gt; | tli_sd &lt;dbl&gt; | tli_min &lt;dbl&gt; | tli_max &lt;dbl&gt; | rmsea_mean &lt;dbl&gt; | rmsea_sd &lt;dbl&gt; | rmsea_min &lt;dbl&gt; | rmsea_max &lt;dbl&gt; |\n",
       "|---|---|---|---|---|---|---|---|---|---|---|---|---|---|---|---|---|---|---|---|---|\n",
       "| 0.7983103 | 0.03032574 | 0.745 | 0.873 | 0.6845172 | 0.07635052 | 0.546 | 0.837 | 0.2726897 | 0.04818869 | ... | 0.841 | 0.944 | 0.8880345 | 0.02994815 | 0.79 | 0.926 | 0.07458621 | 0.01186687 | 0.059 | 0.103 |\n",
       "\n"
      ],
      "text/plain": [
       "  alpha_wellbeing_mean alpha_wellbeing_sd alpha_wellbeing_min\n",
       "1 0.7983103            0.03032574         0.745              \n",
       "  alpha_wellbeing_max alpha_control_mean alpha_control_sd alpha_control_min\n",
       "1 0.873               0.6845172          0.07635052       0.546            \n",
       "  alpha_control_max alpha_autonomy_mean alpha_autonomy_sd ... cfi_min cfi_max\n",
       "1 0.837             0.2726897           0.04818869        ... 0.841   0.944  \n",
       "  tli_mean  tli_sd     tli_min tli_max rmsea_mean rmsea_sd   rmsea_min\n",
       "1 0.8880345 0.02994815 0.79    0.926   0.07458621 0.01186687 0.059    \n",
       "  rmsea_max\n",
       "1 0.103    "
      ]
     },
     "metadata": {},
     "output_type": "display_data"
    }
   ],
   "source": [
    "# Psychometric characteristics of CASP-12\n",
    "\n",
    "psychometrics_12 <- data.frame(country = character(), \n",
    "                            alpha_wellbeing = numeric(), \n",
    "                            alpha_control = numeric(), \n",
    "                            alpha_autonomy = numeric(),\n",
    "                            alpha_pleasure = numeric(),\n",
    "                            alpha_selfactualization = numeric()               \n",
    "                            )\n",
    "\n",
    "for(country in unique(casp_12$country)) {\n",
    "    scale_country <- casp_12 %>%\n",
    "        filter(country == !!country)\n",
    "\n",
    "    alpha_wellbeing <- alpha(select(scale_country, item_1:item_12))\n",
    "    alpha_control <- alpha(select(scale_country, item_1:item_3))\n",
    "    alpha_autonomy <- alpha(select(scale_country, item_4:item_6))\n",
    "    alpha_pleasure <- alpha(select(scale_country, item_7:item_9))\n",
    "    alpha_selfactualization <- alpha(select(scale_country, item_10:item_12))\n",
    "\n",
    "    # Construct validity: Second-order CFA\n",
    "    cfa_model <- '\n",
    "    control =~ item_1 + item_2 + item_3\n",
    "    autonomy =~ item_4 + item_5 + item_6\n",
    "    pleasure =~ item_7 + item_8 + item_9\n",
    "    self_actualization =~ item_10 + item_11 + item_12\n",
    "    well_being =~ control + autonomy + pleasure + self_actualization\n",
    "    '\n",
    "\n",
    "    fit <- cfa(cfa_model, data = scale_country, estimator = \"MLR\")\n",
    "    fit_indices <- fitMeasures(fit, c(\"cfi\", \"tli\", \"rmsea\"))\n",
    "\n",
    "\n",
    "    psychometrics_12 <- rbind(psychometrics_12, data.frame(country = country, \n",
    "                                                     alpha_wellbeing = round(alpha_wellbeing$total$raw_alpha, 3),\n",
    "                                                     alpha_control = round(alpha_control$total$raw_alpha, 3),\n",
    "                                                     alpha_autonomy = round(alpha_autonomy$total$raw_alpha, 3),\n",
    "                                                     alpha_pleasure = round(alpha_pleasure$total$raw_alpha, 3),\n",
    "                                                     alpha_selfactualization = round(alpha_selfactualization$total$raw_alpha, 3),\n",
    "                                                     cfi = round(fit_indices[\"cfi\"], 3),\n",
    "                                                     tli = round(fit_indices[\"tli\"], 3),\n",
    "                                                     rmsea = round(fit_indices[\"rmsea\"], 3),\n",
    "                                                     stringsAsFactors = FALSE))\n",
    "\n",
    "   \n",
    "}\n",
    "\n",
    "psychometrics_12\n",
    "\n",
    "psychometrics_12 %>%\n",
    "  summarise(across(where(is.numeric), list(mean = ~mean(. , na.rm = TRUE), sd = ~sd(. , na.rm = TRUE), min = ~min(. , na.rm = TRUE), max = ~max(. , na.rm = TRUE))))"
   ]
  },
  {
   "cell_type": "markdown",
   "metadata": {},
   "source": [
    "# Relationship between divorce and well-being: LMM"
   ]
  },
  {
   "cell_type": "code",
   "execution_count": null,
   "metadata": {
    "vscode": {
     "languageId": "r"
    }
   },
   "outputs": [
    {
     "data": {
      "text/plain": [
       "Linear mixed model fit by REML. t-tests use Satterthwaite's method [\n",
       "lmerModLmerTest]\n",
       "Formula: scale(casp) ~ time + divorced + time * divorced + age_int + dn042_ +  \n",
       "    (1 | waves_compared) + (1 | country) + (1 + divorced * time ||  \n",
       "    mergeid)\n",
       "   Data: all_waves_final\n",
       "Control: lmerControl(optimizer = \"bobyqa\")\n",
       "\n",
       "REML criterion at convergence: 196739.5\n",
       "\n",
       "Scaled residuals: \n",
       "    Min      1Q  Median      3Q     Max \n",
       "-4.6341 -0.4605  0.0469  0.5023  3.6271 \n",
       "\n",
       "Random effects:\n",
       " Groups         Name          Variance Std.Dev.\n",
       " mergeid        divorced:time 0.083746 0.28939 \n",
       " mergeid.1      time          0.042942 0.20722 \n",
       " mergeid.2      divorced      0.099496 0.31543 \n",
       " mergeid.3      (Intercept)   0.470539 0.68596 \n",
       " country        (Intercept)   0.170372 0.41276 \n",
       " waves_compared (Intercept)   0.008022 0.08957 \n",
       " Residual                     0.320776 0.56637 \n",
       "Number of obs: 80988, groups:  mergeid, 40494; country, 20; waves_compared, 6\n",
       "\n",
       "Fixed effects:\n",
       "                Estimate Std. Error         df t value Pr(>|t|)    \n",
       "(Intercept)    1.218e+00  1.055e-01  2.943e+01  11.542 1.90e-12 ***\n",
       "time           1.009e-02  4.261e-03  4.556e+04   2.369   0.0179 *  \n",
       "divorced      -3.436e-01  5.444e-02  4.188e+02  -6.312 7.04e-10 ***\n",
       "age_int       -1.656e-02  4.791e-04  4.069e+04 -34.560  < 2e-16 ***\n",
       "dn042_        -8.937e-02  8.028e-03  4.047e+04 -11.132  < 2e-16 ***\n",
       "time:divorced  4.742e-02  5.044e-02  4.154e+02   0.940   0.3477    \n",
       "---\n",
       "Signif. codes:  0 '***' 0.001 '**' 0.01 '*' 0.05 '.' 0.1 ' ' 1\n",
       "\n",
       "Correlation of Fixed Effects:\n",
       "            (Intr) time   divrcd age_nt dn042_\n",
       "time         0.061                            \n",
       "divorced    -0.020  0.022                     \n",
       "age_int     -0.315 -0.249  0.051              \n",
       "dn042_      -0.150 -0.030  0.010  0.121       \n",
       "time:divrcd  0.002 -0.079 -0.387  0.000  0.000"
      ]
     },
     "metadata": {},
     "output_type": "display_data"
    },
    {
     "data": {
      "text/html": [
       "<table class=\"dataframe\">\n",
       "<caption>A matrix: 1 x 2 of type dbl</caption>\n",
       "<thead>\n",
       "\t<tr><th scope=col>R2m</th><th scope=col>R2c</th></tr>\n",
       "</thead>\n",
       "<tbody>\n",
       "\t<tr><td>0.02067337</td><td>0.6833989</td></tr>\n",
       "</tbody>\n",
       "</table>\n"
      ],
      "text/latex": [
       "A matrix: 1 x 2 of type dbl\n",
       "\\begin{tabular}{ll}\n",
       " R2m & R2c\\\\\n",
       "\\hline\n",
       "\t 0.02067337 & 0.6833989\\\\\n",
       "\\end{tabular}\n"
      ],
      "text/markdown": [
       "\n",
       "A matrix: 1 x 2 of type dbl\n",
       "\n",
       "| R2m | R2c |\n",
       "|---|---|\n",
       "| 0.02067337 | 0.6833989 |\n",
       "\n"
      ],
      "text/plain": [
       "     R2m        R2c      \n",
       "[1,] 0.02067337 0.6833989"
      ]
     },
     "metadata": {},
     "output_type": "display_data"
    }
   ],
   "source": [
    "# Create LME and it's summary\n",
    "\n",
    "model <- lmer(\n",
    "    scale(casp) ~ time + divorced + time * divorced + age_int + dn042_ + \n",
    "        (1 | waves_compared) + \n",
    "        (1 | country) + \n",
    "        (1 + divorced * time || mergeid), \n",
    "    data = all_waves_final, \n",
    "    control = lmerControl(optimizer = \"bobyqa\")\n",
    ")\n",
    "\n",
    "summary(model)\n",
    "r.squaredGLMM(model)\n",
    "\n"
   ]
  },
  {
   "cell_type": "code",
   "execution_count": null,
   "metadata": {
    "vscode": {
     "languageId": "r"
    }
   },
   "outputs": [
    {
     "name": "stdout",
     "output_type": "stream",
     "text": [
      "         time      divorced       age_int        dn042_ time:divorced \n",
      "     1.073495      1.180049      1.084723      1.014843      1.183369 \n"
     ]
    },
    {
     "data": {
      "image/png": "[encoded data removed]",
      "text/plain": [
       "plot without title"
      ]
     },
     "metadata": {
      "image/png": {
       "height": 420,
       "width": 420
      }
     },
     "output_type": "display_data"
    },
    {
     "data": {
      "image/png": "[encoded data removed]",
      "text/plain": [
       "Plot with title \"Normal Q-Q Plot\""
      ]
     },
     "metadata": {
      "image/png": {
       "height": 420,
       "width": 420
      }
     },
     "output_type": "display_data"
    },
    {
     "data": {
      "image/png": "[encoded data removed]",
      "text/plain": [
       "Plot with title \"Histogram of Residuals\""
      ]
     },
     "metadata": {
      "image/png": {
       "height": 420,
       "width": 420
      }
     },
     "output_type": "display_data"
    }
   ],
   "source": [
    "# Function for checking assumptions\n",
    "check_assumptions <- function(model) {\n",
    "\n",
    "    # Normality and homoscedacity\n",
    "    plot(fitted(model), residuals(model))\n",
    "    abline(h = 0, col = \"red\")\n",
    "\n",
    "    # Collinearity\n",
    "    vif_values <- vif(model)\n",
    "    print(vif_values)\n",
    "\n",
    "    # Normality of residuals\n",
    "    qqnorm(residuals(model))\n",
    "    qqline(residuals(model))\n",
    "    hist(residuals(model), breaks = 30, main = \"Histogram of Residuals\")\n",
    "\n",
    "}\n",
    "\n",
    "check_assumptions(model)\n"
   ]
  },
  {
   "cell_type": "code",
   "execution_count": null,
   "metadata": {
    "vscode": {
     "languageId": "r"
    }
   },
   "outputs": [
    {
     "name": "stderr",
     "output_type": "stream",
     "text": [
      "\u001b[1m\u001b[22m`summarise()` has grouped output by 'waves_compared'. You can override using\n",
      "the `.groups` argument.\n"
     ]
    },
    {
     "data": {
      "text/html": [
       "<table class=\"dataframe\">\n",
       "<caption>A grouped_df: 12 x 3</caption>\n",
       "<thead>\n",
       "\t<tr><th scope=col>waves_compared</th><th scope=col>divorced</th><th scope=col>participants</th></tr>\n",
       "\t<tr><th scope=col>&lt;fct&gt;</th><th scope=col>&lt;dbl&gt;</th><th scope=col>&lt;int&gt;</th></tr>\n",
       "</thead>\n",
       "<tbody>\n",
       "\t<tr><td>1 - 2</td><td>0</td><td> 5080</td></tr>\n",
       "\t<tr><td>1 - 2</td><td>1</td><td>   31</td></tr>\n",
       "\t<tr><td>4 - 5</td><td>0</td><td> 3269</td></tr>\n",
       "\t<tr><td>4 - 5</td><td>1</td><td>   22</td></tr>\n",
       "\t<tr><td>5 - 6</td><td>0</td><td> 7110</td></tr>\n",
       "\t<tr><td>5 - 6</td><td>1</td><td>   53</td></tr>\n",
       "\t<tr><td>6 - 7</td><td>0</td><td>11792</td></tr>\n",
       "\t<tr><td>6 - 7</td><td>1</td><td>   89</td></tr>\n",
       "\t<tr><td>7 - 8</td><td>0</td><td> 6751</td></tr>\n",
       "\t<tr><td>7 - 8</td><td>1</td><td>   70</td></tr>\n",
       "\t<tr><td>8 - 9</td><td>0</td><td> 6188</td></tr>\n",
       "\t<tr><td>8 - 9</td><td>1</td><td>   39</td></tr>\n",
       "</tbody>\n",
       "</table>\n"
      ],
      "text/latex": [
       "A grouped\\_df: 12 x 3\n",
       "\\begin{tabular}{lll}\n",
       " waves\\_compared & divorced & participants\\\\\n",
       " <fct> & <dbl> & <int>\\\\\n",
       "\\hline\n",
       "\t 1 - 2 & 0 &  5080\\\\\n",
       "\t 1 - 2 & 1 &    31\\\\\n",
       "\t 4 - 5 & 0 &  3269\\\\\n",
       "\t 4 - 5 & 1 &    22\\\\\n",
       "\t 5 - 6 & 0 &  7110\\\\\n",
       "\t 5 - 6 & 1 &    53\\\\\n",
       "\t 6 - 7 & 0 & 11792\\\\\n",
       "\t 6 - 7 & 1 &    89\\\\\n",
       "\t 7 - 8 & 0 &  6751\\\\\n",
       "\t 7 - 8 & 1 &    70\\\\\n",
       "\t 8 - 9 & 0 &  6188\\\\\n",
       "\t 8 - 9 & 1 &    39\\\\\n",
       "\\end{tabular}\n"
      ],
      "text/markdown": [
       "\n",
       "A grouped_df: 12 x 3\n",
       "\n",
       "| waves_compared &lt;fct&gt; | divorced &lt;dbl&gt; | participants &lt;int&gt; |\n",
       "|---|---|---|\n",
       "| 1 - 2 | 0 |  5080 |\n",
       "| 1 - 2 | 1 |    31 |\n",
       "| 4 - 5 | 0 |  3269 |\n",
       "| 4 - 5 | 1 |    22 |\n",
       "| 5 - 6 | 0 |  7110 |\n",
       "| 5 - 6 | 1 |    53 |\n",
       "| 6 - 7 | 0 | 11792 |\n",
       "| 6 - 7 | 1 |    89 |\n",
       "| 7 - 8 | 0 |  6751 |\n",
       "| 7 - 8 | 1 |    70 |\n",
       "| 8 - 9 | 0 |  6188 |\n",
       "| 8 - 9 | 1 |    39 |\n",
       "\n"
      ],
      "text/plain": [
       "   waves_compared divorced participants\n",
       "1  1 - 2          0         5080       \n",
       "2  1 - 2          1           31       \n",
       "3  4 - 5          0         3269       \n",
       "4  4 - 5          1           22       \n",
       "5  5 - 6          0         7110       \n",
       "6  5 - 6          1           53       \n",
       "7  6 - 7          0        11792       \n",
       "8  6 - 7          1           89       \n",
       "9  7 - 8          0         6751       \n",
       "10 7 - 8          1           70       \n",
       "11 8 - 9          0         6188       \n",
       "12 8 - 9          1           39       "
      ]
     },
     "metadata": {},
     "output_type": "display_data"
    },
    {
     "data": {
      "text/html": [
       "<table class=\"dataframe\">\n",
       "<caption>A tibble: 6 x 3</caption>\n",
       "<thead>\n",
       "\t<tr><th scope=col>waves_compared</th><th scope=col>divorced_2_yrs</th><th scope=col>not_divorced</th></tr>\n",
       "\t<tr><th scope=col>&lt;fct&gt;</th><th scope=col>&lt;int&gt;</th><th scope=col>&lt;int&gt;</th></tr>\n",
       "</thead>\n",
       "<tbody>\n",
       "\t<tr><td>1 - 2</td><td>31</td><td> 5080</td></tr>\n",
       "\t<tr><td>4 - 5</td><td>22</td><td> 3269</td></tr>\n",
       "\t<tr><td>5 - 6</td><td>53</td><td> 7110</td></tr>\n",
       "\t<tr><td>6 - 7</td><td>89</td><td>11792</td></tr>\n",
       "\t<tr><td>7 - 8</td><td>70</td><td> 6751</td></tr>\n",
       "\t<tr><td>8 - 9</td><td>39</td><td> 6188</td></tr>\n",
       "</tbody>\n",
       "</table>\n"
      ],
      "text/latex": [
       "A tibble: 6 x 3\n",
       "\\begin{tabular}{lll}\n",
       " waves\\_compared & divorced\\_2\\_yrs & not\\_divorced\\\\\n",
       " <fct> & <int> & <int>\\\\\n",
       "\\hline\n",
       "\t 1 - 2 & 31 &  5080\\\\\n",
       "\t 4 - 5 & 22 &  3269\\\\\n",
       "\t 5 - 6 & 53 &  7110\\\\\n",
       "\t 6 - 7 & 89 & 11792\\\\\n",
       "\t 7 - 8 & 70 &  6751\\\\\n",
       "\t 8 - 9 & 39 &  6188\\\\\n",
       "\\end{tabular}\n"
      ],
      "text/markdown": [
       "\n",
       "A tibble: 6 x 3\n",
       "\n",
       "| waves_compared &lt;fct&gt; | divorced_2_yrs &lt;int&gt; | not_divorced &lt;int&gt; |\n",
       "|---|---|---|\n",
       "| 1 - 2 | 31 |  5080 |\n",
       "| 4 - 5 | 22 |  3269 |\n",
       "| 5 - 6 | 53 |  7110 |\n",
       "| 6 - 7 | 89 | 11792 |\n",
       "| 7 - 8 | 70 |  6751 |\n",
       "| 8 - 9 | 39 |  6188 |\n",
       "\n"
      ],
      "text/plain": [
       "  waves_compared divorced_2_yrs not_divorced\n",
       "1 1 - 2          31              5080       \n",
       "2 4 - 5          22              3269       \n",
       "3 5 - 6          53              7110       \n",
       "4 6 - 7          89             11792       \n",
       "5 7 - 8          70              6751       \n",
       "6 8 - 9          39              6188       "
      ]
     },
     "metadata": {},
     "output_type": "display_data"
    },
    {
     "data": {
      "text/html": [
       "<table class=\"dataframe\">\n",
       "<caption>A tibble: 1 x 2</caption>\n",
       "<thead>\n",
       "\t<tr><th scope=col>divorced_2_yrs</th><th scope=col>not_divorced</th></tr>\n",
       "\t<tr><th scope=col>&lt;int&gt;</th><th scope=col>&lt;int&gt;</th></tr>\n",
       "</thead>\n",
       "<tbody>\n",
       "\t<tr><td>304</td><td>40190</td></tr>\n",
       "</tbody>\n",
       "</table>\n"
      ],
      "text/latex": [
       "A tibble: 1 x 2\n",
       "\\begin{tabular}{ll}\n",
       " divorced\\_2\\_yrs & not\\_divorced\\\\\n",
       " <int> & <int>\\\\\n",
       "\\hline\n",
       "\t 304 & 40190\\\\\n",
       "\\end{tabular}\n"
      ],
      "text/markdown": [
       "\n",
       "A tibble: 1 x 2\n",
       "\n",
       "| divorced_2_yrs &lt;int&gt; | not_divorced &lt;int&gt; |\n",
       "|---|---|\n",
       "| 304 | 40190 |\n",
       "\n"
      ],
      "text/plain": [
       "  divorced_2_yrs not_divorced\n",
       "1 304            40190       "
      ]
     },
     "metadata": {},
     "output_type": "display_data"
    },
    {
     "data": {
      "text/html": [
       "<table class=\"dataframe\">\n",
       "<caption>A tibble: 6 x 3</caption>\n",
       "<thead>\n",
       "\t<tr><th scope=col>waves_compared</th><th scope=col>prop_divorced_2_yrs</th><th scope=col>prop_not_divorced</th></tr>\n",
       "\t<tr><th scope=col>&lt;fct&gt;</th><th scope=col>&lt;dbl&gt;</th><th scope=col>&lt;dbl&gt;</th></tr>\n",
       "</thead>\n",
       "<tbody>\n",
       "\t<tr><td>1 - 2</td><td>0.6</td><td>99.4</td></tr>\n",
       "\t<tr><td>4 - 5</td><td>0.7</td><td>99.3</td></tr>\n",
       "\t<tr><td>5 - 6</td><td>0.7</td><td>99.3</td></tr>\n",
       "\t<tr><td>6 - 7</td><td>0.7</td><td>99.3</td></tr>\n",
       "\t<tr><td>7 - 8</td><td>1.0</td><td>99.0</td></tr>\n",
       "\t<tr><td>8 - 9</td><td>0.6</td><td>99.4</td></tr>\n",
       "</tbody>\n",
       "</table>\n"
      ],
      "text/latex": [
       "A tibble: 6 x 3\n",
       "\\begin{tabular}{lll}\n",
       " waves\\_compared & prop\\_divorced\\_2\\_yrs & prop\\_not\\_divorced\\\\\n",
       " <fct> & <dbl> & <dbl>\\\\\n",
       "\\hline\n",
       "\t 1 - 2 & 0.6 & 99.4\\\\\n",
       "\t 4 - 5 & 0.7 & 99.3\\\\\n",
       "\t 5 - 6 & 0.7 & 99.3\\\\\n",
       "\t 6 - 7 & 0.7 & 99.3\\\\\n",
       "\t 7 - 8 & 1.0 & 99.0\\\\\n",
       "\t 8 - 9 & 0.6 & 99.4\\\\\n",
       "\\end{tabular}\n"
      ],
      "text/markdown": [
       "\n",
       "A tibble: 6 x 3\n",
       "\n",
       "| waves_compared &lt;fct&gt; | prop_divorced_2_yrs &lt;dbl&gt; | prop_not_divorced &lt;dbl&gt; |\n",
       "|---|---|---|\n",
       "| 1 - 2 | 0.6 | 99.4 |\n",
       "| 4 - 5 | 0.7 | 99.3 |\n",
       "| 5 - 6 | 0.7 | 99.3 |\n",
       "| 6 - 7 | 0.7 | 99.3 |\n",
       "| 7 - 8 | 1.0 | 99.0 |\n",
       "| 8 - 9 | 0.6 | 99.4 |\n",
       "\n"
      ],
      "text/plain": [
       "  waves_compared prop_divorced_2_yrs prop_not_divorced\n",
       "1 1 - 2          0.6                 99.4             \n",
       "2 4 - 5          0.7                 99.3             \n",
       "3 5 - 6          0.7                 99.3             \n",
       "4 6 - 7          0.7                 99.3             \n",
       "5 7 - 8          1.0                 99.0             \n",
       "6 8 - 9          0.6                 99.4             "
      ]
     },
     "metadata": {},
     "output_type": "display_data"
    },
    {
     "data": {
      "text/html": [
       "<table class=\"dataframe\">\n",
       "<caption>A tibble: 1 x 2</caption>\n",
       "<thead>\n",
       "\t<tr><th scope=col>prop_divorced_2_yrs</th><th scope=col>prop_not_divorced</th></tr>\n",
       "\t<tr><th scope=col>&lt;dbl&gt;</th><th scope=col>&lt;dbl&gt;</th></tr>\n",
       "</thead>\n",
       "<tbody>\n",
       "\t<tr><td>0.7166667</td><td>99.28333</td></tr>\n",
       "</tbody>\n",
       "</table>\n"
      ],
      "text/latex": [
       "A tibble: 1 x 2\n",
       "\\begin{tabular}{ll}\n",
       " prop\\_divorced\\_2\\_yrs & prop\\_not\\_divorced\\\\\n",
       " <dbl> & <dbl>\\\\\n",
       "\\hline\n",
       "\t 0.7166667 & 99.28333\\\\\n",
       "\\end{tabular}\n"
      ],
      "text/markdown": [
       "\n",
       "A tibble: 1 x 2\n",
       "\n",
       "| prop_divorced_2_yrs &lt;dbl&gt; | prop_not_divorced &lt;dbl&gt; |\n",
       "|---|---|\n",
       "| 0.7166667 | 99.28333 |\n",
       "\n"
      ],
      "text/plain": [
       "  prop_divorced_2_yrs prop_not_divorced\n",
       "1 0.7166667           99.28333         "
      ]
     },
     "metadata": {},
     "output_type": "display_data"
    },
    {
     "data": {
      "text/html": [
       "<table class=\"dataframe\">\n",
       "<caption>A tibble: 6 x 3</caption>\n",
       "<thead>\n",
       "\t<tr><th scope=col>waves_compared</th><th scope=col>mean_age</th><th scope=col>std_age</th></tr>\n",
       "\t<tr><th scope=col>&lt;fct&gt;</th><th scope=col>&lt;dbl&gt;</th><th scope=col>&lt;dbl&gt;</th></tr>\n",
       "</thead>\n",
       "<tbody>\n",
       "\t<tr><td>1 - 2</td><td>63.2</td><td>8.9</td></tr>\n",
       "\t<tr><td>4 - 5</td><td>67.0</td><td>8.2</td></tr>\n",
       "\t<tr><td>5 - 6</td><td>66.1</td><td>8.9</td></tr>\n",
       "\t<tr><td>6 - 7</td><td>66.4</td><td>8.5</td></tr>\n",
       "\t<tr><td>7 - 8</td><td>66.7</td><td>8.3</td></tr>\n",
       "\t<tr><td>8 - 9</td><td>68.3</td><td>7.7</td></tr>\n",
       "</tbody>\n",
       "</table>\n"
      ],
      "text/latex": [
       "A tibble: 6 x 3\n",
       "\\begin{tabular}{lll}\n",
       " waves\\_compared & mean\\_age & std\\_age\\\\\n",
       " <fct> & <dbl> & <dbl>\\\\\n",
       "\\hline\n",
       "\t 1 - 2 & 63.2 & 8.9\\\\\n",
       "\t 4 - 5 & 67.0 & 8.2\\\\\n",
       "\t 5 - 6 & 66.1 & 8.9\\\\\n",
       "\t 6 - 7 & 66.4 & 8.5\\\\\n",
       "\t 7 - 8 & 66.7 & 8.3\\\\\n",
       "\t 8 - 9 & 68.3 & 7.7\\\\\n",
       "\\end{tabular}\n"
      ],
      "text/markdown": [
       "\n",
       "A tibble: 6 x 3\n",
       "\n",
       "| waves_compared &lt;fct&gt; | mean_age &lt;dbl&gt; | std_age &lt;dbl&gt; |\n",
       "|---|---|---|\n",
       "| 1 - 2 | 63.2 | 8.9 |\n",
       "| 4 - 5 | 67.0 | 8.2 |\n",
       "| 5 - 6 | 66.1 | 8.9 |\n",
       "| 6 - 7 | 66.4 | 8.5 |\n",
       "| 7 - 8 | 66.7 | 8.3 |\n",
       "| 8 - 9 | 68.3 | 7.7 |\n",
       "\n"
      ],
      "text/plain": [
       "  waves_compared mean_age std_age\n",
       "1 1 - 2          63.2     8.9    \n",
       "2 4 - 5          67.0     8.2    \n",
       "3 5 - 6          66.1     8.9    \n",
       "4 6 - 7          66.4     8.5    \n",
       "5 7 - 8          66.7     8.3    \n",
       "6 8 - 9          68.3     7.7    "
      ]
     },
     "metadata": {},
     "output_type": "display_data"
    },
    {
     "data": {
      "text/html": [
       "<table class=\"dataframe\">\n",
       "<caption>A tibble: 1 x 2</caption>\n",
       "<thead>\n",
       "\t<tr><th scope=col>mean_age</th><th scope=col>std_age</th></tr>\n",
       "\t<tr><th scope=col>&lt;dbl&gt;</th><th scope=col>&lt;dbl&gt;</th></tr>\n",
       "</thead>\n",
       "<tbody>\n",
       "\t<tr><td>66.28333</td><td>8.416667</td></tr>\n",
       "</tbody>\n",
       "</table>\n"
      ],
      "text/latex": [
       "A tibble: 1 x 2\n",
       "\\begin{tabular}{ll}\n",
       " mean\\_age & std\\_age\\\\\n",
       " <dbl> & <dbl>\\\\\n",
       "\\hline\n",
       "\t 66.28333 & 8.416667\\\\\n",
       "\\end{tabular}\n"
      ],
      "text/markdown": [
       "\n",
       "A tibble: 1 x 2\n",
       "\n",
       "| mean_age &lt;dbl&gt; | std_age &lt;dbl&gt; |\n",
       "|---|---|\n",
       "| 66.28333 | 8.416667 |\n",
       "\n"
      ],
      "text/plain": [
       "  mean_age std_age \n",
       "1 66.28333 8.416667"
      ]
     },
     "metadata": {},
     "output_type": "display_data"
    },
    {
     "data": {
      "text/html": [
       "<table class=\"dataframe\">\n",
       "<caption>A tibble: 6 x 3</caption>\n",
       "<thead>\n",
       "\t<tr><th scope=col>waves_compared</th><th scope=col>male</th><th scope=col>female</th></tr>\n",
       "\t<tr><th scope=col>&lt;fct&gt;</th><th scope=col>&lt;int&gt;</th><th scope=col>&lt;int&gt;</th></tr>\n",
       "</thead>\n",
       "<tbody>\n",
       "\t<tr><td>1 - 2</td><td>2678</td><td>2433</td></tr>\n",
       "\t<tr><td>4 - 5</td><td>1632</td><td>1659</td></tr>\n",
       "\t<tr><td>5 - 6</td><td>3586</td><td>3577</td></tr>\n",
       "\t<tr><td>6 - 7</td><td>5953</td><td>5928</td></tr>\n",
       "\t<tr><td>7 - 8</td><td>3458</td><td>3363</td></tr>\n",
       "\t<tr><td>8 - 9</td><td>3131</td><td>3096</td></tr>\n",
       "</tbody>\n",
       "</table>\n"
      ],
      "text/latex": [
       "A tibble: 6 x 3\n",
       "\\begin{tabular}{lll}\n",
       " waves\\_compared & male & female\\\\\n",
       " <fct> & <int> & <int>\\\\\n",
       "\\hline\n",
       "\t 1 - 2 & 2678 & 2433\\\\\n",
       "\t 4 - 5 & 1632 & 1659\\\\\n",
       "\t 5 - 6 & 3586 & 3577\\\\\n",
       "\t 6 - 7 & 5953 & 5928\\\\\n",
       "\t 7 - 8 & 3458 & 3363\\\\\n",
       "\t 8 - 9 & 3131 & 3096\\\\\n",
       "\\end{tabular}\n"
      ],
      "text/markdown": [
       "\n",
       "A tibble: 6 x 3\n",
       "\n",
       "| waves_compared &lt;fct&gt; | male &lt;int&gt; | female &lt;int&gt; |\n",
       "|---|---|---|\n",
       "| 1 - 2 | 2678 | 2433 |\n",
       "| 4 - 5 | 1632 | 1659 |\n",
       "| 5 - 6 | 3586 | 3577 |\n",
       "| 6 - 7 | 5953 | 5928 |\n",
       "| 7 - 8 | 3458 | 3363 |\n",
       "| 8 - 9 | 3131 | 3096 |\n",
       "\n"
      ],
      "text/plain": [
       "  waves_compared male female\n",
       "1 1 - 2          2678 2433  \n",
       "2 4 - 5          1632 1659  \n",
       "3 5 - 6          3586 3577  \n",
       "4 6 - 7          5953 5928  \n",
       "5 7 - 8          3458 3363  \n",
       "6 8 - 9          3131 3096  "
      ]
     },
     "metadata": {},
     "output_type": "display_data"
    },
    {
     "data": {
      "text/html": [
       "<table class=\"dataframe\">\n",
       "<caption>A tibble: 1 x 2</caption>\n",
       "<thead>\n",
       "\t<tr><th scope=col>male</th><th scope=col>female</th></tr>\n",
       "\t<tr><th scope=col>&lt;int&gt;</th><th scope=col>&lt;int&gt;</th></tr>\n",
       "</thead>\n",
       "<tbody>\n",
       "\t<tr><td>20438</td><td>20056</td></tr>\n",
       "</tbody>\n",
       "</table>\n"
      ],
      "text/latex": [
       "A tibble: 1 x 2\n",
       "\\begin{tabular}{ll}\n",
       " male & female\\\\\n",
       " <int> & <int>\\\\\n",
       "\\hline\n",
       "\t 20438 & 20056\\\\\n",
       "\\end{tabular}\n"
      ],
      "text/markdown": [
       "\n",
       "A tibble: 1 x 2\n",
       "\n",
       "| male &lt;int&gt; | female &lt;int&gt; |\n",
       "|---|---|\n",
       "| 20438 | 20056 |\n",
       "\n"
      ],
      "text/plain": [
       "  male  female\n",
       "1 20438 20056 "
      ]
     },
     "metadata": {},
     "output_type": "display_data"
    },
    {
     "data": {
      "text/html": [
       "<table class=\"dataframe\">\n",
       "<caption>A tibble: 6 x 3</caption>\n",
       "<thead>\n",
       "\t<tr><th scope=col>waves_compared</th><th scope=col>prop_male</th><th scope=col>prop_female</th></tr>\n",
       "\t<tr><th scope=col>&lt;fct&gt;</th><th scope=col>&lt;dbl&gt;</th><th scope=col>&lt;dbl&gt;</th></tr>\n",
       "</thead>\n",
       "<tbody>\n",
       "\t<tr><td>1 - 2</td><td>52.4</td><td>47.6</td></tr>\n",
       "\t<tr><td>4 - 5</td><td>49.6</td><td>50.4</td></tr>\n",
       "\t<tr><td>5 - 6</td><td>50.1</td><td>49.9</td></tr>\n",
       "\t<tr><td>6 - 7</td><td>50.1</td><td>49.9</td></tr>\n",
       "\t<tr><td>7 - 8</td><td>50.7</td><td>49.3</td></tr>\n",
       "\t<tr><td>8 - 9</td><td>50.3</td><td>49.7</td></tr>\n",
       "</tbody>\n",
       "</table>\n"
      ],
      "text/latex": [
       "A tibble: 6 x 3\n",
       "\\begin{tabular}{lll}\n",
       " waves\\_compared & prop\\_male & prop\\_female\\\\\n",
       " <fct> & <dbl> & <dbl>\\\\\n",
       "\\hline\n",
       "\t 1 - 2 & 52.4 & 47.6\\\\\n",
       "\t 4 - 5 & 49.6 & 50.4\\\\\n",
       "\t 5 - 6 & 50.1 & 49.9\\\\\n",
       "\t 6 - 7 & 50.1 & 49.9\\\\\n",
       "\t 7 - 8 & 50.7 & 49.3\\\\\n",
       "\t 8 - 9 & 50.3 & 49.7\\\\\n",
       "\\end{tabular}\n"
      ],
      "text/markdown": [
       "\n",
       "A tibble: 6 x 3\n",
       "\n",
       "| waves_compared &lt;fct&gt; | prop_male &lt;dbl&gt; | prop_female &lt;dbl&gt; |\n",
       "|---|---|---|\n",
       "| 1 - 2 | 52.4 | 47.6 |\n",
       "| 4 - 5 | 49.6 | 50.4 |\n",
       "| 5 - 6 | 50.1 | 49.9 |\n",
       "| 6 - 7 | 50.1 | 49.9 |\n",
       "| 7 - 8 | 50.7 | 49.3 |\n",
       "| 8 - 9 | 50.3 | 49.7 |\n",
       "\n"
      ],
      "text/plain": [
       "  waves_compared prop_male prop_female\n",
       "1 1 - 2          52.4      47.6       \n",
       "2 4 - 5          49.6      50.4       \n",
       "3 5 - 6          50.1      49.9       \n",
       "4 6 - 7          50.1      49.9       \n",
       "5 7 - 8          50.7      49.3       \n",
       "6 8 - 9          50.3      49.7       "
      ]
     },
     "metadata": {},
     "output_type": "display_data"
    },
    {
     "data": {
      "text/html": [
       "<table class=\"dataframe\">\n",
       "<caption>A tibble: 1 x 2</caption>\n",
       "<thead>\n",
       "\t<tr><th scope=col>prop_male</th><th scope=col>prop_female</th></tr>\n",
       "\t<tr><th scope=col>&lt;dbl&gt;</th><th scope=col>&lt;dbl&gt;</th></tr>\n",
       "</thead>\n",
       "<tbody>\n",
       "\t<tr><td>50.53333</td><td>49.46667</td></tr>\n",
       "</tbody>\n",
       "</table>\n"
      ],
      "text/latex": [
       "A tibble: 1 x 2\n",
       "\\begin{tabular}{ll}\n",
       " prop\\_male & prop\\_female\\\\\n",
       " <dbl> & <dbl>\\\\\n",
       "\\hline\n",
       "\t 50.53333 & 49.46667\\\\\n",
       "\\end{tabular}\n"
      ],
      "text/markdown": [
       "\n",
       "A tibble: 1 x 2\n",
       "\n",
       "| prop_male &lt;dbl&gt; | prop_female &lt;dbl&gt; |\n",
       "|---|---|\n",
       "| 50.53333 | 49.46667 |\n",
       "\n"
      ],
      "text/plain": [
       "  prop_male prop_female\n",
       "1 50.53333  49.46667   "
      ]
     },
     "metadata": {},
     "output_type": "display_data"
    }
   ],
   "source": [
    "# Print demographic variables\n",
    "\n",
    "all_waves_model <- getData(model)\n",
    "\n",
    "# Check if the model filter more than it needed to\n",
    "all_waves_model %>%\n",
    "    group_by(waves_compared, divorced) %>%\n",
    "    summarize(\n",
    "        participants = n_distinct(mergeid)\n",
    "    )\n",
    "\n",
    "\n",
    "# Marital status (n)\n",
    "\n",
    "wave_summary <- all_waves_model %>%\n",
    "  distinct(mergeid, .keep_all = TRUE) %>%\n",
    "  group_by(waves_compared) %>%\n",
    "  summarise(\n",
    "    divorced_2_yrs = sum(divorced == 1),\n",
    "    not_divorced = sum(divorced == 0)\n",
    "  )\n",
    "\n",
    "wave_summary\n",
    "\n",
    "wave_summary %>%\n",
    "  summarise(across(-waves_compared, sum, na.rm = TRUE))\n",
    "\n",
    "# Marital status (%)\n",
    "\n",
    "wave_summary <- all_waves_model %>%\n",
    "  distinct(mergeid, .keep_all = TRUE) %>%\n",
    "  group_by(waves_compared) %>%\n",
    "  summarise(\n",
    "    prop_divorced_2_yrs = round(mean(divorced == 1) * 100, 1),\n",
    "    prop_not_divorced = round(mean(divorced == 0) *100, 1)\n",
    "  )\n",
    "\n",
    "wave_summary\n",
    "\n",
    "wave_summary %>%\n",
    "  summarise(across(-waves_compared, mean, na.rm = TRUE))\n",
    "\n",
    "# Age \n",
    "wave_summary <- all_waves_model %>%\n",
    "  distinct(mergeid, .keep_all = TRUE) %>%\n",
    "  group_by(waves_compared) %>%\n",
    "  summarise(\n",
    "    mean_age = round(mean(age_int), 1),\n",
    "    std_age = round(sd(age_int), 1),\n",
    "  )\n",
    "\n",
    "wave_summary\n",
    "\n",
    "wave_summary %>%\n",
    "  summarise(across(-waves_compared, mean, na.rm = TRUE))\n",
    "\n",
    "# Gender (n)\n",
    "\n",
    "wave_summary <- all_waves_model %>%\n",
    "  distinct(mergeid, .keep_all = TRUE) %>%\n",
    "  group_by(waves_compared) %>%\n",
    "  summarise(\n",
    "    male = sum(dn042_ == 1),\n",
    "    female = sum(dn042_ == 2)\n",
    "  )\n",
    "\n",
    "wave_summary\n",
    "\n",
    "wave_summary %>%\n",
    "  summarise(across(-waves_compared, sum, na.rm = TRUE))\n",
    "\n",
    "# Gender (%)\n",
    "\n",
    "wave_summary <- all_waves_model %>%\n",
    "  distinct(mergeid, .keep_all = TRUE) %>%\n",
    "  group_by(waves_compared) %>%\n",
    "  summarise(\n",
    "    prop_male = round(mean(dn042_ == 1) * 100, 1),\n",
    "    prop_female = round(mean(dn042_ == 2) *100, 1)\n",
    "  )\n",
    "\n",
    "wave_summary\n",
    "\n",
    "wave_summary %>%\n",
    "  summarise(across(-waves_compared, mean, na.rm = TRUE))"
   ]
  },
  {
   "cell_type": "markdown",
   "metadata": {},
   "source": [
    "# Individual differences: GMM"
   ]
  },
  {
   "cell_type": "code",
   "execution_count": null,
   "metadata": {
    "vscode": {
     "languageId": "r"
    }
   },
   "outputs": [],
   "source": [
    "# Convert mergeid to a unique numeric identifier and filter for divorced individuals\n",
    "\n",
    "all_waves_gmm <- all_waves_final %>%\n",
    "  group_by(mergeid) %>%\n",
    "  mutate(mergeid_numeric = cur_group_id()) %>%\n",
    "  ungroup() %>%\n",
    "  mutate(\n",
    "    time = as.factor(time)\n",
    "  ) %>%\n",
    "  filter(divorced == 1)"
   ]
  },
  {
   "cell_type": "code",
   "execution_count": null,
   "metadata": {
    "vscode": {
     "languageId": "r"
    }
   },
   "outputs": [],
   "source": [
    "# Create a baseline GMM and create a function to add GMM with more classes\n",
    "set.seed(2002)\n",
    "\n",
    "gmm <- hlme(\n",
    "  fixed = casp ~ time + age_int + dn042_,\n",
    "  random = ~1 + time,\n",
    "  subject = \"mergeid_numeric\",\n",
    "  ng = 1,\n",
    "  data = all_waves_gmm,\n",
    "  idiag = TRUE\n",
    ")\n",
    "\n",
    "fitGmm <- function(k) {\n",
    "    gridsearch(rep = 300, maxiter = 10, minit = gmm,\n",
    "                    hlme(\n",
    "                      fixed = casp ~ time  + age_int + dn042_,\n",
    "                      subject = \"mergeid_numeric\", \n",
    "                      random= ~ 1 + time,\n",
    "                      ng = k, \n",
    "                      data = all_waves_gmm, \n",
    "                      mixture = ~time, \n",
    "                      nwg = TRUE, \n",
    "                      idiag = TRUE))\n",
    "}"
   ]
  },
  {
   "cell_type": "code",
   "execution_count": null,
   "metadata": {
    "vscode": {
     "languageId": "r"
    }
   },
   "outputs": [],
   "source": [
    "# Create the GMMs\n",
    "gmms <- list()\n",
    "gmms[['1']] <- gmm\n",
    "\n",
    "for (k in 2:5) {\n",
    "    gmms[[as.character(k)]] <- fitGmm(k)\n",
    "}"
   ]
  },
  {
   "cell_type": "code",
   "execution_count": null,
   "metadata": {
    "vscode": {
     "languageId": "r"
    }
   },
   "outputs": [
    {
     "data": {
      "image/png": "[encoded data removed]",
      "text/plain": [
       "Plot with title \"BIC for Different Number of Classes\""
      ]
     },
     "metadata": {
      "image/png": {
       "height": 420,
       "width": 420
      }
     },
     "output_type": "display_data"
    }
   ],
   "source": [
    "# Plot BIC for each GMM to check how many classes to choose\n",
    "\n",
    "bic_values <- sapply(gmms, '[[', 'BIC')\n",
    "par(bg = \"white\")\n",
    "plot(as.integer(names(bic_values)), bic_values, type = 'b', xlab = 'Number of Classes', ylab = 'BIC', main = 'BIC for Different Number of Classes')\n",
    "\n",
    "# Select the best model based on BIC\n",
    "best_k <- which.min(bic_values)\n",
    "bestGmm <- gmms[[as.character(best_k)]]"
   ]
  },
  {
   "cell_type": "code",
   "execution_count": null,
   "metadata": {
    "vscode": {
     "languageId": "r"
    }
   },
   "outputs": [
    {
     "name": "stdout",
     "output_type": "stream",
     "text": [
      "Heterogenous linear mixed model \n",
      "     fitted by maximum likelihood method \n",
      " \n",
      "hlme(fixed = casp ~ time + age_int + dn042_, mixture = ~time, \n",
      "    random = ~1 + time, subject = \"mergeid_numeric\", ng = k, \n",
      "    idiag = TRUE, nwg = TRUE, data = all_waves_gmm)\n",
      " \n",
      "Statistical Model: \n",
      "     Dataset: all_waves_gmm \n",
      "     Number of subjects: 304 \n",
      "     Number of observations: 608 \n",
      "     Number of latent classes: 2 \n",
      "     Number of parameters: 11  \n",
      " \n",
      "Iteration process: \n",
      "     Convergence criteria satisfied \n",
      "     Number of iterations:  1 \n",
      "     Convergence criteria: parameters= 5.3e-11 \n",
      "                         : likelihood= 6.2e-11 \n",
      "                         : second derivatives= 1e-11 \n",
      " \n",
      "Goodness-of-fit statistics: \n",
      "     maximum log-likelihood: -1867.69  \n",
      "     AIC: 3757.38  \n",
      "     BIC: 3798.26  \n",
      " \n",
      " \n",
      "Maximum Likelihood Estimates: \n",
      " \n",
      "Fixed effects in the class-membership model:\n",
      "(the class of reference is the last class) \n",
      "\n",
      "                     coef      Se   Wald p-value\n",
      "intercept class1  0.03930 0.30612  0.128 0.89784\n",
      "\n",
      "Fixed effects in the longitudinal model:\n",
      "\n",
      "                     coef      Se   Wald p-value\n",
      "intercept class1 43.92117 2.87431 15.281 0.00000\n",
      "intercept class2 36.97947 3.02112 12.240 0.00000\n",
      "time1 class1      0.53120 0.50870  1.044 0.29638\n",
      "time1 class2     -0.19177 0.61661 -0.311 0.75579\n",
      "age_int          -0.02334 0.04615 -0.506 0.61311\n",
      "dn042_           -1.08883 0.51524 -2.113 0.03458\n",
      "\n",
      "\n",
      "Variance-covariance matrix of the random-effects:\n",
      "          intercept    time1\n",
      "intercept  24.85332         \n",
      "time1       0.00000 16.48122\n",
      "\n",
      "                                    coef      Se\n",
      "Proportional coefficient class1  0.32646 0.08643\n",
      "Residual standard error:         3.02201 0.28799\n",
      "\n"
     ]
    }
   ],
   "source": [
    "summary(bestGmm)"
   ]
  },
  {
   "cell_type": "code",
   "execution_count": null,
   "metadata": {
    "vscode": {
     "languageId": "r"
    }
   },
   "outputs": [
    {
     "name": "stdout",
     "output_type": "stream",
     "text": [
      "  Cluster Count Percentage.cluster_assignments Percentage.Freq\n",
      "1       1   175                              1        57.56579\n",
      "2       2   129                              2        42.43421\n"
     ]
    }
   ],
   "source": [
    "# Extract posterior probabilities\n",
    "post_prob <- bestGmm$pprob\n",
    "\n",
    "# Assign each individual to the cluster with the highest probability\n",
    "cluster_assignments <- apply(post_prob[, grep(\"prob\", names(post_prob))], 1, which.max)\n",
    "\n",
    "# Count the number of individuals in each cluster\n",
    "cluster_counts <- table(cluster_assignments)\n",
    "\n",
    "# Calculate percentages\n",
    "total_individuals <- length(cluster_assignments)\n",
    "cluster_percentages <- (cluster_counts / total_individuals) * 100\n",
    "\n",
    "# Combine counts and percentages into a data frame\n",
    "cluster_summary <- data.frame(\n",
    "  Cluster = names(cluster_counts),\n",
    "  Count = as.integer(cluster_counts),\n",
    "  Percentage = cluster_percentages\n",
    ")\n",
    "\n",
    "# Print the cluster summary\n",
    "print(cluster_summary)"
   ]
  },
  {
   "cell_type": "code",
   "execution_count": null,
   "metadata": {
    "vscode": {
     "languageId": "r"
    }
   },
   "outputs": [
    {
     "data": {
      "image/png": "[encoded data removed]",
      "text/plain": [
       "plot without title"
      ]
     },
     "metadata": {
      "image/png": {
       "height": 420,
       "width": 420
      }
     },
     "output_type": "display_data"
    }
   ],
   "source": [
    "# Assuming 'all_waves_gmm' includes covariates and their values for prediction\n",
    "data_pred <- data.frame(\n",
    "  time = unique(all_waves_gmm$time),\n",
    "  age_int = mean(all_waves_gmm$age_int, na.rm = TRUE),\n",
    "  dn042_ = mean(all_waves_gmm$dn042_, na.rm = TRUE)\n",
    ")\n",
    "\n",
    "# Predict for each class including covariates\n",
    "pred <- predictY(bestGmm, newdata = data_pred, var.time = \"time\")$pred\n",
    "\n",
    "# Convert prediction to data.table\n",
    "pred_dt <- as.data.table(pred)\n",
    "pred_dt[, Time := unique(all_waves_gmm$time)]\n",
    "\n",
    "# Melt the data for plotting\n",
    "melted_pred <- melt(pred_dt, id.vars = 'Time', variable.name = 'Class', value.name = 'casp')\n",
    "\n",
    "# Factorize the Class variable for better readability\n",
    "melted_pred$Class <- factor(melted_pred$Class, levels = paste0('Ypred_class', 1:best_k), labels = c(\"Stable Happy\", \"Stable Sad\"))\n",
    "\n",
    "# Plot the predictions\n",
    "ggplot(melted_pred, aes(x = Time, y = casp, color = Class, group = Class)) +\n",
    "  geom_line() +\n",
    "  geom_point() +  # Add points to emphasize categories\n",
    "  labs(\n",
    "    title = \"Trajectories of Well-being\",\n",
    "    x = \"Time\",\n",
    "    y = \"CASP\",\n",
    "    color = \"Class\"\n",
    "  ) +\n",
    "  scale_y_continuous(breaks = seq(12, 48, by = 6), limits = c(12, 48)) +\n",
    "  theme_minimal(base_size = 15)\n"
   ]
  }
 ],
 "metadata": {
  "kernelspec": {
   "display_name": "R",
   "language": "R",
   "name": "ir"
  },
  "language_info": {
   "codemirror_mode": "r",
   "file_extension": ".r",
   "mimetype": "text/x-r-source",
   "name": "R",
   "pygments_lexer": "r",
   "version": "4.4.0"
  }
 },
 "nbformat": 4,
 "nbformat_minor": 2
}
